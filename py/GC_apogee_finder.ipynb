{
 "cells": [
  {
   "cell_type": "markdown",
   "metadata": {},
   "source": [
    "# This notebook contains the necessary script to identify GC stars in APOGEE, using the Baumgardt et al structure and kinematic values for GCs, and the Harris et al 2010 catalogue of GC metallicities"
   ]
  },
  {
   "cell_type": "markdown",
   "metadata": {},
   "source": [
    "This code will only run assuming you have python 3 installed with the following modules: matplotlib, numpy, astropy, and tqdm. It also assumes that you have the Baumgardt table of GC fundamental parameters (found here https://people.smp.uq.edu.au/HolgerBaumgardt/globular/) and the Harris Galactic GC catalogue (see here http://physwww.mcmaster.ca/~harris/mwgc.dat) merged into a single file. Other than that, you will just need the APOGEE catalogue (or any Milky Way star catalogue with positions, radial velocities and metallicities) that you wish to find GCs in"
   ]
  },
  {
   "cell_type": "code",
   "execution_count": 1,
   "metadata": {},
   "outputs": [],
   "source": [
    "# load in the necessary modules\n",
    "import numpy as np\n",
    "import matplotlib.pyplot as plt\n",
    "import tqdm\n",
    "from astropy.io import fits"
   ]
  },
  {
   "cell_type": "markdown",
   "metadata": {},
   "source": [
    "# We will first load in the crossmatched Harris 2010+ Baumgardt et al catalogue"
   ]
  },
  {
   "cell_type": "markdown",
   "metadata": {},
   "source": [
    "Note: I used Topcat to get this crossmatched catalogue"
   ]
  },
  {
   "cell_type": "code",
   "execution_count": 2,
   "metadata": {},
   "outputs": [
    {
     "name": "stderr",
     "output_type": "stream",
     "text": [
      "WARNING: VerifyWarning: It is strongly recommended that column names contain only upper and lower-case ASCII letters, digits, or underscores for maximum compatibility with other software (got '[Fe/H]'). [astropy.io.fits.column]\n"
     ]
    }
   ],
   "source": [
    "# load in the cross-matched harris+Baumgardt catalogue\n",
    "harris_gc = fits.open('/Users/danny/Desktop/apogee-gc/apogee-gc-complete/data/harris+baumgardt.fits')\n",
    "data_gc = harris_gc[1].data\n",
    "\n",
    "# get the data\n",
    "names_gc = data_gc.field('Name') #gc name\n",
    "fe_h_gc = data_gc.field('[Fe/H]')#gc metallicity from Harris\n",
    "vlos_gc = data_gc.field('rad_vel') #gc radial velocity from Baumgardt\n",
    "rc_gc = data_gc.field('rc') #gc core radius from Baumgardt\n",
    "rt_gc = data_gc.field('rt') #gc tidal radius from Baumgardt\n",
    "glon_gc = data_gc.field('l') #gc longitude from Harris\n",
    "glat_gc = data_gc.field('b') #gc latitude from Harris\n",
    "rsun_gc = data_gc.field('R_sun(kpc)') #gc longitude from Harris\n",
    "vlos_disp_gc = data_gc.field('v_disp') #gc velocity dispersion from Baumgardt\n",
    "pmra_gc = data_gc.field('pmra')#gc pmra from Baumgardt\n",
    "pmdec_gc = data_gc.field('pmdec')#gc pmdec from Baumgardt\n",
    "pmra_gc_err = data_gc.field('pmra_err')#gc pmra error from Baumgardt\n",
    "pmdec_gc_err = data_gc.field('pmdec_err')#gc pmdec error from Baumgardt\n"
   ]
  },
  {
   "cell_type": "markdown",
   "metadata": {},
   "source": [
    "transform the radius values to parsec"
   ]
  },
  {
   "cell_type": "code",
   "execution_count": 3,
   "metadata": {},
   "outputs": [],
   "source": [
    "rsun_gc = np.asarray(rsun_gc,dtype=float) \n",
    "rsun_gc = rsun_gc*1000 #transform distance into parsecs"
   ]
  },
  {
   "cell_type": "markdown",
   "metadata": {},
   "source": [
    "calculate the tidal radius"
   ]
  },
  {
   "cell_type": "code",
   "execution_count": 4,
   "metadata": {},
   "outputs": [],
   "source": [
    "rt_degrees = np.tan(rt_gc/rsun_gc)*180/np.pi #now we have tidal radius in degrees"
   ]
  },
  {
   "cell_type": "code",
   "execution_count": 5,
   "metadata": {},
   "outputs": [
    {
     "name": "stderr",
     "output_type": "stream",
     "text": [
      "WARNING: VerifyWarning: It is strongly recommended that column names contain only upper and lower-case ASCII letters, digits, or underscores for maximum compatibility with other software (got '(m-M)V'). [astropy.io.fits.column]\n",
      "WARNING: VerifyWarning: It is strongly recommended that column names contain only upper and lower-case ASCII letters, digits, or underscores for maximum compatibility with other software (got '+/-_2'). [astropy.io.fits.column]\n",
      "WARNING: VerifyWarning: It is strongly recommended that column names contain only upper and lower-case ASCII letters, digits, or underscores for maximum compatibility with other software (got '+/-_2a'). [astropy.io.fits.column]\n"
     ]
    }
   ],
   "source": [
    "# load in the harris gc ids\n",
    "harris = fits.open('/Users/danny/Desktop/Master/data/harris2010.fits')\n",
    "data_h = harris[1].data\n",
    "names_h = data_h.field('ID') #gc name\n",
    "fehs_h = data_h.field('[Fe/H]') #gc met\n",
    "# eliminate the spaces in the names\n",
    "names_h = names_h.replace(\" \",\"\")"
   ]
  },
  {
   "cell_type": "code",
   "execution_count": 6,
   "metadata": {},
   "outputs": [],
   "source": [
    "# Apply a mask to eliminate any [Fe/H] = -9999 abundances\n",
    "mask_fsr1753 = fe_h_gc!='-9999'\n",
    "names_gc = names_gc[mask_fsr1753]\n",
    "fe_h_gc = fe_h_gc[mask_fsr1753]\n",
    "vlos_gc = vlos_gc[mask_fsr1753]\n",
    "rc_gc = rc_gc[mask_fsr1753]\n",
    "rt_gc = rt_gc[mask_fsr1753]\n",
    "glon_gc = glon_gc[mask_fsr1753]\n",
    "glat_gc = glat_gc[mask_fsr1753]\n",
    "vlos_disp_gc = vlos_disp_gc[mask_fsr1753]\n",
    "pmra_gc = pmra_gc[mask_fsr1753]\n",
    "pmdec_gc = pmdec_gc[mask_fsr1753]\n",
    "pmra_gc_err = pmra_gc_err[mask_fsr1753]\n",
    "pmdec_gc_err = pmdec_gc_err[mask_fsr1753]\n",
    "rt_d_gc = rt_degrees[mask_fsr1753]"
   ]
  },
  {
   "cell_type": "code",
   "execution_count": 7,
   "metadata": {},
   "outputs": [],
   "source": [
    "# load in the APOGEE (or any other) catalogue\n",
    "file = 'DR17_McMillan.fits'\n",
    "apogee = fits.open('/Users/danny/Desktop/Master/data/'+file)\n",
    "data = apogee[1].data\n",
    "# get the data\n",
    "apogee_id = data.field('APOGEE_ID') # ids\n",
    "fe_h = data.field('FE_H')  # metallicities\n",
    "vlos = data.field('VHELIO_AVG')  # radial velocities\n",
    "glon = data.field('GLON')  # longitudes \n",
    "glat = data.field('GLAT')  # latitudes"
   ]
  },
  {
   "cell_type": "code",
   "execution_count": 8,
   "metadata": {},
   "outputs": [],
   "source": [
    "# Change the list array to float\n",
    "fe_h_gc = np.asarray(fe_h_gc,dtype=float)"
   ]
  },
  {
   "cell_type": "markdown",
   "metadata": {},
   "source": [
    "# Find stars associated to Galactic GCs"
   ]
  },
  {
   "cell_type": "code",
   "execution_count": 9,
   "metadata": {},
   "outputs": [],
   "source": [
    "# set your save path directory to where all the GC txt files with the APOGEE ids will be saved\n",
    "savepath = '/Users/danny/Desktop/apogee-gc/dr17/unclipped/'"
   ]
  },
  {
   "cell_type": "code",
   "execution_count": 12,
   "metadata": {},
   "outputs": [
    {
     "name": "stderr",
     "output_type": "stream",
     "text": [
      "\n",
      "\n",
      "\n",
      "0it [00:00, ?it/s]\u001b[A\u001b[A\u001b[A\n",
      "\n",
      "\n",
      "1it [00:18, 18.51s/it]\u001b[A\u001b[A\u001b[A"
     ]
    },
    {
     "name": "stdout",
     "output_type": "stream",
     "text": [
      "There are 353 stars in NGC104\n"
     ]
    },
    {
     "name": "stderr",
     "output_type": "stream",
     "text": [
      "\n",
      "\n",
      "\n",
      "2it [00:36, 18.47s/it]\u001b[A\u001b[A\u001b[A"
     ]
    },
    {
     "name": "stdout",
     "output_type": "stream",
     "text": [
      "There are 49 stars in NGC288\n"
     ]
    },
    {
     "name": "stderr",
     "output_type": "stream",
     "text": [
      "\n",
      "\n",
      "\n",
      "3it [00:55, 18.47s/it]\u001b[A\u001b[A\u001b[A"
     ]
    },
    {
     "name": "stdout",
     "output_type": "stream",
     "text": [
      "There are 74 stars in NGC362\n"
     ]
    },
    {
     "name": "stderr",
     "output_type": "stream",
     "text": [
      "\n",
      "\n",
      "\n",
      "4it [01:13, 18.42s/it]\u001b[A\u001b[A\u001b[A"
     ]
    },
    {
     "name": "stdout",
     "output_type": "stream",
     "text": [
      "There are 0 stars in Whiting1\n"
     ]
    },
    {
     "name": "stderr",
     "output_type": "stream",
     "text": [
      "\n",
      "\n",
      "\n",
      "5it [01:31, 18.24s/it]\u001b[A\u001b[A\u001b[A"
     ]
    },
    {
     "name": "stdout",
     "output_type": "stream",
     "text": [
      "There are 0 stars in NGC1261\n"
     ]
    },
    {
     "name": "stderr",
     "output_type": "stream",
     "text": [
      "\n",
      "\n",
      "\n",
      "6it [01:49, 18.23s/it]\u001b[A\u001b[A\u001b[A"
     ]
    },
    {
     "name": "stdout",
     "output_type": "stream",
     "text": [
      "There are 0 stars in Pal1\n"
     ]
    },
    {
     "name": "stderr",
     "output_type": "stream",
     "text": [
      "\n",
      "\n",
      "\n",
      "7it [02:07, 18.18s/it]\u001b[A\u001b[A\u001b[A"
     ]
    },
    {
     "name": "stdout",
     "output_type": "stream",
     "text": [
      "There are 0 stars in AM1\n"
     ]
    },
    {
     "name": "stderr",
     "output_type": "stream",
     "text": [
      "\n",
      "\n",
      "\n",
      "8it [02:25, 18.11s/it]\u001b[A\u001b[A\u001b[A"
     ]
    },
    {
     "name": "stdout",
     "output_type": "stream",
     "text": [
      "There are 0 stars in Eridanus\n"
     ]
    },
    {
     "name": "stderr",
     "output_type": "stream",
     "text": [
      "\n",
      "\n",
      "\n",
      "9it [02:43, 18.14s/it]\u001b[A\u001b[A\u001b[A"
     ]
    },
    {
     "name": "stdout",
     "output_type": "stream",
     "text": [
      "There are 0 stars in Pal2\n"
     ]
    },
    {
     "name": "stderr",
     "output_type": "stream",
     "text": [
      "\n",
      "\n",
      "\n",
      "10it [03:02, 18.24s/it]\u001b[A\u001b[A\u001b[A"
     ]
    },
    {
     "name": "stdout",
     "output_type": "stream",
     "text": [
      "There are 63 stars in NGC1851\n"
     ]
    },
    {
     "name": "stderr",
     "output_type": "stream",
     "text": [
      "\n",
      "\n",
      "\n",
      "11it [03:20, 18.24s/it]\u001b[A\u001b[A\u001b[A"
     ]
    },
    {
     "name": "stdout",
     "output_type": "stream",
     "text": [
      "There are 29 stars in NGC1904\n"
     ]
    },
    {
     "name": "stderr",
     "output_type": "stream",
     "text": [
      "\n",
      "\n",
      "\n",
      "12it [03:39, 18.35s/it]\u001b[A\u001b[A\u001b[A"
     ]
    },
    {
     "name": "stdout",
     "output_type": "stream",
     "text": [
      "There are 0 stars in NGC2298\n"
     ]
    },
    {
     "name": "stderr",
     "output_type": "stream",
     "text": [
      "\n",
      "\n",
      "\n",
      "13it [03:58, 18.54s/it]\u001b[A\u001b[A\u001b[A"
     ]
    },
    {
     "name": "stdout",
     "output_type": "stream",
     "text": [
      "There are 82 stars in NGC2419\n"
     ]
    },
    {
     "name": "stderr",
     "output_type": "stream",
     "text": [
      "\n",
      "\n",
      "\n",
      "14it [04:17, 18.62s/it]\u001b[A\u001b[A\u001b[A"
     ]
    },
    {
     "name": "stdout",
     "output_type": "stream",
     "text": [
      "There are 0 stars in Pyxis\n"
     ]
    },
    {
     "name": "stderr",
     "output_type": "stream",
     "text": [
      "\n",
      "\n",
      "\n",
      "15it [04:35, 18.66s/it]\u001b[A\u001b[A\u001b[A"
     ]
    },
    {
     "name": "stdout",
     "output_type": "stream",
     "text": [
      "There are 111 stars in NGC2808\n"
     ]
    },
    {
     "name": "stderr",
     "output_type": "stream",
     "text": [
      "\n",
      "\n",
      "\n",
      "16it [04:53, 18.52s/it]\u001b[A\u001b[A\u001b[A"
     ]
    },
    {
     "name": "stdout",
     "output_type": "stream",
     "text": [
      "There are 0 stars in E3\n"
     ]
    },
    {
     "name": "stderr",
     "output_type": "stream",
     "text": [
      "\n",
      "\n",
      "\n",
      "17it [05:12, 18.65s/it]\u001b[A\u001b[A\u001b[A"
     ]
    },
    {
     "name": "stdout",
     "output_type": "stream",
     "text": [
      "There are 0 stars in Pal3\n"
     ]
    },
    {
     "name": "stderr",
     "output_type": "stream",
     "text": [
      "\n",
      "\n",
      "\n",
      "18it [05:32, 18.78s/it]\u001b[A\u001b[A\u001b[A"
     ]
    },
    {
     "name": "stdout",
     "output_type": "stream",
     "text": [
      "There are 210 stars in NGC3201\n"
     ]
    },
    {
     "name": "stderr",
     "output_type": "stream",
     "text": [
      "\n",
      "\n",
      "\n",
      "19it [05:51, 18.87s/it]\u001b[A\u001b[A\u001b[A"
     ]
    },
    {
     "name": "stdout",
     "output_type": "stream",
     "text": [
      "There are 0 stars in Pal4\n"
     ]
    },
    {
     "name": "stderr",
     "output_type": "stream",
     "text": [
      "\n",
      "\n",
      "\n",
      "20it [06:09, 18.79s/it]\u001b[A\u001b[A\u001b[A"
     ]
    },
    {
     "name": "stdout",
     "output_type": "stream",
     "text": [
      "There are 3 stars in NGC4147\n"
     ]
    },
    {
     "name": "stderr",
     "output_type": "stream",
     "text": [
      "\n",
      "\n",
      "\n",
      "21it [06:28, 18.71s/it]\u001b[A\u001b[A\u001b[A"
     ]
    },
    {
     "name": "stdout",
     "output_type": "stream",
     "text": [
      "There are 0 stars in NGC4372\n"
     ]
    },
    {
     "name": "stderr",
     "output_type": "stream",
     "text": [
      "\n",
      "\n",
      "\n",
      "22it [06:46, 18.72s/it]\u001b[A\u001b[A\u001b[A"
     ]
    },
    {
     "name": "stdout",
     "output_type": "stream",
     "text": [
      "There are 3 stars in Rup106\n"
     ]
    },
    {
     "name": "stderr",
     "output_type": "stream",
     "text": [
      "\n",
      "\n",
      "\n",
      "23it [07:06, 18.94s/it]\u001b[A\u001b[A\u001b[A"
     ]
    },
    {
     "name": "stdout",
     "output_type": "stream",
     "text": [
      "There are 41 stars in NGC4590\n"
     ]
    },
    {
     "name": "stderr",
     "output_type": "stream",
     "text": [
      "\n",
      "\n",
      "\n",
      "24it [07:25, 18.86s/it]\u001b[A\u001b[A\u001b[A"
     ]
    },
    {
     "name": "stdout",
     "output_type": "stream",
     "text": [
      "There are 0 stars in NGC4833\n"
     ]
    },
    {
     "name": "stderr",
     "output_type": "stream",
     "text": [
      "\n",
      "\n",
      "\n",
      "25it [07:45, 19.20s/it]\u001b[A\u001b[A\u001b[A"
     ]
    },
    {
     "name": "stdout",
     "output_type": "stream",
     "text": [
      "There are 46 stars in NGC5024\n"
     ]
    },
    {
     "name": "stderr",
     "output_type": "stream",
     "text": [
      "\n",
      "\n",
      "\n",
      "26it [08:03, 19.00s/it]\u001b[A\u001b[A\u001b[A"
     ]
    },
    {
     "name": "stdout",
     "output_type": "stream",
     "text": [
      "There are 15 stars in NGC5053\n"
     ]
    },
    {
     "name": "stderr",
     "output_type": "stream",
     "text": [
      "\n",
      "\n",
      "\n",
      "27it [08:21, 18.75s/it]\u001b[A\u001b[A\u001b[A"
     ]
    },
    {
     "name": "stdout",
     "output_type": "stream",
     "text": [
      "There are 1439 stars in NGC5139\n"
     ]
    },
    {
     "name": "stderr",
     "output_type": "stream",
     "text": [
      "\n",
      "\n",
      "\n",
      "28it [08:39, 18.47s/it]\u001b[A\u001b[A\u001b[A"
     ]
    },
    {
     "name": "stdout",
     "output_type": "stream",
     "text": [
      "There are 300 stars in NGC5272\n"
     ]
    },
    {
     "name": "stderr",
     "output_type": "stream",
     "text": [
      "\n",
      "\n",
      "\n",
      "29it [08:58, 18.55s/it]\u001b[A\u001b[A\u001b[A"
     ]
    },
    {
     "name": "stdout",
     "output_type": "stream",
     "text": [
      "There are 3 stars in NGC5286\n"
     ]
    },
    {
     "name": "stderr",
     "output_type": "stream",
     "text": [
      "\n",
      "\n",
      "\n",
      "30it [09:17, 18.63s/it]\u001b[A\u001b[A\u001b[A"
     ]
    },
    {
     "name": "stdout",
     "output_type": "stream",
     "text": [
      "There are 0 stars in AM4\n"
     ]
    },
    {
     "name": "stderr",
     "output_type": "stream",
     "text": [
      "\n",
      "\n",
      "\n",
      "31it [09:35, 18.44s/it]\u001b[A\u001b[A\u001b[A"
     ]
    },
    {
     "name": "stdout",
     "output_type": "stream",
     "text": [
      "There are 16 stars in NGC5466\n"
     ]
    },
    {
     "name": "stderr",
     "output_type": "stream",
     "text": [
      "\n",
      "\n",
      "\n",
      "32it [09:52, 18.25s/it]\u001b[A\u001b[A\u001b[A"
     ]
    },
    {
     "name": "stdout",
     "output_type": "stream",
     "text": [
      "There are 64 stars in NGC5634\n"
     ]
    },
    {
     "name": "stderr",
     "output_type": "stream",
     "text": [
      "\n",
      "\n",
      "\n",
      "33it [10:10, 18.12s/it]\u001b[A\u001b[A\u001b[A"
     ]
    },
    {
     "name": "stdout",
     "output_type": "stream",
     "text": [
      "There are 0 stars in NGC5694\n"
     ]
    },
    {
     "name": "stderr",
     "output_type": "stream",
     "text": [
      "\n",
      "\n",
      "\n",
      "34it [10:29, 18.35s/it]\u001b[A\u001b[A\u001b[A"
     ]
    },
    {
     "name": "stdout",
     "output_type": "stream",
     "text": [
      "There are 0 stars in IC4499\n"
     ]
    },
    {
     "name": "stderr",
     "output_type": "stream",
     "text": [
      "\n",
      "\n",
      "\n",
      "35it [10:47, 18.27s/it]\u001b[A\u001b[A\u001b[A"
     ]
    },
    {
     "name": "stdout",
     "output_type": "stream",
     "text": [
      "There are 0 stars in NGC5824\n"
     ]
    },
    {
     "name": "stderr",
     "output_type": "stream",
     "text": [
      "\n",
      "\n",
      "\n",
      "36it [11:06, 18.34s/it]\u001b[A\u001b[A\u001b[A"
     ]
    },
    {
     "name": "stdout",
     "output_type": "stream",
     "text": [
      "There are 5 stars in Pal5\n"
     ]
    },
    {
     "name": "stderr",
     "output_type": "stream",
     "text": [
      "\n",
      "\n",
      "\n",
      "37it [11:24, 18.25s/it]\u001b[A\u001b[A\u001b[A"
     ]
    },
    {
     "name": "stdout",
     "output_type": "stream",
     "text": [
      "There are 0 stars in NGC5897\n"
     ]
    },
    {
     "name": "stderr",
     "output_type": "stream",
     "text": [
      "\n",
      "\n",
      "\n",
      "38it [11:42, 18.21s/it]\u001b[A\u001b[A\u001b[A"
     ]
    },
    {
     "name": "stdout",
     "output_type": "stream",
     "text": [
      "There are 294 stars in NGC5904\n"
     ]
    },
    {
     "name": "stderr",
     "output_type": "stream",
     "text": [
      "\n",
      "\n",
      "\n",
      "39it [12:00, 18.14s/it]\u001b[A\u001b[A\u001b[A"
     ]
    },
    {
     "name": "stdout",
     "output_type": "stream",
     "text": [
      "There are 2 stars in NGC5927\n"
     ]
    },
    {
     "name": "stderr",
     "output_type": "stream",
     "text": [
      "\n",
      "\n",
      "\n",
      "40it [12:20, 18.85s/it]\u001b[A\u001b[A\u001b[A"
     ]
    },
    {
     "name": "stdout",
     "output_type": "stream",
     "text": [
      "There are 0 stars in NGC5946\n"
     ]
    },
    {
     "name": "stderr",
     "output_type": "stream",
     "text": [
      "\n",
      "\n",
      "\n",
      "41it [12:43, 19.92s/it]\u001b[A\u001b[A\u001b[A"
     ]
    },
    {
     "name": "stdout",
     "output_type": "stream",
     "text": [
      "There are 0 stars in NGC5986\n"
     ]
    },
    {
     "name": "stderr",
     "output_type": "stream",
     "text": [
      "\n",
      "\n",
      "\n",
      "42it [13:02, 19.79s/it]\u001b[A\u001b[A\u001b[A"
     ]
    },
    {
     "name": "stdout",
     "output_type": "stream",
     "text": [
      "There are 0 stars in Pal14\n"
     ]
    },
    {
     "name": "stderr",
     "output_type": "stream",
     "text": [
      "\n",
      "\n",
      "\n",
      "43it [13:20, 19.27s/it]\u001b[A\u001b[A\u001b[A"
     ]
    },
    {
     "name": "stdout",
     "output_type": "stream",
     "text": [
      "There are 0 stars in Lynga7\n"
     ]
    },
    {
     "name": "stderr",
     "output_type": "stream",
     "text": [
      "\n",
      "\n",
      "\n",
      "44it [13:38, 18.94s/it]\u001b[A\u001b[A\u001b[A"
     ]
    },
    {
     "name": "stdout",
     "output_type": "stream",
     "text": [
      "There are 63 stars in NGC6093\n"
     ]
    },
    {
     "name": "stderr",
     "output_type": "stream",
     "text": [
      "\n",
      "\n",
      "\n",
      "45it [13:56, 18.58s/it]\u001b[A\u001b[A\u001b[A"
     ]
    },
    {
     "name": "stdout",
     "output_type": "stream",
     "text": [
      "There are 263 stars in NGC6121\n"
     ]
    },
    {
     "name": "stderr",
     "output_type": "stream",
     "text": [
      "\n",
      "\n",
      "\n",
      "46it [14:14, 18.29s/it]\u001b[A\u001b[A\u001b[A"
     ]
    },
    {
     "name": "stdout",
     "output_type": "stream",
     "text": [
      "There are 0 stars in NGC6101\n"
     ]
    },
    {
     "name": "stderr",
     "output_type": "stream",
     "text": [
      "\n",
      "\n",
      "\n",
      "47it [14:33, 18.52s/it]\u001b[A\u001b[A\u001b[A"
     ]
    },
    {
     "name": "stdout",
     "output_type": "stream",
     "text": [
      "There are 0 stars in NGC6144\n"
     ]
    },
    {
     "name": "stderr",
     "output_type": "stream",
     "text": [
      "\n",
      "\n",
      "\n",
      "48it [14:51, 18.53s/it]\u001b[A\u001b[A\u001b[A"
     ]
    },
    {
     "name": "stdout",
     "output_type": "stream",
     "text": [
      "There are 0 stars in NGC6139\n"
     ]
    },
    {
     "name": "stderr",
     "output_type": "stream",
     "text": [
      "\n",
      "\n",
      "\n",
      "49it [15:11, 18.71s/it]\u001b[A\u001b[A\u001b[A"
     ]
    },
    {
     "name": "stdout",
     "output_type": "stream",
     "text": [
      "There are 0 stars in Terzan3\n"
     ]
    },
    {
     "name": "stderr",
     "output_type": "stream",
     "text": [
      "\n",
      "\n",
      "\n",
      "50it [15:29, 18.77s/it]\u001b[A\u001b[A\u001b[A"
     ]
    },
    {
     "name": "stdout",
     "output_type": "stream",
     "text": [
      "There are 104 stars in NGC6171\n"
     ]
    },
    {
     "name": "stderr",
     "output_type": "stream",
     "text": [
      "\n",
      "\n",
      "\n",
      "51it [15:48, 18.63s/it]\u001b[A\u001b[A\u001b[A"
     ]
    },
    {
     "name": "stdout",
     "output_type": "stream",
     "text": [
      "There are 147 stars in NGC6205\n"
     ]
    },
    {
     "name": "stderr",
     "output_type": "stream",
     "text": [
      "\n",
      "\n",
      "\n",
      "52it [16:06, 18.64s/it]\u001b[A\u001b[A\u001b[A"
     ]
    },
    {
     "name": "stdout",
     "output_type": "stream",
     "text": [
      "There are 13 stars in NGC6229\n"
     ]
    },
    {
     "name": "stderr",
     "output_type": "stream",
     "text": [
      "\n",
      "\n",
      "\n",
      "53it [16:25, 18.66s/it]\u001b[A\u001b[A\u001b[A"
     ]
    },
    {
     "name": "stdout",
     "output_type": "stream",
     "text": [
      "There are 207 stars in NGC6218\n"
     ]
    },
    {
     "name": "stderr",
     "output_type": "stream",
     "text": [
      "\n",
      "\n",
      "\n",
      "54it [16:43, 18.52s/it]\u001b[A\u001b[A\u001b[A"
     ]
    },
    {
     "name": "stdout",
     "output_type": "stream",
     "text": [
      "There are 0 stars in NGC6235\n"
     ]
    },
    {
     "name": "stderr",
     "output_type": "stream",
     "text": [
      "\n",
      "\n",
      "\n",
      "55it [17:02, 18.50s/it]\u001b[A\u001b[A\u001b[A"
     ]
    },
    {
     "name": "stdout",
     "output_type": "stream",
     "text": [
      "There are 103 stars in NGC6254\n"
     ]
    },
    {
     "name": "stderr",
     "output_type": "stream",
     "text": [
      "\n",
      "\n",
      "\n",
      "56it [17:20, 18.34s/it]\u001b[A\u001b[A\u001b[A"
     ]
    },
    {
     "name": "stdout",
     "output_type": "stream",
     "text": [
      "There are 0 stars in NGC6256\n"
     ]
    },
    {
     "name": "stderr",
     "output_type": "stream",
     "text": [
      "\n",
      "\n",
      "\n",
      "57it [17:38, 18.36s/it]\u001b[A\u001b[A\u001b[A"
     ]
    },
    {
     "name": "stdout",
     "output_type": "stream",
     "text": [
      "There are 0 stars in Pal15\n"
     ]
    },
    {
     "name": "stderr",
     "output_type": "stream",
     "text": [
      "\n",
      "\n",
      "\n",
      "58it [17:57, 18.41s/it]\u001b[A\u001b[A\u001b[A"
     ]
    },
    {
     "name": "stdout",
     "output_type": "stream",
     "text": [
      "There are 0 stars in NGC6266\n"
     ]
    },
    {
     "name": "stderr",
     "output_type": "stream",
     "text": [
      "\n",
      "\n",
      "\n",
      "59it [18:16, 18.53s/it]\u001b[A\u001b[A\u001b[A"
     ]
    },
    {
     "name": "stdout",
     "output_type": "stream",
     "text": [
      "There are 89 stars in NGC6273\n"
     ]
    },
    {
     "name": "stderr",
     "output_type": "stream",
     "text": [
      "\n",
      "\n",
      "\n",
      "60it [18:36, 19.13s/it]\u001b[A\u001b[A\u001b[A"
     ]
    },
    {
     "name": "stdout",
     "output_type": "stream",
     "text": [
      "There are 0 stars in NGC6284\n"
     ]
    },
    {
     "name": "stderr",
     "output_type": "stream",
     "text": [
      "\n",
      "\n",
      "\n",
      "61it [18:55, 19.14s/it]\u001b[A\u001b[A\u001b[A"
     ]
    },
    {
     "name": "stdout",
     "output_type": "stream",
     "text": [
      "There are 0 stars in NGC6287\n"
     ]
    },
    {
     "name": "stderr",
     "output_type": "stream",
     "text": [
      "\n",
      "\n",
      "\n",
      "62it [19:15, 19.25s/it]\u001b[A\u001b[A\u001b[A"
     ]
    },
    {
     "name": "stdout",
     "output_type": "stream",
     "text": [
      "There are 20 stars in NGC6293\n"
     ]
    },
    {
     "name": "stderr",
     "output_type": "stream",
     "text": [
      "\n",
      "\n",
      "\n",
      "63it [19:33, 18.82s/it]\u001b[A\u001b[A\u001b[A"
     ]
    },
    {
     "name": "stdout",
     "output_type": "stream",
     "text": [
      "There are 39 stars in NGC6304\n"
     ]
    },
    {
     "name": "stderr",
     "output_type": "stream",
     "text": [
      "\n",
      "\n",
      "\n",
      "64it [19:52, 18.88s/it]\u001b[A\u001b[A\u001b[A"
     ]
    },
    {
     "name": "stdout",
     "output_type": "stream",
     "text": [
      "There are 33 stars in NGC6316\n"
     ]
    },
    {
     "name": "stderr",
     "output_type": "stream",
     "text": [
      "\n",
      "\n",
      "\n",
      "65it [20:10, 18.80s/it]\u001b[A\u001b[A\u001b[A"
     ]
    },
    {
     "name": "stdout",
     "output_type": "stream",
     "text": [
      "There are 97 stars in NGC6341\n"
     ]
    },
    {
     "name": "stderr",
     "output_type": "stream",
     "text": [
      "\n",
      "\n",
      "\n",
      "66it [20:29, 18.78s/it]\u001b[A\u001b[A\u001b[A"
     ]
    },
    {
     "name": "stdout",
     "output_type": "stream",
     "text": [
      "There are 5 stars in NGC6325\n"
     ]
    },
    {
     "name": "stderr",
     "output_type": "stream",
     "text": [
      "\n",
      "\n",
      "\n",
      "67it [20:48, 18.85s/it]\u001b[A\u001b[A\u001b[A"
     ]
    },
    {
     "name": "stdout",
     "output_type": "stream",
     "text": [
      "There are 0 stars in NGC6333\n"
     ]
    },
    {
     "name": "stderr",
     "output_type": "stream",
     "text": [
      "\n",
      "\n",
      "\n",
      "68it [21:07, 18.78s/it]\u001b[A\u001b[A\u001b[A"
     ]
    },
    {
     "name": "stdout",
     "output_type": "stream",
     "text": [
      "There are 0 stars in NGC6342\n"
     ]
    },
    {
     "name": "stderr",
     "output_type": "stream",
     "text": [
      "\n",
      "\n",
      "\n",
      "69it [21:24, 18.43s/it]\u001b[A\u001b[A\u001b[A"
     ]
    },
    {
     "name": "stdout",
     "output_type": "stream",
     "text": [
      "There are 0 stars in NGC6356\n"
     ]
    },
    {
     "name": "stderr",
     "output_type": "stream",
     "text": [
      "\n",
      "\n",
      "\n",
      "70it [21:42, 18.11s/it]\u001b[A\u001b[A\u001b[A"
     ]
    },
    {
     "name": "stdout",
     "output_type": "stream",
     "text": [
      "There are 0 stars in NGC6355\n"
     ]
    },
    {
     "name": "stderr",
     "output_type": "stream",
     "text": [
      "\n",
      "\n",
      "\n",
      "71it [21:59, 18.03s/it]\u001b[A\u001b[A\u001b[A"
     ]
    },
    {
     "name": "stdout",
     "output_type": "stream",
     "text": [
      "There are 0 stars in NGC6352\n"
     ]
    },
    {
     "name": "stderr",
     "output_type": "stream",
     "text": [
      "\n",
      "\n",
      "\n",
      "72it [22:17, 18.03s/it]\u001b[A\u001b[A\u001b[A"
     ]
    },
    {
     "name": "stdout",
     "output_type": "stream",
     "text": [
      "There are 0 stars in IC1257\n"
     ]
    },
    {
     "name": "stderr",
     "output_type": "stream",
     "text": [
      "\n",
      "\n",
      "\n",
      "73it [22:35, 17.92s/it]\u001b[A\u001b[A\u001b[A"
     ]
    },
    {
     "name": "stdout",
     "output_type": "stream",
     "text": [
      "There are 4 stars in Terzan2\n"
     ]
    },
    {
     "name": "stderr",
     "output_type": "stream",
     "text": [
      "\n",
      "\n",
      "\n",
      "74it [22:52, 17.76s/it]\u001b[A\u001b[A\u001b[A"
     ]
    },
    {
     "name": "stdout",
     "output_type": "stream",
     "text": [
      "There are 0 stars in NGC6366\n"
     ]
    },
    {
     "name": "stderr",
     "output_type": "stream",
     "text": [
      "\n",
      "\n",
      "\n",
      "75it [23:10, 17.79s/it]\u001b[A\u001b[A\u001b[A"
     ]
    },
    {
     "name": "stdout",
     "output_type": "stream",
     "text": [
      "There are 5 stars in Terzan4\n"
     ]
    },
    {
     "name": "stderr",
     "output_type": "stream",
     "text": [
      "\n",
      "\n",
      "\n",
      "76it [23:28, 17.84s/it]\u001b[A\u001b[A\u001b[A"
     ]
    },
    {
     "name": "stdout",
     "output_type": "stream",
     "text": [
      "There are 22 stars in HP1\n"
     ]
    },
    {
     "name": "stderr",
     "output_type": "stream",
     "text": [
      "\n",
      "\n",
      "\n",
      "77it [23:47, 18.18s/it]\u001b[A\u001b[A\u001b[A"
     ]
    },
    {
     "name": "stdout",
     "output_type": "stream",
     "text": [
      "There are 0 stars in NGC6362\n"
     ]
    },
    {
     "name": "stderr",
     "output_type": "stream",
     "text": [
      "\n",
      "\n",
      "\n",
      "78it [24:06, 18.33s/it]\u001b[A\u001b[A\u001b[A"
     ]
    },
    {
     "name": "stdout",
     "output_type": "stream",
     "text": [
      "There are 15 stars in Liller1\n"
     ]
    },
    {
     "name": "stderr",
     "output_type": "stream",
     "text": [
      "\n",
      "\n",
      "\n",
      "79it [24:25, 18.58s/it]\u001b[A\u001b[A\u001b[A"
     ]
    },
    {
     "name": "stdout",
     "output_type": "stream",
     "text": [
      "There are 89 stars in NGC6380\n"
     ]
    },
    {
     "name": "stderr",
     "output_type": "stream",
     "text": [
      "\n",
      "\n",
      "\n",
      "80it [24:44, 18.58s/it]\u001b[A\u001b[A\u001b[A"
     ]
    },
    {
     "name": "stdout",
     "output_type": "stream",
     "text": [
      "There are 1 stars in Terzan1\n"
     ]
    },
    {
     "name": "stderr",
     "output_type": "stream",
     "text": [
      "\n",
      "\n",
      "\n",
      "81it [25:02, 18.58s/it]\u001b[A\u001b[A\u001b[A"
     ]
    },
    {
     "name": "stdout",
     "output_type": "stream",
     "text": [
      "There are 6 stars in Ton2\n"
     ]
    },
    {
     "name": "stderr",
     "output_type": "stream",
     "text": [
      "\n",
      "\n",
      "\n",
      "82it [25:21, 18.74s/it]\u001b[A\u001b[A\u001b[A"
     ]
    },
    {
     "name": "stdout",
     "output_type": "stream",
     "text": [
      "There are 92 stars in NGC6388\n"
     ]
    },
    {
     "name": "stderr",
     "output_type": "stream",
     "text": [
      "\n",
      "\n",
      "\n",
      "83it [25:40, 18.86s/it]\u001b[A\u001b[A\u001b[A"
     ]
    },
    {
     "name": "stdout",
     "output_type": "stream",
     "text": [
      "There are 6 stars in NGC6402\n"
     ]
    },
    {
     "name": "stderr",
     "output_type": "stream",
     "text": [
      "\n",
      "\n",
      "\n",
      "84it [25:59, 18.90s/it]\u001b[A\u001b[A\u001b[A"
     ]
    },
    {
     "name": "stdout",
     "output_type": "stream",
     "text": [
      "There are 12 stars in NGC6401\n"
     ]
    },
    {
     "name": "stderr",
     "output_type": "stream",
     "text": [
      "\n",
      "\n",
      "\n",
      "85it [26:19, 18.97s/it]\u001b[A\u001b[A\u001b[A"
     ]
    },
    {
     "name": "stdout",
     "output_type": "stream",
     "text": [
      "There are 251 stars in NGC6397\n"
     ]
    },
    {
     "name": "stderr",
     "output_type": "stream",
     "text": [
      "\n",
      "\n",
      "\n",
      "86it [26:37, 18.65s/it]\u001b[A\u001b[A\u001b[A"
     ]
    },
    {
     "name": "stdout",
     "output_type": "stream",
     "text": [
      "There are 19 stars in Pal6\n"
     ]
    },
    {
     "name": "stderr",
     "output_type": "stream",
     "text": [
      "\n",
      "\n",
      "\n",
      "87it [26:55, 18.62s/it]\u001b[A\u001b[A\u001b[A"
     ]
    },
    {
     "name": "stdout",
     "output_type": "stream",
     "text": [
      "There are 0 stars in NGC6426\n"
     ]
    },
    {
     "name": "stderr",
     "output_type": "stream",
     "text": [
      "\n",
      "\n",
      "\n",
      "88it [27:13, 18.41s/it]\u001b[A\u001b[A\u001b[A"
     ]
    },
    {
     "name": "stdout",
     "output_type": "stream",
     "text": [
      "There are 3 stars in Djorg1\n"
     ]
    },
    {
     "name": "stderr",
     "output_type": "stream",
     "text": [
      "\n",
      "\n",
      "\n",
      "89it [27:32, 18.45s/it]\u001b[A\u001b[A\u001b[A"
     ]
    },
    {
     "name": "stdout",
     "output_type": "stream",
     "text": [
      "There are 47 stars in Terzan5\n"
     ]
    },
    {
     "name": "stderr",
     "output_type": "stream",
     "text": [
      "\n",
      "\n",
      "\n",
      "90it [27:50, 18.34s/it]\u001b[A\u001b[A\u001b[A"
     ]
    },
    {
     "name": "stdout",
     "output_type": "stream",
     "text": [
      "There are 0 stars in NGC6440\n"
     ]
    },
    {
     "name": "stderr",
     "output_type": "stream",
     "text": [
      "\n",
      "\n",
      "\n",
      "91it [28:08, 18.29s/it]\u001b[A\u001b[A\u001b[A"
     ]
    },
    {
     "name": "stdout",
     "output_type": "stream",
     "text": [
      "There are 94 stars in NGC6441\n"
     ]
    },
    {
     "name": "stderr",
     "output_type": "stream",
     "text": [
      "\n",
      "\n",
      "\n",
      "92it [28:26, 18.16s/it]\u001b[A\u001b[A\u001b[A"
     ]
    },
    {
     "name": "stdout",
     "output_type": "stream",
     "text": [
      "There are 1 stars in Terzan6\n"
     ]
    },
    {
     "name": "stderr",
     "output_type": "stream",
     "text": [
      "\n",
      "\n",
      "\n",
      "93it [28:45, 18.44s/it]\u001b[A\u001b[A\u001b[A"
     ]
    },
    {
     "name": "stdout",
     "output_type": "stream",
     "text": [
      "There are 4 stars in NGC6453\n"
     ]
    },
    {
     "name": "stderr",
     "output_type": "stream",
     "text": [
      "\n",
      "\n",
      "\n",
      "94it [29:04, 18.56s/it]\u001b[A\u001b[A\u001b[A"
     ]
    },
    {
     "name": "stdout",
     "output_type": "stream",
     "text": [
      "There are 7 stars in UKS1\n"
     ]
    },
    {
     "name": "stderr",
     "output_type": "stream",
     "text": [
      "\n",
      "\n",
      "\n",
      "95it [29:22, 18.52s/it]\u001b[A\u001b[A\u001b[A"
     ]
    },
    {
     "name": "stdout",
     "output_type": "stream",
     "text": [
      "There are 0 stars in NGC6496\n"
     ]
    },
    {
     "name": "stderr",
     "output_type": "stream",
     "text": [
      "\n",
      "\n",
      "\n",
      "96it [29:39, 18.20s/it]\u001b[A\u001b[A\u001b[A"
     ]
    },
    {
     "name": "stdout",
     "output_type": "stream",
     "text": [
      "There are 1 stars in Terzan9\n"
     ]
    },
    {
     "name": "stderr",
     "output_type": "stream",
     "text": [
      "\n",
      "\n",
      "\n",
      "97it [29:58, 18.37s/it]\u001b[A\u001b[A\u001b[A"
     ]
    },
    {
     "name": "stdout",
     "output_type": "stream",
     "text": [
      "There are 27 stars in NGC6517\n"
     ]
    },
    {
     "name": "stderr",
     "output_type": "stream",
     "text": [
      "\n",
      "\n",
      "\n",
      "98it [30:17, 18.39s/it]\u001b[A\u001b[A\u001b[A"
     ]
    },
    {
     "name": "stdout",
     "output_type": "stream",
     "text": [
      "There are 75 stars in NGC6522\n"
     ]
    },
    {
     "name": "stderr",
     "output_type": "stream",
     "text": [
      "\n",
      "\n",
      "\n",
      "99it [30:36, 18.70s/it]\u001b[A\u001b[A\u001b[A"
     ]
    },
    {
     "name": "stdout",
     "output_type": "stream",
     "text": [
      "There are 0 stars in NGC6535\n"
     ]
    },
    {
     "name": "stderr",
     "output_type": "stream",
     "text": [
      "\n",
      "\n",
      "\n",
      "100it [30:55, 18.83s/it]\u001b[A\u001b[A\u001b[A"
     ]
    },
    {
     "name": "stdout",
     "output_type": "stream",
     "text": [
      "There are 5 stars in NGC6528\n"
     ]
    },
    {
     "name": "stderr",
     "output_type": "stream",
     "text": [
      "\n",
      "\n",
      "\n",
      "101it [31:14, 18.91s/it]\u001b[A\u001b[A\u001b[A"
     ]
    },
    {
     "name": "stdout",
     "output_type": "stream",
     "text": [
      "There are 19 stars in NGC6539\n"
     ]
    },
    {
     "name": "stderr",
     "output_type": "stream",
     "text": [
      "\n",
      "\n",
      "\n",
      "102it [31:35, 19.49s/it]\u001b[A\u001b[A\u001b[A"
     ]
    },
    {
     "name": "stdout",
     "output_type": "stream",
     "text": [
      "There are 23 stars in NGC6540\n"
     ]
    },
    {
     "name": "stderr",
     "output_type": "stream",
     "text": [
      "\n",
      "\n",
      "\n",
      "103it [31:56, 19.78s/it]\u001b[A\u001b[A\u001b[A"
     ]
    },
    {
     "name": "stdout",
     "output_type": "stream",
     "text": [
      "There are 400 stars in NGC6544\n"
     ]
    },
    {
     "name": "stderr",
     "output_type": "stream",
     "text": [
      "\n",
      "\n",
      "\n",
      "104it [32:15, 19.69s/it]\u001b[A\u001b[A\u001b[A"
     ]
    },
    {
     "name": "stdout",
     "output_type": "stream",
     "text": [
      "There are 0 stars in NGC6541\n"
     ]
    },
    {
     "name": "stderr",
     "output_type": "stream",
     "text": [
      "\n",
      "\n",
      "\n",
      "105it [32:35, 19.65s/it]\u001b[A\u001b[A\u001b[A"
     ]
    },
    {
     "name": "stdout",
     "output_type": "stream",
     "text": [
      "There are 71 stars in NGC6553\n"
     ]
    },
    {
     "name": "stderr",
     "output_type": "stream",
     "text": [
      "\n",
      "\n",
      "\n",
      "106it [32:54, 19.47s/it]\u001b[A\u001b[A\u001b[A"
     ]
    },
    {
     "name": "stdout",
     "output_type": "stream",
     "text": [
      "There are 6 stars in NGC6558\n"
     ]
    },
    {
     "name": "stderr",
     "output_type": "stream",
     "text": [
      "\n",
      "\n",
      "\n",
      "107it [33:12, 19.02s/it]\u001b[A\u001b[A\u001b[A"
     ]
    },
    {
     "name": "stdout",
     "output_type": "stream",
     "text": [
      "There are 0 stars in IC1276\n"
     ]
    },
    {
     "name": "stderr",
     "output_type": "stream",
     "text": [
      "\n",
      "\n",
      "\n",
      "108it [33:30, 18.79s/it]\u001b[A\u001b[A\u001b[A"
     ]
    },
    {
     "name": "stdout",
     "output_type": "stream",
     "text": [
      "There are 37 stars in NGC6569\n"
     ]
    },
    {
     "name": "stderr",
     "output_type": "stream",
     "text": [
      "\n",
      "\n",
      "\n",
      "109it [33:48, 18.48s/it]\u001b[A\u001b[A\u001b[A"
     ]
    },
    {
     "name": "stdout",
     "output_type": "stream",
     "text": [
      "There are 9 stars in BH261\n"
     ]
    },
    {
     "name": "stderr",
     "output_type": "stream",
     "text": [
      "\n",
      "\n",
      "\n",
      "110it [34:06, 18.50s/it]\u001b[A\u001b[A\u001b[A"
     ]
    },
    {
     "name": "stdout",
     "output_type": "stream",
     "text": [
      "There are 0 stars in NGC6584\n"
     ]
    },
    {
     "name": "stderr",
     "output_type": "stream",
     "text": [
      "\n",
      "\n",
      "\n",
      "111it [34:25, 18.68s/it]\u001b[A\u001b[A\u001b[A"
     ]
    },
    {
     "name": "stdout",
     "output_type": "stream",
     "text": [
      "There are 0 stars in NGC6624\n"
     ]
    },
    {
     "name": "stderr",
     "output_type": "stream",
     "text": [
      "\n",
      "\n",
      "\n",
      "112it [34:44, 18.53s/it]\u001b[A\u001b[A\u001b[A"
     ]
    },
    {
     "name": "stdout",
     "output_type": "stream",
     "text": [
      "There are 0 stars in NGC6626\n"
     ]
    },
    {
     "name": "stderr",
     "output_type": "stream",
     "text": [
      "\n",
      "\n",
      "\n",
      "113it [35:02, 18.54s/it]\u001b[A\u001b[A\u001b[A"
     ]
    },
    {
     "name": "stdout",
     "output_type": "stream",
     "text": [
      "There are 0 stars in NGC6638\n"
     ]
    },
    {
     "name": "stderr",
     "output_type": "stream",
     "text": [
      "\n",
      "\n",
      "\n",
      "114it [35:21, 18.54s/it]\u001b[A\u001b[A\u001b[A"
     ]
    },
    {
     "name": "stdout",
     "output_type": "stream",
     "text": [
      "There are 0 stars in NGC6637\n"
     ]
    },
    {
     "name": "stderr",
     "output_type": "stream",
     "text": [
      "\n",
      "\n",
      "\n",
      "115it [35:39, 18.47s/it]\u001b[A\u001b[A\u001b[A"
     ]
    },
    {
     "name": "stdout",
     "output_type": "stream",
     "text": [
      "There are 6 stars in NGC6642\n"
     ]
    },
    {
     "name": "stderr",
     "output_type": "stream",
     "text": [
      "\n",
      "\n",
      "\n",
      "116it [35:57, 18.33s/it]\u001b[A\u001b[A\u001b[A"
     ]
    },
    {
     "name": "stdout",
     "output_type": "stream",
     "text": [
      "There are 0 stars in NGC6652\n"
     ]
    },
    {
     "name": "stderr",
     "output_type": "stream",
     "text": [
      "\n",
      "\n",
      "\n",
      "117it [36:16, 18.52s/it]\u001b[A\u001b[A\u001b[A"
     ]
    },
    {
     "name": "stdout",
     "output_type": "stream",
     "text": [
      "There are 426 stars in NGC6656\n"
     ]
    },
    {
     "name": "stderr",
     "output_type": "stream",
     "text": [
      "\n",
      "\n",
      "\n",
      "118it [36:35, 18.64s/it]\u001b[A\u001b[A\u001b[A"
     ]
    },
    {
     "name": "stdout",
     "output_type": "stream",
     "text": [
      "There are 0 stars in Pal8\n"
     ]
    },
    {
     "name": "stderr",
     "output_type": "stream",
     "text": [
      "\n",
      "\n",
      "\n",
      "119it [36:54, 18.71s/it]\u001b[A\u001b[A\u001b[A"
     ]
    },
    {
     "name": "stdout",
     "output_type": "stream",
     "text": [
      "There are 0 stars in NGC6681\n"
     ]
    },
    {
     "name": "stderr",
     "output_type": "stream",
     "text": [
      "\n",
      "\n",
      "\n",
      "120it [37:12, 18.59s/it]\u001b[A\u001b[A\u001b[A"
     ]
    },
    {
     "name": "stdout",
     "output_type": "stream",
     "text": [
      "There are 0 stars in NGC6712\n"
     ]
    },
    {
     "name": "stderr",
     "output_type": "stream",
     "text": [
      "\n",
      "\n",
      "\n",
      "121it [37:31, 18.69s/it]\u001b[A\u001b[A\u001b[A"
     ]
    },
    {
     "name": "stdout",
     "output_type": "stream",
     "text": [
      "There are 920 stars in NGC6715\n"
     ]
    },
    {
     "name": "stderr",
     "output_type": "stream",
     "text": [
      "\n",
      "\n",
      "\n",
      "122it [37:48, 18.33s/it]\u001b[A\u001b[A\u001b[A"
     ]
    },
    {
     "name": "stdout",
     "output_type": "stream",
     "text": [
      "There are 0 stars in NGC6717\n"
     ]
    },
    {
     "name": "stderr",
     "output_type": "stream",
     "text": [
      "\n",
      "\n",
      "\n",
      "123it [38:06, 18.05s/it]\u001b[A\u001b[A\u001b[A"
     ]
    },
    {
     "name": "stdout",
     "output_type": "stream",
     "text": [
      "There are 13 stars in NGC6723\n"
     ]
    },
    {
     "name": "stderr",
     "output_type": "stream",
     "text": [
      "\n",
      "\n",
      "\n",
      "124it [38:23, 17.93s/it]\u001b[A\u001b[A\u001b[A"
     ]
    },
    {
     "name": "stdout",
     "output_type": "stream",
     "text": [
      "There are 0 stars in NGC6749\n"
     ]
    },
    {
     "name": "stderr",
     "output_type": "stream",
     "text": [
      "\n",
      "\n",
      "\n",
      "125it [38:41, 17.74s/it]\u001b[A\u001b[A\u001b[A"
     ]
    },
    {
     "name": "stdout",
     "output_type": "stream",
     "text": [
      "There are 235 stars in NGC6752\n"
     ]
    },
    {
     "name": "stderr",
     "output_type": "stream",
     "text": [
      "\n",
      "\n",
      "\n",
      "126it [38:58, 17.50s/it]\u001b[A\u001b[A\u001b[A"
     ]
    },
    {
     "name": "stdout",
     "output_type": "stream",
     "text": [
      "There are 18 stars in NGC6760\n"
     ]
    },
    {
     "name": "stderr",
     "output_type": "stream",
     "text": [
      "\n",
      "\n",
      "\n",
      "127it [39:14, 17.29s/it]\u001b[A\u001b[A\u001b[A"
     ]
    },
    {
     "name": "stdout",
     "output_type": "stream",
     "text": [
      "There are 0 stars in NGC6779\n"
     ]
    },
    {
     "name": "stderr",
     "output_type": "stream",
     "text": [
      "\n",
      "\n",
      "\n",
      "128it [39:31, 17.12s/it]\u001b[A\u001b[A\u001b[A"
     ]
    },
    {
     "name": "stdout",
     "output_type": "stream",
     "text": [
      "There are 0 stars in Terzan7\n"
     ]
    },
    {
     "name": "stderr",
     "output_type": "stream",
     "text": [
      "\n",
      "\n",
      "\n",
      "129it [39:48, 17.02s/it]\u001b[A\u001b[A\u001b[A"
     ]
    },
    {
     "name": "stdout",
     "output_type": "stream",
     "text": [
      "There are 9 stars in Pal10\n"
     ]
    },
    {
     "name": "stderr",
     "output_type": "stream",
     "text": [
      "\n",
      "\n",
      "\n",
      "130it [40:05, 16.93s/it]\u001b[A\u001b[A\u001b[A"
     ]
    },
    {
     "name": "stdout",
     "output_type": "stream",
     "text": [
      "There are 0 stars in Arp2\n"
     ]
    },
    {
     "name": "stderr",
     "output_type": "stream",
     "text": [
      "\n",
      "\n",
      "\n",
      "131it [40:21, 16.87s/it]\u001b[A\u001b[A\u001b[A"
     ]
    },
    {
     "name": "stdout",
     "output_type": "stream",
     "text": [
      "There are 99 stars in NGC6809\n"
     ]
    },
    {
     "name": "stderr",
     "output_type": "stream",
     "text": [
      "\n",
      "\n",
      "\n",
      "132it [40:38, 16.84s/it]\u001b[A\u001b[A\u001b[A"
     ]
    },
    {
     "name": "stdout",
     "output_type": "stream",
     "text": [
      "There are 0 stars in Terzan8\n"
     ]
    },
    {
     "name": "stderr",
     "output_type": "stream",
     "text": [
      "\n",
      "\n",
      "\n",
      "133it [40:55, 16.82s/it]\u001b[A\u001b[A\u001b[A"
     ]
    },
    {
     "name": "stdout",
     "output_type": "stream",
     "text": [
      "There are 0 stars in Pal11\n"
     ]
    },
    {
     "name": "stderr",
     "output_type": "stream",
     "text": [
      "\n",
      "\n",
      "\n",
      "134it [41:12, 16.82s/it]\u001b[A\u001b[A\u001b[A"
     ]
    },
    {
     "name": "stdout",
     "output_type": "stream",
     "text": [
      "There are 161 stars in NGC6838\n"
     ]
    },
    {
     "name": "stderr",
     "output_type": "stream",
     "text": [
      "\n",
      "\n",
      "\n",
      "135it [41:29, 16.80s/it]\u001b[A\u001b[A\u001b[A"
     ]
    },
    {
     "name": "stdout",
     "output_type": "stream",
     "text": [
      "There are 0 stars in NGC6864\n"
     ]
    },
    {
     "name": "stderr",
     "output_type": "stream",
     "text": [
      "\n",
      "\n",
      "\n",
      "136it [41:45, 16.79s/it]\u001b[A\u001b[A\u001b[A"
     ]
    },
    {
     "name": "stdout",
     "output_type": "stream",
     "text": [
      "There are 0 stars in NGC6934\n"
     ]
    },
    {
     "name": "stderr",
     "output_type": "stream",
     "text": [
      "\n",
      "\n",
      "\n",
      "137it [42:02, 16.81s/it]\u001b[A\u001b[A\u001b[A"
     ]
    },
    {
     "name": "stdout",
     "output_type": "stream",
     "text": [
      "There are 0 stars in NGC6981\n"
     ]
    },
    {
     "name": "stderr",
     "output_type": "stream",
     "text": [
      "\n",
      "\n",
      "\n",
      "138it [42:19, 16.81s/it]\u001b[A\u001b[A\u001b[A"
     ]
    },
    {
     "name": "stdout",
     "output_type": "stream",
     "text": [
      "There are 0 stars in NGC7006\n"
     ]
    },
    {
     "name": "stderr",
     "output_type": "stream",
     "text": [
      "\n",
      "\n",
      "\n",
      "139it [42:36, 16.85s/it]\u001b[A\u001b[A\u001b[A"
     ]
    },
    {
     "name": "stdout",
     "output_type": "stream",
     "text": [
      "There are 231 stars in NGC7078\n"
     ]
    },
    {
     "name": "stderr",
     "output_type": "stream",
     "text": [
      "\n",
      "\n",
      "\n",
      "140it [42:53, 16.95s/it]\u001b[A\u001b[A\u001b[A"
     ]
    },
    {
     "name": "stdout",
     "output_type": "stream",
     "text": [
      "There are 144 stars in NGC7089\n"
     ]
    },
    {
     "name": "stderr",
     "output_type": "stream",
     "text": [
      "\n",
      "\n",
      "\n",
      "141it [43:10, 16.88s/it]\u001b[A\u001b[A\u001b[A"
     ]
    },
    {
     "name": "stdout",
     "output_type": "stream",
     "text": [
      "There are 0 stars in NGC7099\n"
     ]
    },
    {
     "name": "stderr",
     "output_type": "stream",
     "text": [
      "\n",
      "\n",
      "\n",
      "142it [43:27, 16.85s/it]\u001b[A\u001b[A\u001b[A"
     ]
    },
    {
     "name": "stdout",
     "output_type": "stream",
     "text": [
      "There are 0 stars in Pal12\n"
     ]
    },
    {
     "name": "stderr",
     "output_type": "stream",
     "text": [
      "\n",
      "\n",
      "\n",
      "143it [43:43, 16.83s/it]\u001b[A\u001b[A\u001b[A"
     ]
    },
    {
     "name": "stdout",
     "output_type": "stream",
     "text": [
      "There are 0 stars in Pal13\n"
     ]
    },
    {
     "name": "stderr",
     "output_type": "stream",
     "text": [
      "\n",
      "\n",
      "\n",
      "144it [44:00, 18.34s/it]\u001b[A\u001b[A\u001b[A"
     ]
    },
    {
     "name": "stdout",
     "output_type": "stream",
     "text": [
      "There are 0 stars in NGC7492\n"
     ]
    },
    {
     "name": "stderr",
     "output_type": "stream",
     "text": [
      "\n"
     ]
    }
   ],
   "source": [
    "# loop through all the GCs and find stars in APOGEE given their radial velocities and projected distances\n",
    "from math import nan\n",
    "for indx2,j in tqdm.tqdm(enumerate(glon_gc)):\n",
    "    a=indx2 #get the index\n",
    "    b = names_gc[a] #find the GC name associated to that index\n",
    "    gcs_indx = [] #create an array to which associate a gc name to a star\n",
    "    for indx,i in enumerate(range(glon.shape[0]-1)):\n",
    "#           calculate the projected distance of a star to the cluster\n",
    "        d = np.sqrt(((glon[i]-glon_gc[a])*(np.cos(glat_gc[a]*np.pi/180)))**2+((glat[i]-glat_gc[a])**2))\n",
    "#     if the difference in the radial velocity of the star and that of the GC\n",
    "#     is within 2 values of the velocity dispersion of the cluster, we will accept the star as a preliminary candidate\n",
    "        if (np.fabs(vlos[i]-vlos_gc[a])<=(2*vlos_disp_gc[a])):\n",
    "#         it must also have a projected distance within 2 values of the GC tidal radius (in degrees)\n",
    "            if d<=((2*rt_d_gc[a])):\n",
    "                    gcs_indx.append(indx)\n",
    "    print('There are '+str(len(gcs_indx))+' stars in '+str(b)) # print how many stars are identified in each GC\n",
    "    gcs_id = apogee_id[gcs_indx].T\n",
    "    gc_name = np.array([b]*len(gcs_id)).T\n",
    "    total = ((gc_name,gcs_id))\n",
    "    rec = np.recarray(len(gcs_id), dtype=[('apogee_id',object),('name', object)])\n",
    "    rec['apogee_id'] = gcs_id\n",
    "    rec['name'] = gc_name\n",
    "    np.savetxt(savepath+b+'.txt',rec,fmt='%s')     # save each GC file as a txt file in your out directory\n"
   ]
  },
  {
   "cell_type": "markdown",
   "metadata": {},
   "source": [
    "# Now load in all the separate GC files and concatenate them into one big file"
   ]
  },
  {
   "cell_type": "code",
   "execution_count": 12,
   "metadata": {},
   "outputs": [
    {
     "name": "stderr",
     "output_type": "stream",
     "text": [
      "/Users/danny/opt/anaconda3/lib/python3.7/site-packages/ipykernel_launcher.py:8: UserWarning: loadtxt: Empty input file: \"/Users/danny/Desktop/apogee-gc/dr17/unclipped/AM1.txt\"\n",
      "  \n",
      "/Users/danny/opt/anaconda3/lib/python3.7/site-packages/ipykernel_launcher.py:8: UserWarning: loadtxt: Empty input file: \"/Users/danny/Desktop/apogee-gc/dr17/unclipped/AM4.txt\"\n",
      "  \n",
      "/Users/danny/opt/anaconda3/lib/python3.7/site-packages/ipykernel_launcher.py:8: UserWarning: loadtxt: Empty input file: \"/Users/danny/Desktop/apogee-gc/dr17/unclipped/Arp2.txt\"\n",
      "  \n",
      "/Users/danny/opt/anaconda3/lib/python3.7/site-packages/ipykernel_launcher.py:8: UserWarning: loadtxt: Empty input file: \"/Users/danny/Desktop/apogee-gc/dr17/unclipped/E3.txt\"\n",
      "  \n",
      "/Users/danny/opt/anaconda3/lib/python3.7/site-packages/ipykernel_launcher.py:8: UserWarning: loadtxt: Empty input file: \"/Users/danny/Desktop/apogee-gc/dr17/unclipped/Eridanus.txt\"\n",
      "  \n",
      "/Users/danny/opt/anaconda3/lib/python3.7/site-packages/ipykernel_launcher.py:8: UserWarning: loadtxt: Empty input file: \"/Users/danny/Desktop/apogee-gc/dr17/unclipped/IC1257.txt\"\n",
      "  \n",
      "/Users/danny/opt/anaconda3/lib/python3.7/site-packages/ipykernel_launcher.py:8: UserWarning: loadtxt: Empty input file: \"/Users/danny/Desktop/apogee-gc/dr17/unclipped/IC1276.txt\"\n",
      "  \n",
      "/Users/danny/opt/anaconda3/lib/python3.7/site-packages/ipykernel_launcher.py:8: UserWarning: loadtxt: Empty input file: \"/Users/danny/Desktop/apogee-gc/dr17/unclipped/IC4499.txt\"\n",
      "  \n",
      "/Users/danny/opt/anaconda3/lib/python3.7/site-packages/ipykernel_launcher.py:8: UserWarning: loadtxt: Empty input file: \"/Users/danny/Desktop/apogee-gc/dr17/unclipped/Lynga7.txt\"\n",
      "  \n",
      "/Users/danny/opt/anaconda3/lib/python3.7/site-packages/ipykernel_launcher.py:8: UserWarning: loadtxt: Empty input file: \"/Users/danny/Desktop/apogee-gc/dr17/unclipped/NGC1261.txt\"\n",
      "  \n",
      "/Users/danny/opt/anaconda3/lib/python3.7/site-packages/ipykernel_launcher.py:8: UserWarning: loadtxt: Empty input file: \"/Users/danny/Desktop/apogee-gc/dr17/unclipped/NGC2298.txt\"\n",
      "  \n",
      "/Users/danny/opt/anaconda3/lib/python3.7/site-packages/ipykernel_launcher.py:8: UserWarning: loadtxt: Empty input file: \"/Users/danny/Desktop/apogee-gc/dr17/unclipped/NGC4372.txt\"\n",
      "  \n",
      "/Users/danny/opt/anaconda3/lib/python3.7/site-packages/ipykernel_launcher.py:8: UserWarning: loadtxt: Empty input file: \"/Users/danny/Desktop/apogee-gc/dr17/unclipped/NGC4833.txt\"\n",
      "  \n",
      "/Users/danny/opt/anaconda3/lib/python3.7/site-packages/ipykernel_launcher.py:8: UserWarning: loadtxt: Empty input file: \"/Users/danny/Desktop/apogee-gc/dr17/unclipped/NGC5694.txt\"\n",
      "  \n",
      "/Users/danny/opt/anaconda3/lib/python3.7/site-packages/ipykernel_launcher.py:8: UserWarning: loadtxt: Empty input file: \"/Users/danny/Desktop/apogee-gc/dr17/unclipped/NGC5824.txt\"\n",
      "  \n",
      "/Users/danny/opt/anaconda3/lib/python3.7/site-packages/ipykernel_launcher.py:8: UserWarning: loadtxt: Empty input file: \"/Users/danny/Desktop/apogee-gc/dr17/unclipped/NGC5897.txt\"\n",
      "  \n",
      "/Users/danny/opt/anaconda3/lib/python3.7/site-packages/ipykernel_launcher.py:8: UserWarning: loadtxt: Empty input file: \"/Users/danny/Desktop/apogee-gc/dr17/unclipped/NGC5946.txt\"\n",
      "  \n",
      "/Users/danny/opt/anaconda3/lib/python3.7/site-packages/ipykernel_launcher.py:8: UserWarning: loadtxt: Empty input file: \"/Users/danny/Desktop/apogee-gc/dr17/unclipped/NGC5986.txt\"\n",
      "  \n",
      "/Users/danny/opt/anaconda3/lib/python3.7/site-packages/ipykernel_launcher.py:8: UserWarning: loadtxt: Empty input file: \"/Users/danny/Desktop/apogee-gc/dr17/unclipped/NGC6101.txt\"\n",
      "  \n",
      "/Users/danny/opt/anaconda3/lib/python3.7/site-packages/ipykernel_launcher.py:8: UserWarning: loadtxt: Empty input file: \"/Users/danny/Desktop/apogee-gc/dr17/unclipped/NGC6139.txt\"\n",
      "  \n",
      "/Users/danny/opt/anaconda3/lib/python3.7/site-packages/ipykernel_launcher.py:8: UserWarning: loadtxt: Empty input file: \"/Users/danny/Desktop/apogee-gc/dr17/unclipped/NGC6144.txt\"\n",
      "  \n",
      "/Users/danny/opt/anaconda3/lib/python3.7/site-packages/ipykernel_launcher.py:8: UserWarning: loadtxt: Empty input file: \"/Users/danny/Desktop/apogee-gc/dr17/unclipped/NGC6235.txt\"\n",
      "  \n",
      "/Users/danny/opt/anaconda3/lib/python3.7/site-packages/ipykernel_launcher.py:8: UserWarning: loadtxt: Empty input file: \"/Users/danny/Desktop/apogee-gc/dr17/unclipped/NGC6256.txt\"\n",
      "  \n",
      "/Users/danny/opt/anaconda3/lib/python3.7/site-packages/ipykernel_launcher.py:8: UserWarning: loadtxt: Empty input file: \"/Users/danny/Desktop/apogee-gc/dr17/unclipped/NGC6266.txt\"\n",
      "  \n",
      "/Users/danny/opt/anaconda3/lib/python3.7/site-packages/ipykernel_launcher.py:8: UserWarning: loadtxt: Empty input file: \"/Users/danny/Desktop/apogee-gc/dr17/unclipped/NGC6284.txt\"\n",
      "  \n",
      "/Users/danny/opt/anaconda3/lib/python3.7/site-packages/ipykernel_launcher.py:8: UserWarning: loadtxt: Empty input file: \"/Users/danny/Desktop/apogee-gc/dr17/unclipped/NGC6287.txt\"\n",
      "  \n",
      "/Users/danny/opt/anaconda3/lib/python3.7/site-packages/ipykernel_launcher.py:8: UserWarning: loadtxt: Empty input file: \"/Users/danny/Desktop/apogee-gc/dr17/unclipped/NGC6333.txt\"\n",
      "  \n",
      "/Users/danny/opt/anaconda3/lib/python3.7/site-packages/ipykernel_launcher.py:8: UserWarning: loadtxt: Empty input file: \"/Users/danny/Desktop/apogee-gc/dr17/unclipped/NGC6342.txt\"\n",
      "  \n",
      "/Users/danny/opt/anaconda3/lib/python3.7/site-packages/ipykernel_launcher.py:8: UserWarning: loadtxt: Empty input file: \"/Users/danny/Desktop/apogee-gc/dr17/unclipped/NGC6352.txt\"\n",
      "  \n",
      "/Users/danny/opt/anaconda3/lib/python3.7/site-packages/ipykernel_launcher.py:8: UserWarning: loadtxt: Empty input file: \"/Users/danny/Desktop/apogee-gc/dr17/unclipped/NGC6355.txt\"\n",
      "  \n",
      "/Users/danny/opt/anaconda3/lib/python3.7/site-packages/ipykernel_launcher.py:8: UserWarning: loadtxt: Empty input file: \"/Users/danny/Desktop/apogee-gc/dr17/unclipped/NGC6356.txt\"\n",
      "  \n",
      "/Users/danny/opt/anaconda3/lib/python3.7/site-packages/ipykernel_launcher.py:8: UserWarning: loadtxt: Empty input file: \"/Users/danny/Desktop/apogee-gc/dr17/unclipped/NGC6362.txt\"\n",
      "  \n",
      "/Users/danny/opt/anaconda3/lib/python3.7/site-packages/ipykernel_launcher.py:8: UserWarning: loadtxt: Empty input file: \"/Users/danny/Desktop/apogee-gc/dr17/unclipped/NGC6366.txt\"\n",
      "  \n",
      "/Users/danny/opt/anaconda3/lib/python3.7/site-packages/ipykernel_launcher.py:8: UserWarning: loadtxt: Empty input file: \"/Users/danny/Desktop/apogee-gc/dr17/unclipped/NGC6426.txt\"\n",
      "  \n",
      "/Users/danny/opt/anaconda3/lib/python3.7/site-packages/ipykernel_launcher.py:8: UserWarning: loadtxt: Empty input file: \"/Users/danny/Desktop/apogee-gc/dr17/unclipped/NGC6440.txt\"\n",
      "  \n",
      "/Users/danny/opt/anaconda3/lib/python3.7/site-packages/ipykernel_launcher.py:8: UserWarning: loadtxt: Empty input file: \"/Users/danny/Desktop/apogee-gc/dr17/unclipped/NGC6496.txt\"\n",
      "  \n",
      "/Users/danny/opt/anaconda3/lib/python3.7/site-packages/ipykernel_launcher.py:8: UserWarning: loadtxt: Empty input file: \"/Users/danny/Desktop/apogee-gc/dr17/unclipped/NGC6535.txt\"\n",
      "  \n",
      "/Users/danny/opt/anaconda3/lib/python3.7/site-packages/ipykernel_launcher.py:8: UserWarning: loadtxt: Empty input file: \"/Users/danny/Desktop/apogee-gc/dr17/unclipped/NGC6541.txt\"\n",
      "  \n",
      "/Users/danny/opt/anaconda3/lib/python3.7/site-packages/ipykernel_launcher.py:8: UserWarning: loadtxt: Empty input file: \"/Users/danny/Desktop/apogee-gc/dr17/unclipped/NGC6584.txt\"\n",
      "  \n",
      "/Users/danny/opt/anaconda3/lib/python3.7/site-packages/ipykernel_launcher.py:8: UserWarning: loadtxt: Empty input file: \"/Users/danny/Desktop/apogee-gc/dr17/unclipped/NGC6624.txt\"\n",
      "  \n",
      "/Users/danny/opt/anaconda3/lib/python3.7/site-packages/ipykernel_launcher.py:8: UserWarning: loadtxt: Empty input file: \"/Users/danny/Desktop/apogee-gc/dr17/unclipped/NGC6626.txt\"\n",
      "  \n",
      "/Users/danny/opt/anaconda3/lib/python3.7/site-packages/ipykernel_launcher.py:8: UserWarning: loadtxt: Empty input file: \"/Users/danny/Desktop/apogee-gc/dr17/unclipped/NGC6637.txt\"\n",
      "  \n",
      "/Users/danny/opt/anaconda3/lib/python3.7/site-packages/ipykernel_launcher.py:8: UserWarning: loadtxt: Empty input file: \"/Users/danny/Desktop/apogee-gc/dr17/unclipped/NGC6638.txt\"\n",
      "  \n",
      "/Users/danny/opt/anaconda3/lib/python3.7/site-packages/ipykernel_launcher.py:8: UserWarning: loadtxt: Empty input file: \"/Users/danny/Desktop/apogee-gc/dr17/unclipped/NGC6652.txt\"\n",
      "  \n",
      "/Users/danny/opt/anaconda3/lib/python3.7/site-packages/ipykernel_launcher.py:8: UserWarning: loadtxt: Empty input file: \"/Users/danny/Desktop/apogee-gc/dr17/unclipped/NGC6681.txt\"\n",
      "  \n",
      "/Users/danny/opt/anaconda3/lib/python3.7/site-packages/ipykernel_launcher.py:8: UserWarning: loadtxt: Empty input file: \"/Users/danny/Desktop/apogee-gc/dr17/unclipped/NGC6712.txt\"\n",
      "  \n",
      "/Users/danny/opt/anaconda3/lib/python3.7/site-packages/ipykernel_launcher.py:8: UserWarning: loadtxt: Empty input file: \"/Users/danny/Desktop/apogee-gc/dr17/unclipped/NGC6717.txt\"\n",
      "  \n",
      "/Users/danny/opt/anaconda3/lib/python3.7/site-packages/ipykernel_launcher.py:8: UserWarning: loadtxt: Empty input file: \"/Users/danny/Desktop/apogee-gc/dr17/unclipped/NGC6749.txt\"\n",
      "  \n",
      "/Users/danny/opt/anaconda3/lib/python3.7/site-packages/ipykernel_launcher.py:8: UserWarning: loadtxt: Empty input file: \"/Users/danny/Desktop/apogee-gc/dr17/unclipped/NGC6779.txt\"\n",
      "  \n",
      "/Users/danny/opt/anaconda3/lib/python3.7/site-packages/ipykernel_launcher.py:8: UserWarning: loadtxt: Empty input file: \"/Users/danny/Desktop/apogee-gc/dr17/unclipped/NGC6864.txt\"\n",
      "  \n",
      "/Users/danny/opt/anaconda3/lib/python3.7/site-packages/ipykernel_launcher.py:8: UserWarning: loadtxt: Empty input file: \"/Users/danny/Desktop/apogee-gc/dr17/unclipped/NGC6934.txt\"\n",
      "  \n",
      "/Users/danny/opt/anaconda3/lib/python3.7/site-packages/ipykernel_launcher.py:8: UserWarning: loadtxt: Empty input file: \"/Users/danny/Desktop/apogee-gc/dr17/unclipped/NGC6981.txt\"\n",
      "  \n",
      "/Users/danny/opt/anaconda3/lib/python3.7/site-packages/ipykernel_launcher.py:8: UserWarning: loadtxt: Empty input file: \"/Users/danny/Desktop/apogee-gc/dr17/unclipped/NGC7006.txt\"\n",
      "  \n",
      "/Users/danny/opt/anaconda3/lib/python3.7/site-packages/ipykernel_launcher.py:8: UserWarning: loadtxt: Empty input file: \"/Users/danny/Desktop/apogee-gc/dr17/unclipped/NGC7099.txt\"\n",
      "  \n",
      "/Users/danny/opt/anaconda3/lib/python3.7/site-packages/ipykernel_launcher.py:8: UserWarning: loadtxt: Empty input file: \"/Users/danny/Desktop/apogee-gc/dr17/unclipped/NGC7492.txt\"\n",
      "  \n",
      "/Users/danny/opt/anaconda3/lib/python3.7/site-packages/ipykernel_launcher.py:8: UserWarning: loadtxt: Empty input file: \"/Users/danny/Desktop/apogee-gc/dr17/unclipped/Pal1.txt\"\n",
      "  \n",
      "/Users/danny/opt/anaconda3/lib/python3.7/site-packages/ipykernel_launcher.py:8: UserWarning: loadtxt: Empty input file: \"/Users/danny/Desktop/apogee-gc/dr17/unclipped/Pal11.txt\"\n",
      "  \n",
      "/Users/danny/opt/anaconda3/lib/python3.7/site-packages/ipykernel_launcher.py:8: UserWarning: loadtxt: Empty input file: \"/Users/danny/Desktop/apogee-gc/dr17/unclipped/Pal12.txt\"\n",
      "  \n",
      "/Users/danny/opt/anaconda3/lib/python3.7/site-packages/ipykernel_launcher.py:8: UserWarning: loadtxt: Empty input file: \"/Users/danny/Desktop/apogee-gc/dr17/unclipped/Pal13.txt\"\n",
      "  \n",
      "/Users/danny/opt/anaconda3/lib/python3.7/site-packages/ipykernel_launcher.py:8: UserWarning: loadtxt: Empty input file: \"/Users/danny/Desktop/apogee-gc/dr17/unclipped/Pal14.txt\"\n",
      "  \n",
      "/Users/danny/opt/anaconda3/lib/python3.7/site-packages/ipykernel_launcher.py:8: UserWarning: loadtxt: Empty input file: \"/Users/danny/Desktop/apogee-gc/dr17/unclipped/Pal15.txt\"\n",
      "  \n",
      "/Users/danny/opt/anaconda3/lib/python3.7/site-packages/ipykernel_launcher.py:8: UserWarning: loadtxt: Empty input file: \"/Users/danny/Desktop/apogee-gc/dr17/unclipped/Pal2.txt\"\n",
      "  \n",
      "/Users/danny/opt/anaconda3/lib/python3.7/site-packages/ipykernel_launcher.py:8: UserWarning: loadtxt: Empty input file: \"/Users/danny/Desktop/apogee-gc/dr17/unclipped/Pal3.txt\"\n",
      "  \n",
      "/Users/danny/opt/anaconda3/lib/python3.7/site-packages/ipykernel_launcher.py:8: UserWarning: loadtxt: Empty input file: \"/Users/danny/Desktop/apogee-gc/dr17/unclipped/Pal4.txt\"\n",
      "  \n",
      "/Users/danny/opt/anaconda3/lib/python3.7/site-packages/ipykernel_launcher.py:8: UserWarning: loadtxt: Empty input file: \"/Users/danny/Desktop/apogee-gc/dr17/unclipped/Pal8.txt\"\n",
      "  \n",
      "/Users/danny/opt/anaconda3/lib/python3.7/site-packages/ipykernel_launcher.py:8: UserWarning: loadtxt: Empty input file: \"/Users/danny/Desktop/apogee-gc/dr17/unclipped/Pyxis.txt\"\n",
      "  \n",
      "/Users/danny/opt/anaconda3/lib/python3.7/site-packages/ipykernel_launcher.py:8: UserWarning: loadtxt: Empty input file: \"/Users/danny/Desktop/apogee-gc/dr17/unclipped/Terzan3.txt\"\n",
      "  \n",
      "/Users/danny/opt/anaconda3/lib/python3.7/site-packages/ipykernel_launcher.py:8: UserWarning: loadtxt: Empty input file: \"/Users/danny/Desktop/apogee-gc/dr17/unclipped/Terzan7.txt\"\n",
      "  \n",
      "/Users/danny/opt/anaconda3/lib/python3.7/site-packages/ipykernel_launcher.py:8: UserWarning: loadtxt: Empty input file: \"/Users/danny/Desktop/apogee-gc/dr17/unclipped/Terzan8.txt\"\n",
      "  \n",
      "/Users/danny/opt/anaconda3/lib/python3.7/site-packages/ipykernel_launcher.py:8: UserWarning: loadtxt: Empty input file: \"/Users/danny/Desktop/apogee-gc/dr17/unclipped/Whiting1.txt\"\n",
      "  \n"
     ]
    }
   ],
   "source": [
    "# load all the initial GC text files (containing the APOGEE IDs) and concatenate them\n",
    "import glob\n",
    "import sys\n",
    "files = glob.glob(savepath+'*.txt')\n",
    "complete=[]\n",
    "for i in files:\n",
    "    file = np.array(np.loadtxt(i,dtype='str'))\n",
    "    complete.extend(file)"
   ]
  },
  {
   "cell_type": "markdown",
   "metadata": {},
   "source": [
    "Note: The command above will return a bunch of warnings about empty files (where there are no GC stars for that GC). Ignore this, I still haven't figured out how to set an ignore to those messages..."
   ]
  },
  {
   "cell_type": "markdown",
   "metadata": {},
   "source": [
    "# And save the big file in the same directory"
   ]
  },
  {
   "cell_type": "code",
   "execution_count": 15,
   "metadata": {},
   "outputs": [],
   "source": [
    "# save the full sample together\n",
    "np.savetxt(savepath+'complete.txt',complete,fmt='%s')"
   ]
  },
  {
   "cell_type": "markdown",
   "metadata": {},
   "source": [
    "# Now I recommend using a software program like Topcat to merge the GC ids with the APOGEE data file. Once you have merged the files, save it as a fits file and load in the new merged file"
   ]
  },
  {
   "cell_type": "code",
   "execution_count": 36,
   "metadata": {},
   "outputs": [
    {
     "name": "stdout",
     "output_type": "stream",
     "text": [
      "There are 5805 preliminary GC stars with reliable abundances\n",
      "There are 73 preliminary GCs which have reliable abundances\n"
     ]
    }
   ],
   "source": [
    "apogee2 = fits.open(savepath+'merged_dr17.fits')\n",
    "data2 = apogee2[1].data\n",
    "fehs = data2.field('FE_H')\n",
    "sifes = data2.field('SI_FE')\n",
    "mgfes = data2.field('MG_FE')\n",
    "nfes = data2.field('N_FE')\n",
    "cfes = data2.field('C_FE')\n",
    "name = data2.field('gc_name')\n",
    "# FOR APOGEE DATA: Mask out stars with bad Mg,Si,N,C,Fe abundances\n",
    "mask = (sifes>-10.)&(fehs>-10.)&(mgfes>-10.)&(nfes>-10.)&(cfes>-10.)\n",
    "data2 = data2[mask]\n",
    "# Check to see how many stars and GCs you have in the preliminary GC sample, before performing the sigma clipping procedure\n",
    "print('There are '+str(len(data2))+' preliminary GC stars with reliable abundances')\n",
    "from collections import Counter\n",
    "names = (Counter(name[mask]).keys())\n",
    "print('There are '+str(len(names))+' preliminary GCs which have reliable abundances')"
   ]
  },
  {
   "cell_type": "markdown",
   "metadata": {},
   "source": [
    "# Now that we have obtained all the stars in our catalogue which satisfy the position and radial velocity conditions, we will begin the sigma clipping procedure of the MDF distributions following the method in Horta et al (2020)"
   ]
  },
  {
   "cell_type": "markdown",
   "metadata": {},
   "source": [
    "# Run the sigma clipping method"
   ]
  },
  {
   "cell_type": "code",
   "execution_count": 19,
   "metadata": {},
   "outputs": [
    {
     "name": "stderr",
     "output_type": "stream",
     "text": [
      "/Users/danny/opt/anaconda3/lib/python3.7/site-packages/numpy/core/fromnumeric.py:3335: RuntimeWarning: Mean of empty slice.\n",
      "  out=out, **kwargs)\n",
      "/Users/danny/opt/anaconda3/lib/python3.7/site-packages/numpy/core/_methods.py:161: RuntimeWarning: invalid value encountered in true_divide\n",
      "  ret = ret.dtype.type(ret / rcount)\n",
      "/Users/danny/opt/anaconda3/lib/python3.7/site-packages/numpy/core/_methods.py:217: RuntimeWarning: Degrees of freedom <= 0 for slice\n",
      "  keepdims=keepdims)\n",
      "/Users/danny/opt/anaconda3/lib/python3.7/site-packages/numpy/core/_methods.py:186: RuntimeWarning: invalid value encountered in true_divide\n",
      "  arrmean, rcount, out=arrmean, casting='unsafe', subok=False)\n",
      "/Users/danny/opt/anaconda3/lib/python3.7/site-packages/numpy/core/_methods.py:209: RuntimeWarning: invalid value encountered in true_divide\n",
      "  ret = ret.dtype.type(ret / rcount)\n",
      "/Users/danny/opt/anaconda3/lib/python3.7/site-packages/numpy/lib/histograms.py:908: RuntimeWarning: invalid value encountered in true_divide\n",
      "  return n/db/n.sum(), bin_edges\n",
      "/Users/danny/opt/anaconda3/lib/python3.7/site-packages/numpy/lib/histograms.py:908: RuntimeWarning: invalid value encountered in true_divide\n",
      "  return n/db/n.sum(), bin_edges\n",
      "/Users/danny/opt/anaconda3/lib/python3.7/site-packages/numpy/core/fromnumeric.py:3335: RuntimeWarning: Mean of empty slice.\n",
      "  out=out, **kwargs)\n",
      "/Users/danny/opt/anaconda3/lib/python3.7/site-packages/numpy/core/_methods.py:161: RuntimeWarning: invalid value encountered in true_divide\n",
      "  ret = ret.dtype.type(ret / rcount)\n",
      "/Users/danny/opt/anaconda3/lib/python3.7/site-packages/numpy/core/_methods.py:217: RuntimeWarning: Degrees of freedom <= 0 for slice\n",
      "  keepdims=keepdims)\n",
      "/Users/danny/opt/anaconda3/lib/python3.7/site-packages/numpy/core/_methods.py:186: RuntimeWarning: invalid value encountered in true_divide\n",
      "  arrmean, rcount, out=arrmean, casting='unsafe', subok=False)\n",
      "/Users/danny/opt/anaconda3/lib/python3.7/site-packages/numpy/core/_methods.py:209: RuntimeWarning: invalid value encountered in true_divide\n",
      "  ret = ret.dtype.type(ret / rcount)\n",
      "/Users/danny/opt/anaconda3/lib/python3.7/site-packages/numpy/lib/histograms.py:908: RuntimeWarning: invalid value encountered in true_divide\n",
      "  return n/db/n.sum(), bin_edges\n",
      "/Users/danny/opt/anaconda3/lib/python3.7/site-packages/numpy/lib/histograms.py:908: RuntimeWarning: invalid value encountered in true_divide\n",
      "  return n/db/n.sum(), bin_edges\n",
      "/Users/danny/opt/anaconda3/lib/python3.7/site-packages/IPython/core/pylabtools.py:132: UserWarning: Calling figure.constrained_layout, but figure not setup to do constrained layout.  You either called GridSpec without the fig keyword, you are using plt.subplot, or you need to call figure or subplots with the constrained_layout=True kwarg.\n",
      "  fig.canvas.print_figure(bytes_io, **kw)\n"
     ]
    },
    {
     "data": {
      "image/png": "[encoded data removed]",
      "text/plain": [
       "<Figure size 1440x1440 with 25 Axes>"
      ]
     },
     "metadata": {
      "needs_background": "light"
     },
     "output_type": "display_data"
    }
   ],
   "source": [
    "import matplotlib.gridspec as grid\n",
    "# loop through the data and refine our GC sample in APOGEE using the MDF clipping method\n",
    "fig = plt.figure(constrained_layout=True,figsize=(20,20))\n",
    "gs = grid.GridSpec(5,5)\n",
    "p = 0\n",
    "names = np.unique(name)\n",
    "# since there are 73 GCs in the preliminary sample\n",
    "# loop over three batches of 25 GCs each to look at the MDF distribution and the sigma clipping procedure\n",
    "names_1 = names[:25]\n",
    "names_2 = names[25:50]\n",
    "names_3 = names[50:]\n",
    "\n",
    "for indx,i in enumerate(names_1):\n",
    "    if i in data2['gc_name']:\n",
    "#         get the necessary information from each star in the sample (i.e. Fe/H, GC name, Radial velocity)\n",
    "        fehs = data2['FE_H']\n",
    "        vlos = data2['VHELIO_AVG']\n",
    "        gc_name = data2['gc_name']\n",
    "#         find the stars associated with each GC\n",
    "        fehs = fehs[np.where(data2['gc_name']==i)]\n",
    "        vlos = vlos[np.where(data2['gc_name']==i)]\n",
    "        gc_name = gc_name[np.where(data2['gc_name']==i)]\n",
    "#         determine the mean and sigma Fe/H values\n",
    "        mean = np.mean(fehs)\n",
    "        sigma = np.std(fehs)\n",
    "#         select only those stars within 1 sigma from the mean [Fe/H] value\n",
    "        fehs2 = fehs[np.fabs(mean-fehs)<(1.*sigma)]\n",
    "        vlos2 = vlos[np.fabs(mean-fehs)<(1.*sigma)]\n",
    "        names2 = gc_name[np.fabs(mean-fehs)<(1.*sigma)]\n",
    "#         repeat the procedure and get the new mean and sigma [Fe/H] values to compare\n",
    "        mean2 = np.mean(fehs2)\n",
    "        sigma2 = np.std(fehs2)\n",
    "#         again mask those stars which are within 2 sigmas of the new mean\n",
    "        fehs3 = fehs2[np.fabs(mean2-fehs2)<=(2.*sigma2)]\n",
    "        vlos3 = vlos2[np.fabs(mean2-fehs2)<(2.*sigma2)]\n",
    "        names3 = names2[np.fabs(mean2-fehs2)<(2.*sigma2)]\n",
    "#         calculate the final mean and sigma [Fe/H] values\n",
    "        mean3 = np.mean(fehs3)\n",
    "        sigma3 = np.std(fehs3)\n",
    "        diff = np.array(np.fabs(mean3-fehs_h[names_h==i]))\n",
    "#         plot the distributions to see what they look like\n",
    "    ax = fig.add_subplot(gs[p])\n",
    "    ax.hist(fehs,50,range=(-2.5,0.5),histtype='step',color='b',label=str(i),density=True)\n",
    "    ax.hist(fehs2,50,range=(-2.5,0.5),histtype='step',color='orange',density=True,label='Fe/H difference: '+str(\"%.4f\" % diff))\n",
    "    ax.hist(fehs3,50,range=(-2.5,0.5),histtype='step',color='red',density=True)\n",
    "    ax.legend(loc='best',frameon=False,fontsize=12)\n",
    "    ax.set_xlim(np.min(fehs)-0.2,np.max(fehs)+0.2)\n",
    "    p+=1\n",
    "axis = fig.axes\n",
    "axis[0].set(ylabel='N')\n",
    "axis[5].set(ylabel='N')\n",
    "axis[10].set(ylabel='N')\n",
    "axis[15].set(ylabel='N')\n",
    "axis[20].set(ylabel='N')\n",
    "axis[20].set(xlabel='[Fe/H]')\n",
    "axis[21].set(xlabel='[Fe/H]')\n",
    "axis[22].set(xlabel='[Fe/H]')\n",
    "axis[23].set(xlabel='[Fe/H]')\n",
    "axis[24].set(xlabel='[Fe/H]')\n",
    "\n",
    "axis[0].tick_params(direction='in',axis='both',length=3,right=True,top=True)\n",
    "axis[1].tick_params(direction='in',axis='both',length=3,right=True,top=True)\n",
    "axis[2].tick_params(direction='in',axis='both',length=3,right=True,top=True)\n",
    "axis[3].tick_params(direction='in',axis='both',length=3,right=True,top=True)\n",
    "axis[4].tick_params(direction='in',axis='both',length=3,right=True,top=True)\n",
    "axis[5].tick_params(direction='in',axis='both',length=3,right=True,top=True)\n",
    "axis[6].tick_params(direction='in',axis='both',length=3,right=True,top=True)\n",
    "axis[7].tick_params(direction='in',axis='both',length=3,right=True,top=True)\n",
    "axis[8].tick_params(direction='in',axis='both',length=3,right=True,top=True)\n",
    "axis[9].tick_params(direction='in',axis='both',length=3,right=True,top=True)\n",
    "axis[10].tick_params(direction='in',axis='both',length=3,right=True,top=True)\n",
    "axis[11].tick_params(direction='in',axis='both',length=3,right=True,top=True)\n",
    "axis[12].tick_params(direction='in',axis='both',length=3,right=True,top=True)\n",
    "axis[13].tick_params(direction='in',axis='both',length=3,right=True,top=True)\n",
    "axis[14].tick_params(direction='in',axis='both',length=3,right=True,top=True)\n",
    "axis[15].tick_params(direction='in',axis='both',length=3,right=True,top=True)\n",
    "axis[16].tick_params(direction='in',axis='both',length=3,right=True,top=True)\n",
    "axis[17].tick_params(direction='in',axis='both',length=3,right=True,top=True)\n",
    "axis[18].tick_params(direction='in',axis='both',length=3,right=True,top=True)\n",
    "axis[19].tick_params(direction='in',axis='both',length=3,right=True,top=True)\n",
    "axis[20].tick_params(direction='in',axis='both',length=3,right=True,top=True)\n",
    "axis[21].tick_params(direction='in',axis='both',length=3,right=True,top=True)\n",
    "axis[22].tick_params(direction='in',axis='both',length=3,right=True,top=True)\n",
    "axis[23].tick_params(direction='in',axis='both',length=3,right=True,top=True)\n",
    "axis[24].tick_params(direction='in',axis='both',length=3,right=True,top=True)\n",
    "\n",
    "gs.update(wspace=0.2,hspace=0.2)\n",
    "# this is in case you wish to save the plot...\n",
    "# plt.savefig('fig1', format='pdf', dpi=400, bbox_inches='tight')\n",
    "\n"
   ]
  },
  {
   "cell_type": "markdown",
   "metadata": {},
   "source": [
    "Note: The code will plot the different sigma clips, where blue is the raw distribution, yellow is the resulting population after the first sigma clip, and red is the population after the second sigma clip. It will also list the GC name and metallicity difference between the final [Fe/H] mean value and the Harris [Fe/H] value for that GC. In Horta et al (2020), we eliminated any stars that presented a clipped MDF mean 0.5 away from the Harris catalogue value. For those that satisfy this criteria, we studied each GC MDF individually and then selected either the raw, 1-$\\sigma$ or 2-$\\sigma$ clipped distribution as our final distribution for each GC."
   ]
  },
  {
   "cell_type": "code",
   "execution_count": 21,
   "metadata": {},
   "outputs": [
    {
     "name": "stderr",
     "output_type": "stream",
     "text": [
      "/Users/danny/opt/anaconda3/lib/python3.7/site-packages/IPython/core/pylabtools.py:132: UserWarning: Calling figure.constrained_layout, but figure not setup to do constrained layout.  You either called GridSpec without the fig keyword, you are using plt.subplot, or you need to call figure or subplots with the constrained_layout=True kwarg.\n",
      "  fig.canvas.print_figure(bytes_io, **kw)\n"
     ]
    },
    {
     "data": {
      "image/png": "[encoded data removed]",
      "text/plain": [
       "<Figure size 1440x1440 with 25 Axes>"
      ]
     },
     "metadata": {
      "needs_background": "light"
     },
     "output_type": "display_data"
    }
   ],
   "source": [
    "import matplotlib.gridspec as grid\n",
    "\n",
    "# loop through the data and refine our GC sample in APOGEE using the MDF clipping method\n",
    "fig = plt.figure(constrained_layout=True,figsize=(20,20))\n",
    "gs = grid.GridSpec(5,5)\n",
    "p = 0\n",
    "names = np.unique(name)\n",
    "# loop over three batches of 25 GCs each to look at the MDF distribution and the sigma clipping procedure\n",
    "names_1 = names[:25]\n",
    "names_2 = names[25:50]\n",
    "names_3 = names[50:]\n",
    "\n",
    "for indx,i in enumerate(names_2):\n",
    "    if i in data2['gc_name']:\n",
    "#         get the necessary information from each star in the sample (i.e. Fe/H, GC name, Radial velocity)\n",
    "        fehs = data2['FE_H']\n",
    "        vlos = data2['VHELIO_AVG']\n",
    "        gc_name = data2['gc_name']\n",
    "#         find the stars associated with each GC\n",
    "        fehs = fehs[np.where(data2['gc_name']==i)]\n",
    "        vlos = vlos[np.where(data2['gc_name']==i)]\n",
    "        gc_name = gc_name[np.where(data2['gc_name']==i)]\n",
    "#         determine the mean and sigma Fe/H values\n",
    "        mean = np.mean(fehs)\n",
    "        sigma = np.std(fehs)\n",
    "#         select only those stars within 1 sigma from the mean [Fe/H] value\n",
    "        fehs2 = fehs[np.fabs(mean-fehs)<(1.*sigma)]\n",
    "        vlos2 = vlos[np.fabs(mean-fehs)<(1.*sigma)]\n",
    "        names2 = gc_name[np.fabs(mean-fehs)<(1.*sigma)]\n",
    "#         repeat the procedure and get the new mean and sigma [Fe/H] values to compare\n",
    "        mean2 = np.mean(fehs2)\n",
    "        sigma2 = np.std(fehs2)\n",
    "#         again mask those stars which are within 2 sigmas of the new mean\n",
    "        fehs3 = fehs2[np.fabs(mean2-fehs2)<=(2.*sigma2)]\n",
    "        vlos3 = vlos2[np.fabs(mean2-fehs2)<(2.*sigma2)]\n",
    "        names3 = names2[np.fabs(mean2-fehs2)<(2.*sigma2)]\n",
    "#         calculate the final mean and sigma [Fe/H] values\n",
    "        mean3 = np.mean(fehs3)\n",
    "        sigma3 = np.std(fehs3)\n",
    "        diff = np.array(np.fabs(mean3-fehs_h[names_h==i]))\n",
    "    ax = fig.add_subplot(gs[p])\n",
    "    ax.hist(fehs,50,range=(-2.5,0.5),histtype='step',color='b',label=str(i),density=True)\n",
    "    ax.hist(fehs2,50,range=(-2.5,0.5),histtype='step',color='orange',density=True,label='Fe/H difference: '+str(\"%.4f\" % diff))\n",
    "    ax.hist(fehs3,50,range=(-2.5,0.5),histtype='step',color='red',density=True)\n",
    "    ax.legend(loc='best',frameon=False,fontsize=12)\n",
    "    ax.set_xlim(np.min(fehs)-0.2,np.max(fehs)+0.2)\n",
    "    p+=1\n",
    "axis = fig.axes\n",
    "axis[0].set(ylabel='N')\n",
    "axis[5].set(ylabel='N')\n",
    "axis[10].set(ylabel='N')\n",
    "axis[15].set(ylabel='N')\n",
    "axis[20].set(ylabel='N')\n",
    "axis[20].set(xlabel='[Fe/H]')\n",
    "axis[21].set(xlabel='[Fe/H]')\n",
    "axis[22].set(xlabel='[Fe/H]')\n",
    "axis[23].set(xlabel='[Fe/H]')\n",
    "axis[24].set(xlabel='[Fe/H]')\n",
    "\n",
    "axis[0].tick_params(direction='in',axis='both',length=3,right=True,top=True)\n",
    "axis[1].tick_params(direction='in',axis='both',length=3,right=True,top=True)\n",
    "axis[2].tick_params(direction='in',axis='both',length=3,right=True,top=True)\n",
    "axis[3].tick_params(direction='in',axis='both',length=3,right=True,top=True)\n",
    "axis[4].tick_params(direction='in',axis='both',length=3,right=True,top=True)\n",
    "axis[5].tick_params(direction='in',axis='both',length=3,right=True,top=True)\n",
    "axis[6].tick_params(direction='in',axis='both',length=3,right=True,top=True)\n",
    "axis[7].tick_params(direction='in',axis='both',length=3,right=True,top=True)\n",
    "axis[8].tick_params(direction='in',axis='both',length=3,right=True,top=True)\n",
    "axis[9].tick_params(direction='in',axis='both',length=3,right=True,top=True)\n",
    "axis[10].tick_params(direction='in',axis='both',length=3,right=True,top=True)\n",
    "axis[11].tick_params(direction='in',axis='both',length=3,right=True,top=True)\n",
    "axis[12].tick_params(direction='in',axis='both',length=3,right=True,top=True)\n",
    "axis[13].tick_params(direction='in',axis='both',length=3,right=True,top=True)\n",
    "axis[14].tick_params(direction='in',axis='both',length=3,right=True,top=True)\n",
    "axis[15].tick_params(direction='in',axis='both',length=3,right=True,top=True)\n",
    "axis[16].tick_params(direction='in',axis='both',length=3,right=True,top=True)\n",
    "axis[17].tick_params(direction='in',axis='both',length=3,right=True,top=True)\n",
    "axis[18].tick_params(direction='in',axis='both',length=3,right=True,top=True)\n",
    "axis[19].tick_params(direction='in',axis='both',length=3,right=True,top=True)\n",
    "axis[20].tick_params(direction='in',axis='both',length=3,right=True,top=True)\n",
    "axis[21].tick_params(direction='in',axis='both',length=3,right=True,top=True)\n",
    "axis[22].tick_params(direction='in',axis='both',length=3,right=True,top=True)\n",
    "axis[23].tick_params(direction='in',axis='both',length=3,right=True,top=True)\n",
    "axis[24].tick_params(direction='in',axis='both',length=3,right=True,top=True)\n",
    "\n",
    "gs.update(wspace=0.2,hspace=0.2)\n",
    "\n",
    "# plt.savefig('fig2', format='pdf', dpi=400, bbox_inches='tight')\n",
    "\n",
    "\n"
   ]
  },
  {
   "cell_type": "code",
   "execution_count": 22,
   "metadata": {
    "scrolled": false
   },
   "outputs": [
    {
     "name": "stderr",
     "output_type": "stream",
     "text": [
      "/Users/danny/opt/anaconda3/lib/python3.7/site-packages/numpy/core/fromnumeric.py:3335: RuntimeWarning: Mean of empty slice.\n",
      "  out=out, **kwargs)\n",
      "/Users/danny/opt/anaconda3/lib/python3.7/site-packages/numpy/core/_methods.py:161: RuntimeWarning: invalid value encountered in true_divide\n",
      "  ret = ret.dtype.type(ret / rcount)\n",
      "/Users/danny/opt/anaconda3/lib/python3.7/site-packages/numpy/core/_methods.py:217: RuntimeWarning: Degrees of freedom <= 0 for slice\n",
      "  keepdims=keepdims)\n",
      "/Users/danny/opt/anaconda3/lib/python3.7/site-packages/numpy/core/_methods.py:186: RuntimeWarning: invalid value encountered in true_divide\n",
      "  arrmean, rcount, out=arrmean, casting='unsafe', subok=False)\n",
      "/Users/danny/opt/anaconda3/lib/python3.7/site-packages/numpy/core/_methods.py:209: RuntimeWarning: invalid value encountered in true_divide\n",
      "  ret = ret.dtype.type(ret / rcount)\n",
      "/Users/danny/opt/anaconda3/lib/python3.7/site-packages/numpy/lib/histograms.py:908: RuntimeWarning: invalid value encountered in true_divide\n",
      "  return n/db/n.sum(), bin_edges\n",
      "/Users/danny/opt/anaconda3/lib/python3.7/site-packages/numpy/lib/histograms.py:908: RuntimeWarning: invalid value encountered in true_divide\n",
      "  return n/db/n.sum(), bin_edges\n",
      "/Users/danny/opt/anaconda3/lib/python3.7/site-packages/numpy/core/fromnumeric.py:3335: RuntimeWarning: Mean of empty slice.\n",
      "  out=out, **kwargs)\n",
      "/Users/danny/opt/anaconda3/lib/python3.7/site-packages/numpy/core/_methods.py:161: RuntimeWarning: invalid value encountered in true_divide\n",
      "  ret = ret.dtype.type(ret / rcount)\n",
      "/Users/danny/opt/anaconda3/lib/python3.7/site-packages/numpy/core/_methods.py:217: RuntimeWarning: Degrees of freedom <= 0 for slice\n",
      "  keepdims=keepdims)\n",
      "/Users/danny/opt/anaconda3/lib/python3.7/site-packages/numpy/core/_methods.py:186: RuntimeWarning: invalid value encountered in true_divide\n",
      "  arrmean, rcount, out=arrmean, casting='unsafe', subok=False)\n",
      "/Users/danny/opt/anaconda3/lib/python3.7/site-packages/numpy/core/_methods.py:209: RuntimeWarning: invalid value encountered in true_divide\n",
      "  ret = ret.dtype.type(ret / rcount)\n",
      "/Users/danny/opt/anaconda3/lib/python3.7/site-packages/numpy/lib/histograms.py:908: RuntimeWarning: invalid value encountered in true_divide\n",
      "  return n/db/n.sum(), bin_edges\n",
      "/Users/danny/opt/anaconda3/lib/python3.7/site-packages/numpy/lib/histograms.py:908: RuntimeWarning: invalid value encountered in true_divide\n",
      "  return n/db/n.sum(), bin_edges\n",
      "/Users/danny/opt/anaconda3/lib/python3.7/site-packages/numpy/core/fromnumeric.py:3335: RuntimeWarning: Mean of empty slice.\n",
      "  out=out, **kwargs)\n",
      "/Users/danny/opt/anaconda3/lib/python3.7/site-packages/numpy/core/_methods.py:161: RuntimeWarning: invalid value encountered in true_divide\n",
      "  ret = ret.dtype.type(ret / rcount)\n",
      "/Users/danny/opt/anaconda3/lib/python3.7/site-packages/numpy/core/_methods.py:217: RuntimeWarning: Degrees of freedom <= 0 for slice\n",
      "  keepdims=keepdims)\n",
      "/Users/danny/opt/anaconda3/lib/python3.7/site-packages/numpy/core/_methods.py:186: RuntimeWarning: invalid value encountered in true_divide\n",
      "  arrmean, rcount, out=arrmean, casting='unsafe', subok=False)\n",
      "/Users/danny/opt/anaconda3/lib/python3.7/site-packages/numpy/core/_methods.py:209: RuntimeWarning: invalid value encountered in true_divide\n",
      "  ret = ret.dtype.type(ret / rcount)\n",
      "/Users/danny/opt/anaconda3/lib/python3.7/site-packages/numpy/lib/histograms.py:908: RuntimeWarning: invalid value encountered in true_divide\n",
      "  return n/db/n.sum(), bin_edges\n",
      "/Users/danny/opt/anaconda3/lib/python3.7/site-packages/numpy/lib/histograms.py:908: RuntimeWarning: invalid value encountered in true_divide\n",
      "  return n/db/n.sum(), bin_edges\n",
      "/Users/danny/opt/anaconda3/lib/python3.7/site-packages/IPython/core/pylabtools.py:132: UserWarning: Calling figure.constrained_layout, but figure not setup to do constrained layout.  You either called GridSpec without the fig keyword, you are using plt.subplot, or you need to call figure or subplots with the constrained_layout=True kwarg.\n",
      "  fig.canvas.print_figure(bytes_io, **kw)\n"
     ]
    },
    {
     "data": {
      "image/png": "[encoded data removed]",
      "text/plain": [
       "<Figure size 1440x1440 with 24 Axes>"
      ]
     },
     "metadata": {
      "needs_background": "light"
     },
     "output_type": "display_data"
    }
   ],
   "source": [
    "import matplotlib.gridspec as grid\n",
    "\n",
    "# loop through the data and refine our GC sample in APOGEE using the MDF clipping method\n",
    "fig = plt.figure(constrained_layout=True,figsize=(20,20))\n",
    "gs = grid.GridSpec(5,5)\n",
    "p = 0\n",
    "names = np.unique(name)\n",
    "# loop over three batches of 25 GCs each to look at the MDF distribution and the sigma clipping procedure\n",
    "names_1 = names[:25]\n",
    "names_2 = names[25:50]\n",
    "names_3 = names[50:]\n",
    "\n",
    "for indx,i in enumerate(names_3):\n",
    "    if i in data2['gc_name']:\n",
    "#         get the necessary information from each star in the sample (i.e. Fe/H, GC name, Radial velocity)\n",
    "        fehs = data2['FE_H']\n",
    "        vlos = data2['VHELIO_AVG']\n",
    "        gc_name = data2['gc_name']\n",
    "#         find the stars associated with each GC\n",
    "        fehs = fehs[np.where(data2['gc_name']==i)]\n",
    "        vlos = vlos[np.where(data2['gc_name']==i)]\n",
    "        gc_name = gc_name[np.where(data2['gc_name']==i)]\n",
    "#         determine the mean and sigma Fe/H values\n",
    "        mean = np.mean(fehs)\n",
    "        sigma = np.std(fehs)\n",
    "#         select only those stars within 1 sigma from the mean [Fe/H] value\n",
    "        fehs2 = fehs[np.fabs(mean-fehs)<(1.*sigma)]\n",
    "        vlos2 = vlos[np.fabs(mean-fehs)<(1.*sigma)]\n",
    "        names2 = gc_name[np.fabs(mean-fehs)<(1.*sigma)]\n",
    "#         repeat the procedure and get the new mean and sigma [Fe/H] values to compare\n",
    "        mean2 = np.mean(fehs2)\n",
    "        sigma2 = np.std(fehs2)\n",
    "#         again mask those stars which are within 2 sigmas of the new mean\n",
    "        fehs3 = fehs2[np.fabs(mean2-fehs2)<=(2.*sigma2)]\n",
    "        vlos3 = vlos2[np.fabs(mean2-fehs2)<(2.*sigma2)]\n",
    "        names3 = names2[np.fabs(mean2-fehs2)<(2.*sigma2)]\n",
    "#         calculate the final mean and sigma [Fe/H] values\n",
    "        mean3 = np.mean(fehs3)\n",
    "        sigma3 = np.std(fehs3)\n",
    "        diff = np.array(np.fabs(mean3-fehs_h[names_h==i]))\n",
    "    ax = fig.add_subplot(gs[p])\n",
    "    ax.hist(fehs,50,range=(-2.5,0.5),histtype='step',color='b',label=str(i),density=True)\n",
    "    ax.hist(fehs2,50,range=(-2.5,0.5),histtype='step',color='orange',density=True,label='Fe/H difference: '+str(\"%.4f\" % diff))\n",
    "    ax.hist(fehs3,50,range=(-2.5,0.5),histtype='step',color='red',density=True)\n",
    "    ax.legend(loc='best',frameon=False,fontsize=12)\n",
    "    ax.set_xlim(np.min(fehs)-0.2,np.max(fehs)+0.2)\n",
    "    p+=1\n",
    "axis = fig.axes\n",
    "axis[0].set(ylabel='N')\n",
    "axis[5].set(ylabel='N')\n",
    "axis[10].set(ylabel='N')\n",
    "axis[15].set(ylabel='N')\n",
    "axis[20].set(ylabel='N')\n",
    "axis[20].set(xlabel='[Fe/H]')\n",
    "axis[21].set(xlabel='[Fe/H]')\n",
    "axis[22].set(xlabel='[Fe/H]')\n",
    "axis[23].set(xlabel='[Fe/H]')\n",
    "axis[19].set(xlabel='[Fe/H]')\n",
    "\n",
    "axis[0].tick_params(direction='in',axis='both',length=3,right=True,top=True)\n",
    "axis[1].tick_params(direction='in',axis='both',length=3,right=True,top=True)\n",
    "axis[2].tick_params(direction='in',axis='both',length=3,right=True,top=True)\n",
    "axis[3].tick_params(direction='in',axis='both',length=3,right=True,top=True)\n",
    "axis[4].tick_params(direction='in',axis='both',length=3,right=True,top=True)\n",
    "axis[5].tick_params(direction='in',axis='both',length=3,right=True,top=True)\n",
    "axis[6].tick_params(direction='in',axis='both',length=3,right=True,top=True)\n",
    "axis[7].tick_params(direction='in',axis='both',length=3,right=True,top=True)\n",
    "axis[8].tick_params(direction='in',axis='both',length=3,right=True,top=True)\n",
    "axis[9].tick_params(direction='in',axis='both',length=3,right=True,top=True)\n",
    "axis[10].tick_params(direction='in',axis='both',length=3,right=True,top=True)\n",
    "axis[11].tick_params(direction='in',axis='both',length=3,right=True,top=True)\n",
    "axis[12].tick_params(direction='in',axis='both',length=3,right=True,top=True)\n",
    "axis[13].tick_params(direction='in',axis='both',length=3,right=True,top=True)\n",
    "axis[14].tick_params(direction='in',axis='both',length=3,right=True,top=True)\n",
    "axis[15].tick_params(direction='in',axis='both',length=3,right=True,top=True)\n",
    "axis[16].tick_params(direction='in',axis='both',length=3,right=True,top=True)\n",
    "axis[17].tick_params(direction='in',axis='both',length=3,right=True,top=True)\n",
    "axis[18].tick_params(direction='in',axis='both',length=3,right=True,top=True)\n",
    "axis[19].tick_params(direction='in',axis='both',length=3,right=True,top=True)\n",
    "axis[20].tick_params(direction='in',axis='both',length=3,right=True,top=True)\n",
    "axis[21].tick_params(direction='in',axis='both',length=3,right=True,top=True)\n",
    "axis[22].tick_params(direction='in',axis='both',length=3,right=True,top=True)\n",
    "axis[23].tick_params(direction='in',axis='both',length=3,right=True,top=True)\n",
    "# axis[24].tick_params(direction='in',axis='both',length=3,right=True,top=True)\n",
    "\n",
    "gs.update(wspace=0.2,hspace=0.2)\n",
    "\n",
    "# plt.savefig('fig3', format='pdf', dpi=400, bbox_inches='tight')\n",
    "\n",
    "\n"
   ]
  },
  {
   "cell_type": "markdown",
   "metadata": {},
   "source": [
    "# We will now remove all GC candidates which don't satisfy: |[Fe/H]apogee - [Fe/H]Harris| <0.5 dex. We then checke the MDF distribution for each GC, and decide how many sigma-clips we will apply to each GC. We will then loop through all the GCs and select the stars corresponding to the selected criteria"
   ]
  },
  {
   "cell_type": "markdown",
   "metadata": {},
   "source": [
    "Note: the names in the no-clipped, 1-clipped and 2-clipped here are for the APOGEE catalogue, and will likely change between data releases. An analysis of each GC MDF is needed every time"
   ]
  },
  {
   "cell_type": "markdown",
   "metadata": {},
   "source": [
    "# For GCs with no sigma clip. This includes GCs (or NSCs) such as omega-Cen, Terzan 5 and M54."
   ]
  },
  {
   "cell_type": "code",
   "execution_count": 24,
   "metadata": {},
   "outputs": [],
   "source": [
    "# set new savepath\n",
    "savepath2 = '/Users/danny/Desktop/apogee-gc/dr17/clipped/'"
   ]
  },
  {
   "cell_type": "code",
   "execution_count": 26,
   "metadata": {},
   "outputs": [
    {
     "name": "stderr",
     "output_type": "stream",
     "text": [
      "/Users/danny/opt/anaconda3/lib/python3.7/site-packages/ipykernel_launcher.py:3: TqdmDeprecationWarning: This function will be removed in tqdm==5.0.0\n",
      "Please use `tqdm.notebook.tqdm` instead of `tqdm.tqdm_notebook`\n",
      "  This is separate from the ipykernel package so we can avoid doing imports until\n"
     ]
    },
    {
     "data": {
      "application/vnd.jupyter.widget-view+json": {
       "model_id": "9a4bbf4a728f46a0be4ce5c0cca36ab1",
       "version_major": 2,
       "version_minor": 0
      },
      "text/plain": [
       "HBox(children=(FloatProgress(value=1.0, bar_style='info', max=1.0), HTML(value='')))"
      ]
     },
     "metadata": {},
     "output_type": "display_data"
    },
    {
     "name": "stdout",
     "output_type": "stream",
     "text": [
      "\n"
     ]
    }
   ],
   "source": [
    "names_noclip = ['NGC5139','NGC6558','NGC6715','Pal10','Terzan5']\n",
    "names = np.unique(names_noclip)\n",
    "for indx,i in tqdm.tqdm_notebook(enumerate(names)):\n",
    "#         get the necessary information from each star in the sample (i.e. Fe/H, GC name, APOGEE ID)\n",
    "        fehs = data2['FE_H']\n",
    "        apo_id = data2['APOGEE_ID']\n",
    "        gc_name = data2['gc_name']\n",
    "#         find the stars associated with each GC\n",
    "        fehs = fehs[np.where(data2['gc_name']==i)]\n",
    "        apo_id = apo_id[np.where(data2['gc_name']==i)]\n",
    "        gc_name = gc_name[np.where(data2['gc_name']==i)]\n",
    "#         save the ids\n",
    "        rec = np.recarray(len(apo_id), dtype=[('apogee_id',object),('name', object),('fehs', object)])\n",
    "        rec['apogee_id'] = apo_id\n",
    "        rec['name'] = gc_name\n",
    "        rec['fehs'] = fehs\n",
    "        np.savetxt(savepath2+i+'.txt',rec,fmt='%s')            "
   ]
  },
  {
   "cell_type": "markdown",
   "metadata": {},
   "source": [
    "# For GCs requiring 1 sigma clip"
   ]
  },
  {
   "cell_type": "code",
   "execution_count": 27,
   "metadata": {},
   "outputs": [
    {
     "name": "stderr",
     "output_type": "stream",
     "text": [
      "/Users/danny/opt/anaconda3/lib/python3.7/site-packages/ipykernel_launcher.py:3: TqdmDeprecationWarning: This function will be removed in tqdm==5.0.0\n",
      "Please use `tqdm.notebook.tqdm` instead of `tqdm.tqdm_notebook`\n",
      "  This is separate from the ipykernel package so we can avoid doing imports until\n"
     ]
    },
    {
     "data": {
      "application/vnd.jupyter.widget-view+json": {
       "model_id": "eee6c0df0c4547b3912083ca3790c1de",
       "version_major": 2,
       "version_minor": 0
      },
      "text/plain": [
       "HBox(children=(FloatProgress(value=1.0, bar_style='info', max=1.0), HTML(value='')))"
      ]
     },
     "metadata": {},
     "output_type": "display_data"
    },
    {
     "name": "stdout",
     "output_type": "stream",
     "text": [
      "\n"
     ]
    }
   ],
   "source": [
    "names_1clip = ['NGC104','NGC5904','NGC6121','NGC6205','NGC6254','NGC6273','NGC6304','NGC6656','NGC6809']\n",
    "names = np.unique(names_1clip)\n",
    "for indx,i in tqdm.tqdm_notebook(enumerate(names)):\n",
    "#         get the necessary information from each star in the sample (i.e. Fe/H, GC name, APOGEE ID)\n",
    "        fehs = data2['FE_H']\n",
    "        apo_id = data2['APOGEE_ID']\n",
    "        gc_name = data2['gc_name']\n",
    "#         find the stars associated with each GC\n",
    "        fehs = fehs[np.where(data2['gc_name']==i)]\n",
    "        apo_id = apo_id[np.where(data2['gc_name']==i)]\n",
    "        gc_name = gc_name[np.where(data2['gc_name']==i)]\n",
    "#         determine the mean and sigma Fe/H values\n",
    "        mean = np.mean(fehs)\n",
    "        sigma = np.std(fehs)\n",
    "#         select only those stars within 1 sigma from the mean [Fe/H] value\n",
    "        fehs2 = fehs[np.fabs(mean-fehs)<(1.*sigma)]\n",
    "        apo_id2 = apo_id[np.fabs(mean-fehs)<(1.*sigma)]\n",
    "        gc_name2 = gc_name[np.fabs(mean-fehs)<(1.*sigma)]\n",
    "#         save the ids\n",
    "        rec = np.recarray(len(apo_id2), dtype=[('apogee_id',object),('name', object),('fehs', object)])\n",
    "        rec['apogee_id'] = apo_id2\n",
    "        rec['name'] = gc_name2\n",
    "        rec['fehs'] = fehs2\n",
    "        np.savetxt(savepath2+i+'.txt',rec,fmt='%s')        "
   ]
  },
  {
   "cell_type": "markdown",
   "metadata": {},
   "source": [
    "# For GCs requiring 2-sigma clips"
   ]
  },
  {
   "cell_type": "code",
   "execution_count": 28,
   "metadata": {},
   "outputs": [
    {
     "name": "stderr",
     "output_type": "stream",
     "text": [
      "/Users/danny/opt/anaconda3/lib/python3.7/site-packages/ipykernel_launcher.py:5: TqdmDeprecationWarning: This function will be removed in tqdm==5.0.0\n",
      "Please use `tqdm.notebook.tqdm` instead of `tqdm.tqdm_notebook`\n",
      "  \"\"\"\n"
     ]
    },
    {
     "data": {
      "application/vnd.jupyter.widget-view+json": {
       "model_id": "b80053fbe6f34916b483555d4bdd8960",
       "version_major": 2,
       "version_minor": 0
      },
      "text/plain": [
       "HBox(children=(FloatProgress(value=1.0, bar_style='info', max=1.0), HTML(value='')))"
      ]
     },
     "metadata": {},
     "output_type": "display_data"
    },
    {
     "name": "stdout",
     "output_type": "stream",
     "text": [
      "\n"
     ]
    }
   ],
   "source": [
    "names_2clip = ['HP1','Liller1','NGC1851','NGC1904','NGC2808','NGC288','NGC3201','NGC362','NGC4147','NGC4590','NGC5024',\\\n",
    "              'NGC5053','NGC5272','NGC5466','NGC6171','NGC6229','NGC6293','NGC6316','NGC6380','NGC6388','NGC6441',\\\n",
    "              'NGC6528','NGC6539','NGC6553','NGC6752','NGC6760','Pal5','Pal6','Terzan2','Terzan6','Ton2','UKS1']\n",
    "names = np.unique(names_2clip)\n",
    "for indx,i in tqdm.tqdm_notebook(enumerate(names)):\n",
    "#         get the necessary information from each star in the sample (i.e. Fe/H, GC name, APOGEE ID)\n",
    "        fehs = data2['FE_H']\n",
    "        apo_id = data2['APOGEE_ID']\n",
    "        gc_name = data2['gc_name']\n",
    "#         find the stars associated with each GC\n",
    "        fehs = fehs[np.where(data2['gc_name']==i)]\n",
    "        apo_id = apo_id[np.where(data2['gc_name']==i)]\n",
    "        gc_name = gc_name[np.where(data2['gc_name']==i)]\n",
    "#         determine the mean and sigma Fe/H values\n",
    "        mean = np.mean(fehs)\n",
    "        sigma = np.std(fehs)\n",
    "#         select only those stars within 1 sigma from the mean [Fe/H] value\n",
    "        fehs2 = fehs[np.fabs(mean-fehs)<(1.*sigma)]\n",
    "        apo_id2 = apo_id[np.fabs(mean-fehs)<(1.*sigma)]\n",
    "        gc_name2 = gc_name[np.fabs(mean-fehs)<(1.*sigma)]\n",
    "#         repeat the procedure and get the new mean and sigma [Fe/H] values to compare\n",
    "        mean2 = np.mean(fehs2)\n",
    "        sigma2 = np.std(fehs2)\n",
    "#         again mask those stars which are within 2 sigmas of the new mean\n",
    "        fehs3 = fehs2[np.fabs(mean2-fehs2)<=(2.*sigma2)]\n",
    "        apo_id3 = apo_id2[np.fabs(mean2-fehs2)<(2.*sigma2)]\n",
    "        gc_name3 = gc_name2[np.fabs(mean2-fehs2)<(2.*sigma2)]\n",
    "#         save the ids\n",
    "        rec = np.recarray(len(apo_id3), dtype=[('apogee_id',object),('name', object),('fehs', object)])\n",
    "        rec['apogee_id'] = apo_id3\n",
    "        rec['name'] = gc_name3\n",
    "        rec['fehs'] = fehs3\n",
    "        np.savetxt(savepath2+i+'.txt',rec,fmt='%s')  "
   ]
  },
  {
   "cell_type": "markdown",
   "metadata": {},
   "source": [
    "# NOTE: For some GCs, the sigma clipping did not target the actual GC star members, this is because of contamination in the sample. For those GCs, we select only those stars with metallicities around the Harris catalogue value (within ~0.5 dex)."
   ]
  },
  {
   "cell_type": "code",
   "execution_count": 32,
   "metadata": {},
   "outputs": [
    {
     "name": "stderr",
     "output_type": "stream",
     "text": [
      "/Users/danny/opt/anaconda3/lib/python3.7/site-packages/ipykernel_launcher.py:3: TqdmDeprecationWarning: This function will be removed in tqdm==5.0.0\n",
      "Please use `tqdm.notebook.tqdm` instead of `tqdm.tqdm_notebook`\n",
      "  This is separate from the ipykernel package so we can avoid doing imports until\n"
     ]
    },
    {
     "data": {
      "application/vnd.jupyter.widget-view+json": {
       "model_id": "6d8955e23cb54106b24726c3868eb9da",
       "version_major": 2,
       "version_minor": 0
      },
      "text/plain": [
       "HBox(children=(FloatProgress(value=1.0, bar_style='info', max=1.0), HTML(value='')))"
      ]
     },
     "metadata": {},
     "output_type": "display_data"
    },
    {
     "name": "stdout",
     "output_type": "stream",
     "text": [
      "\n"
     ]
    }
   ],
   "source": [
    "names_o = ['NGC6218','NGC6341','NGC6397','NGC6522','NGC6540','NGC6544','NGC6569','NGC6723','NGC6838']\n",
    "names = np.unique(names_o)\n",
    "for indx,i in tqdm.tqdm_notebook(enumerate(names)):\n",
    "    if i=='NGC6569':\n",
    "#         get the necessary information from each star in the sample (i.e. Fe/H, GC name, APOGEE ID)\n",
    "        fehs = data2['FE_H']\n",
    "        apo_id = data2['APOGEE_ID']\n",
    "        gc_name = data2['gc_name']\n",
    "#         find the stars associated with each GC\n",
    "        fehs = fehs[np.where(data2['gc_name']==i)]\n",
    "        apo_id = apo_id[np.where(data2['gc_name']==i)]\n",
    "        gc_name = gc_name[np.where(data2['gc_name']==i)]\n",
    "#         create a mask to select only those stars that are GC members\n",
    "        mask = fehs<-0.5\n",
    "        fehs = fehs[mask]\n",
    "        apo_id = apo_id[mask]\n",
    "        gc_name = gc_name[mask]\n",
    "        #         save the ids\n",
    "        rec = np.recarray(len(apo_id), dtype=[('apogee_id',object),('name', object),('fehs', object)])\n",
    "        rec['apogee_id'] = apo_id\n",
    "        rec['name'] = gc_name\n",
    "        rec['fehs'] = fehs\n",
    "        np.savetxt(savepath2+i+'.txt',rec,fmt='%s')  \n",
    "    elif i=='NGC6522' or i=='NGC6838':\n",
    "#         get the necessary information from each star in the sample (i.e. Fe/H, GC name, APOGEE ID)\n",
    "        fehs = data2['FE_H']\n",
    "        apo_id = data2['APOGEE_ID']\n",
    "        gc_name = data2['gc_name']\n",
    "#         find the stars associated with each GC\n",
    "        fehs = fehs[np.where(data2['gc_name']==i)]\n",
    "        apo_id = apo_id[np.where(data2['gc_name']==i)]\n",
    "        gc_name = gc_name[np.where(data2['gc_name']==i)]\n",
    "#         create a mask to select only those stars that are GC members\n",
    "        mask = fehs<-0.7\n",
    "        fehs = fehs[mask]\n",
    "        apo_id = apo_id[mask]\n",
    "        gc_name = gc_name[mask]\n",
    "        #         save the ids\n",
    "        rec = np.recarray(len(apo_id), dtype=[('apogee_id',object),('name', object),('fehs', object)])\n",
    "        rec['apogee_id'] = apo_id\n",
    "        rec['name'] = gc_name\n",
    "        rec['fehs'] = fehs\n",
    "        np.savetxt(savepath2+i+'.txt',rec,fmt='%s') \n",
    "    elif i=='NGC6723' or i=='NGC6540':\n",
    "#         get the necessary information from each star in the sample (i.e. Fe/H, GC name, APOGEE ID)\n",
    "        fehs = data2['FE_H']\n",
    "        apo_id = data2['APOGEE_ID']\n",
    "        gc_name = data2['gc_name']\n",
    "#         find the stars associated with each GC\n",
    "        fehs = fehs[np.where(data2['gc_name']==i)]\n",
    "        apo_id = apo_id[np.where(data2['gc_name']==i)]\n",
    "        gc_name = gc_name[np.where(data2['gc_name']==i)]\n",
    "#         create a mask to select only those stars that are GC members\n",
    "        mask = fehs<-0.8\n",
    "        fehs = fehs[mask]\n",
    "        apo_id = apo_id[mask]\n",
    "        gc_name = gc_name[mask]\n",
    "        #         save the ids\n",
    "        rec = np.recarray(len(apo_id), dtype=[('apogee_id',object),('name', object),('fehs', object)])\n",
    "        rec['apogee_id'] = apo_id\n",
    "        rec['name'] = gc_name\n",
    "        rec['fehs'] = fehs\n",
    "        np.savetxt(savepath2+i+'.txt',rec,fmt='%s') \n",
    "    elif i=='NGC6544':\n",
    "#         get the necessary information from each star in the sample (i.e. Fe/H, GC name, APOGEE ID)\n",
    "        fehs = data2['FE_H']\n",
    "        apo_id = data2['APOGEE_ID']\n",
    "        gc_name = data2['gc_name']\n",
    "#         find the stars associated with each GC\n",
    "        fehs = fehs[np.where(data2['gc_name']==i)]\n",
    "        apo_id = apo_id[np.where(data2['gc_name']==i)]\n",
    "        gc_name = gc_name[np.where(data2['gc_name']==i)]\n",
    "#         create a mask to select only those stars that are GC members\n",
    "        mask = fehs<-0.9\n",
    "        fehs = fehs[mask]\n",
    "        apo_id = apo_id[mask]\n",
    "        gc_name = gc_name[mask]\n",
    "        #         save the ids\n",
    "        rec = np.recarray(len(apo_id), dtype=[('apogee_id',object),('name', object),('fehs', object)])\n",
    "        rec['apogee_id'] = apo_id\n",
    "        rec['name'] = gc_name\n",
    "        rec['fehs'] = fehs\n",
    "        np.savetxt(savepath2+i+'.txt',rec,fmt='%s') \n",
    "    elif i=='NGC6218':\n",
    "#         get the necessary information from each star in the sample (i.e. Fe/H, GC name, APOGEE ID)\n",
    "        fehs = data2['FE_H']\n",
    "        apo_id = data2['APOGEE_ID']\n",
    "        gc_name = data2['gc_name']\n",
    "#         find the stars associated with each GC\n",
    "        fehs = fehs[np.where(data2['gc_name']==i)]\n",
    "        apo_id = apo_id[np.where(data2['gc_name']==i)]\n",
    "        gc_name = gc_name[np.where(data2['gc_name']==i)]\n",
    "#         create a mask to select only those stars that are GC members\n",
    "        mask = fehs<-1\n",
    "        fehs = fehs[mask]\n",
    "        apo_id = apo_id[mask]\n",
    "        gc_name = gc_name[mask]\n",
    "        #         save the ids\n",
    "        rec = np.recarray(len(apo_id), dtype=[('apogee_id',object),('name', object),('fehs', object)])\n",
    "        rec['apogee_id'] = apo_id\n",
    "        rec['name'] = gc_name\n",
    "        rec['fehs'] = fehs\n",
    "        np.savetxt(savepath2+i+'.txt',rec,fmt='%s') \n",
    "    elif i=='NGC6397':\n",
    "#         get the necessary information from each star in the sample (i.e. Fe/H, GC name, APOGEE ID)\n",
    "        fehs = data2['FE_H']\n",
    "        apo_id = data2['APOGEE_ID']\n",
    "        gc_name = data2['gc_name']\n",
    "#         find the stars associated with each GC\n",
    "        fehs = fehs[np.where(data2['gc_name']==i)]\n",
    "        apo_id = apo_id[np.where(data2['gc_name']==i)]\n",
    "        gc_name = gc_name[np.where(data2['gc_name']==i)]\n",
    "#         create a mask to select only those stars that are GC members\n",
    "        mask = fehs<-1.5\n",
    "        fehs = fehs[mask]\n",
    "        apo_id = apo_id[mask]\n",
    "        gc_name = gc_name[mask]\n",
    "        #         save the ids\n",
    "        rec = np.recarray(len(apo_id), dtype=[('apogee_id',object),('name', object),('fehs', object)])\n",
    "        rec['apogee_id'] = apo_id\n",
    "        rec['name'] = gc_name\n",
    "        rec['fehs'] = fehs\n",
    "        np.savetxt(savepath2+i+'.txt',rec,fmt='%s')\n",
    "    elif i=='NGC6341':\n",
    "#         get the necessary information from each star in the sample (i.e. Fe/H, GC name, APOGEE ID)\n",
    "        fehs = data2['FE_H']\n",
    "        apo_id = data2['APOGEE_ID']\n",
    "        gc_name = data2['gc_name']\n",
    "#         find the stars associated with each GC\n",
    "        fehs = fehs[np.where(data2['gc_name']==i)]\n",
    "        apo_id = apo_id[np.where(data2['gc_name']==i)]\n",
    "        gc_name = gc_name[np.where(data2['gc_name']==i)]\n",
    "#         create a mask to select only those stars that are GC members\n",
    "        mask = fehs<-2\n",
    "        fehs = fehs[mask]\n",
    "        apo_id = apo_id[mask]\n",
    "        gc_name = gc_name[mask]\n",
    "        #         save the ids\n",
    "        rec = np.recarray(len(apo_id), dtype=[('apogee_id',object),('name', object),('fehs', object)])\n",
    "        rec['apogee_id'] = apo_id\n",
    "        rec['name'] = gc_name\n",
    "        rec['fehs'] = fehs\n",
    "        np.savetxt(savepath2+i+'.txt',rec,fmt='%s') \n"
   ]
  },
  {
   "cell_type": "markdown",
   "metadata": {},
   "source": [
    "join all the text files into one"
   ]
  },
  {
   "cell_type": "code",
   "execution_count": 33,
   "metadata": {},
   "outputs": [
    {
     "name": "stderr",
     "output_type": "stream",
     "text": [
      "/Users/danny/opt/anaconda3/lib/python3.7/site-packages/ipykernel_launcher.py:7: UserWarning: loadtxt: Empty input file: \"/Users/danny/Desktop/apogee-gc/dr17/clipped/NGC4147.txt\"\n",
      "  import sys\n",
      "/Users/danny/opt/anaconda3/lib/python3.7/site-packages/ipykernel_launcher.py:7: UserWarning: loadtxt: Empty input file: \"/Users/danny/Desktop/apogee-gc/dr17/clipped/NGC6293.txt\"\n",
      "  import sys\n",
      "/Users/danny/opt/anaconda3/lib/python3.7/site-packages/ipykernel_launcher.py:7: UserWarning: loadtxt: Empty input file: \"/Users/danny/Desktop/apogee-gc/dr17/clipped/Terzan6.txt\"\n",
      "  import sys\n"
     ]
    }
   ],
   "source": [
    "# saved the clipped sample\n",
    "import glob\n",
    "import sys\n",
    "files = glob.glob(savepath2+'*.txt')\n",
    "complete2=[]\n",
    "for i in files:\n",
    "    file = np.array(np.loadtxt(i,dtype='str'))\n",
    "    complete2.extend(file)\n",
    "    "
   ]
  },
  {
   "cell_type": "markdown",
   "metadata": {},
   "source": [
    "Concatenate the files and save it as one full sample"
   ]
  },
  {
   "cell_type": "code",
   "execution_count": 35,
   "metadata": {},
   "outputs": [
    {
     "name": "stdout",
     "output_type": "stream",
     "text": [
      "There are 4196 stars in Galactic GCs in the final sample\n"
     ]
    }
   ],
   "source": [
    "# save the full clipped sample together in one file\n",
    "print('There are '+str(len(complete2))+' stars in Galactic GCs in the final sample')\n",
    "np.savetxt('/Users/danny/Desktop/apogee-gc/dr17/clipped/complete.txt',complete2,fmt='%s')\n"
   ]
  },
  {
   "cell_type": "markdown",
   "metadata": {},
   "source": [
    "# Now merge the file with the APOGEE (or other data set) in topcat and you have your GC catalogue!"
   ]
  }
 ],
 "metadata": {
  "kernelspec": {
   "display_name": "Python 3",
   "language": "python",
   "name": "python3"
  },
  "language_info": {
   "codemirror_mode": {
    "name": "ipython",
    "version": 3
   },
   "file_extension": ".py",
   "mimetype": "text/x-python",
   "name": "python",
   "nbconvert_exporter": "python",
   "pygments_lexer": "ipython3",
   "version": "3.7.6"
  }
 },
 "nbformat": 4,
 "nbformat_minor": 2
}
