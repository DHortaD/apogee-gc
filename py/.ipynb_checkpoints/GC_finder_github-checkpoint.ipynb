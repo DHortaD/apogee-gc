{
 "cells": [
  {
   "cell_type": "markdown",
   "metadata": {},
   "source": [
    "# Notebook used to target GC stars in APOGEE DR16 using the Harris and Baumghardt GC catalogues"
   ]
  },
  {
   "cell_type": "code",
   "execution_count": null,
   "metadata": {},
   "outputs": [],
   "source": [
    "# load in the correct modules\n",
    "import numpy as np\n",
    "import matplotlib.pyplot as plt\n",
    "import tqdm\n",
    "from astropy.io import fits"
   ]
  },
  {
   "cell_type": "code",
   "execution_count": 3,
   "metadata": {},
   "outputs": [
    {
     "name": "stderr",
     "output_type": "stream",
     "text": [
      "WARNING: VerifyWarning: It is strongly recommended that column names contain only upper and lower-case ASCII letters, digits, or underscores for maximum compatibility with other software (got '[Fe/H]'). [astropy.io.fits.column]\n"
     ]
    }
   ],
   "source": [
    "# load in the cross-matched harris+Baumgardt catalogue\n",
    "harris_gc = fits.open('/Users/qpasa/Desktop/GC_chemistry/data/harris+baumgardt.fits')\n",
    "data_gc = harris_gc[1].data\n",
    "\n",
    "# get the data\n",
    "names_gc = data_gc.field('Name') #gc name\n",
    "fe_h_gc = data_gc.field('[Fe/H]')#gc metallicity from Harris\n",
    "vlos_gc = data_gc.field('rad_vel') #gc radial velocity from Baumgardt\n",
    "rc_gc = data_gc.field('rc') #gc core radius from Baumgardt\n",
    "rt_gc = data_gc.field('rt') #gc tidal radius from Baumgardt\n",
    "glon_gc = data_gc.field('l') #gc longitude from Harris\n",
    "glat_gc = data_gc.field('b') #gc latitude from Harris\n",
    "rsun_gc = data_gc.field('R_sun(kpc)') #gc longitude from Harris\n",
    "vlos_disp_gc = data_gc.field('v_disp') #gc velocity dispersion from Baumgardt\n",
    "pmra_gc = data_gc.field('pmra')#gc pmra from Baumgardt\n",
    "pmdec_gc = data_gc.field('pmdec')#gc pmdec from Baumgardt\n",
    "pmra_gc_err = data_gc.field('pmra_err')#gc pmra error from Baumgardt\n",
    "pmdec_gc_err = data_gc.field('pmdec_err')#gc pmdec error from Baumgardt\n"
   ]
  },
  {
   "cell_type": "code",
   "execution_count": 4,
   "metadata": {},
   "outputs": [],
   "source": [
    "rsun_gc = np.asarray(rsun_gc,dtype=float) \n",
    "rsun_gc = rsun_gc*1000 #transform distance into parsecs"
   ]
  },
  {
   "cell_type": "code",
   "execution_count": 5,
   "metadata": {},
   "outputs": [],
   "source": [
    "rt_degrees = np.tan(rt_gc/rsun_gc)*180/np.pi #now we have tidal radius in degrees"
   ]
  },
  {
   "cell_type": "code",
   "execution_count": 6,
   "metadata": {},
   "outputs": [
    {
     "name": "stderr",
     "output_type": "stream",
     "text": [
      "WARNING: VerifyWarning: It is strongly recommended that column names contain only upper and lower-case ASCII letters, digits, or underscores for maximum compatibility with other software (got '(m-M)V'). [astropy.io.fits.column]\n",
      "WARNING: VerifyWarning: It is strongly recommended that column names contain only upper and lower-case ASCII letters, digits, or underscores for maximum compatibility with other software (got '+/-_2'). [astropy.io.fits.column]\n",
      "WARNING: VerifyWarning: It is strongly recommended that column names contain only upper and lower-case ASCII letters, digits, or underscores for maximum compatibility with other software (got '+/-_2a'). [astropy.io.fits.column]\n"
     ]
    }
   ],
   "source": [
    "# load in the harris gc ids\n",
    "harris = fits.open('/Users/qpasa/Desktop/PhD/Data/harris2010.fits')\n",
    "data_h = harris[1].data\n",
    "\n",
    "names_h = data_h.field('ID') #gc name"
   ]
  },
  {
   "cell_type": "code",
   "execution_count": 7,
   "metadata": {},
   "outputs": [],
   "source": [
    "# Apply a mask to eliminate any [Fe/H] = -9999 abundances\n",
    "mask_fsr1753 = fe_h_gc!='-9999'\n",
    "# print(mask_fsr1753)\n",
    "\n",
    "names_gc = names_gc[mask_fsr1753]\n",
    "fe_h_gc = fe_h_gc[mask_fsr1753]\n",
    "vlos_gc = vlos_gc[mask_fsr1753]\n",
    "rc_gc = rc_gc[mask_fsr1753]\n",
    "rt_gc = rt_gc[mask_fsr1753]\n",
    "glon_gc = glon_gc[mask_fsr1753]\n",
    "glat_gc = glat_gc[mask_fsr1753]\n",
    "vlos_disp_gc = vlos_disp_gc[mask_fsr1753]\n",
    "pmra_gc = pmra_gc[mask_fsr1753]\n",
    "pmdec_gc = pmdec_gc[mask_fsr1753]\n",
    "pmra_gc_err = pmra_gc_err[mask_fsr1753]\n",
    "pmdec_gc_err = pmdec_gc_err[mask_fsr1753]\n",
    "rt_d_gc = rt_degrees[mask_fsr1753]\n",
    "\n"
   ]
  },
  {
   "cell_type": "code",
   "execution_count": 8,
   "metadata": {},
   "outputs": [],
   "source": [
    "# load in the APOGEE catalogue\n",
    "apogee = fits.open('/Users/qpasa/Desktop/PhD/Data/APOGEE/DR16/allStar-r12-l33.fits')\n",
    "data = apogee[1].data\n",
    "\n",
    "# get the data\n",
    "apogee_id = data.field('APOGEE_ID')\n",
    "fe_h = data.field('FE_H')\n",
    "vlos = data.field('VHELIO_AVG')\n",
    "glon = data.field('GLON')\n",
    "glat = data.field('GLAT')\n"
   ]
  },
  {
   "cell_type": "code",
   "execution_count": 9,
   "metadata": {},
   "outputs": [],
   "source": [
    "# Change the list array to float\n",
    "fe_h_gc = np.asarray(fe_h_gc,dtype=float)"
   ]
  },
  {
   "cell_type": "code",
   "execution_count": 14,
   "metadata": {},
   "outputs": [
    {
     "name": "stdout",
     "output_type": "stream",
     "text": [
      "0.007793391779485153\n",
      "(1, 448)\n"
     ]
    }
   ],
   "source": [
    "# estimate the projected distances\n",
    "d = np.sqrt(((glon-glon_gc[0])*(np.cos(glat_gc[0]*np.pi/180)))**2+((glat-glat_gc[0])**2))"
   ]
  },
  {
   "cell_type": "code",
   "execution_count": 16,
   "metadata": {},
   "outputs": [
    {
     "name": "stderr",
     "output_type": "stream",
     "text": [
      "\n",
      "0it [00:00, ?it/s]\u001b[A"
     ]
    },
    {
     "name": "stdout",
     "output_type": "stream",
     "text": [
      "NGC104\n"
     ]
    },
    {
     "name": "stderr",
     "output_type": "stream",
     "text": [
      "\n",
      "1it [00:06,  6.49s/it]\u001b[A"
     ]
    },
    {
     "name": "stdout",
     "output_type": "stream",
     "text": [
      "(237,)\n",
      "NGC288\n"
     ]
    },
    {
     "name": "stderr",
     "output_type": "stream",
     "text": [
      "\n",
      "2it [00:12,  6.45s/it]\u001b[A"
     ]
    },
    {
     "name": "stdout",
     "output_type": "stream",
     "text": [
      "(49,)\n",
      "NGC362\n"
     ]
    },
    {
     "name": "stderr",
     "output_type": "stream",
     "text": [
      "\n",
      "3it [00:19,  6.49s/it]\u001b[A"
     ]
    },
    {
     "name": "stdout",
     "output_type": "stream",
     "text": [
      "(62,)\n",
      "Whiting1\n"
     ]
    },
    {
     "name": "stderr",
     "output_type": "stream",
     "text": [
      "\n",
      "4it [00:26,  6.52s/it]\u001b[A"
     ]
    },
    {
     "name": "stdout",
     "output_type": "stream",
     "text": [
      "(0,)\n",
      "NGC1261\n"
     ]
    },
    {
     "name": "stderr",
     "output_type": "stream",
     "text": [
      "\n",
      "5it [00:32,  6.54s/it]\u001b[A"
     ]
    },
    {
     "name": "stdout",
     "output_type": "stream",
     "text": [
      "(0,)\n",
      "Pal1\n"
     ]
    },
    {
     "name": "stderr",
     "output_type": "stream",
     "text": [
      "\n",
      "6it [00:39,  6.53s/it]\u001b[A"
     ]
    },
    {
     "name": "stdout",
     "output_type": "stream",
     "text": [
      "(0,)\n",
      "AM1\n"
     ]
    },
    {
     "name": "stderr",
     "output_type": "stream",
     "text": [
      "\n",
      "7it [00:45,  6.60s/it]\u001b[A"
     ]
    },
    {
     "name": "stdout",
     "output_type": "stream",
     "text": [
      "(0,)\n",
      "Eridanus\n"
     ]
    },
    {
     "name": "stderr",
     "output_type": "stream",
     "text": [
      "\n",
      "8it [00:52,  6.63s/it]\u001b[A"
     ]
    },
    {
     "name": "stdout",
     "output_type": "stream",
     "text": [
      "(0,)\n",
      "Pal2\n"
     ]
    },
    {
     "name": "stderr",
     "output_type": "stream",
     "text": [
      "\n",
      "9it [00:59,  6.67s/it]\u001b[A"
     ]
    },
    {
     "name": "stdout",
     "output_type": "stream",
     "text": [
      "(0,)\n",
      "NGC1851\n"
     ]
    },
    {
     "name": "stderr",
     "output_type": "stream",
     "text": [
      "\n",
      "10it [01:06,  6.69s/it]\u001b[A"
     ]
    },
    {
     "name": "stdout",
     "output_type": "stream",
     "text": [
      "(63,)\n",
      "NGC1904\n"
     ]
    },
    {
     "name": "stderr",
     "output_type": "stream",
     "text": [
      "\n",
      "11it [01:12,  6.62s/it]\u001b[A"
     ]
    },
    {
     "name": "stdout",
     "output_type": "stream",
     "text": [
      "(29,)\n",
      "NGC2298\n"
     ]
    },
    {
     "name": "stderr",
     "output_type": "stream",
     "text": [
      "\n",
      "12it [01:19,  6.58s/it]\u001b[A"
     ]
    },
    {
     "name": "stdout",
     "output_type": "stream",
     "text": [
      "(0,)\n",
      "NGC2419\n"
     ]
    },
    {
     "name": "stderr",
     "output_type": "stream",
     "text": [
      "\n",
      "13it [01:25,  6.55s/it]\u001b[A"
     ]
    },
    {
     "name": "stdout",
     "output_type": "stream",
     "text": [
      "(81,)\n",
      "Pyxis\n"
     ]
    },
    {
     "name": "stderr",
     "output_type": "stream",
     "text": [
      "\n",
      "14it [01:31,  6.49s/it]\u001b[A"
     ]
    },
    {
     "name": "stdout",
     "output_type": "stream",
     "text": [
      "(0,)\n",
      "NGC2808\n"
     ]
    },
    {
     "name": "stderr",
     "output_type": "stream",
     "text": [
      "\n",
      "15it [01:38,  6.46s/it]\u001b[A"
     ]
    },
    {
     "name": "stdout",
     "output_type": "stream",
     "text": [
      "(111,)\n",
      "E3\n"
     ]
    },
    {
     "name": "stderr",
     "output_type": "stream",
     "text": [
      "\n",
      "16it [01:44,  6.42s/it]\u001b[A"
     ]
    },
    {
     "name": "stdout",
     "output_type": "stream",
     "text": [
      "(0,)\n",
      "Pal3\n"
     ]
    },
    {
     "name": "stderr",
     "output_type": "stream",
     "text": [
      "\n",
      "17it [01:50,  6.37s/it]\u001b[A"
     ]
    },
    {
     "name": "stdout",
     "output_type": "stream",
     "text": [
      "(0,)\n",
      "NGC3201\n"
     ]
    },
    {
     "name": "stderr",
     "output_type": "stream",
     "text": [
      "\n",
      "18it [01:57,  6.34s/it]\u001b[A"
     ]
    },
    {
     "name": "stdout",
     "output_type": "stream",
     "text": [
      "(210,)\n",
      "Pal4\n"
     ]
    },
    {
     "name": "stderr",
     "output_type": "stream",
     "text": [
      "\n",
      "19it [02:03,  6.32s/it]\u001b[A"
     ]
    },
    {
     "name": "stdout",
     "output_type": "stream",
     "text": [
      "(0,)\n",
      "NGC4147\n"
     ]
    },
    {
     "name": "stderr",
     "output_type": "stream",
     "text": [
      "\n",
      "20it [02:09,  6.33s/it]\u001b[A"
     ]
    },
    {
     "name": "stdout",
     "output_type": "stream",
     "text": [
      "(3,)\n",
      "NGC4372\n"
     ]
    },
    {
     "name": "stderr",
     "output_type": "stream",
     "text": [
      "\n",
      "21it [02:16,  6.35s/it]\u001b[A"
     ]
    },
    {
     "name": "stdout",
     "output_type": "stream",
     "text": [
      "(0,)\n",
      "Rup106\n"
     ]
    },
    {
     "name": "stderr",
     "output_type": "stream",
     "text": [
      "\n",
      "22it [02:22,  6.32s/it]\u001b[A"
     ]
    },
    {
     "name": "stdout",
     "output_type": "stream",
     "text": [
      "(5,)\n",
      "NGC4590\n"
     ]
    },
    {
     "name": "stderr",
     "output_type": "stream",
     "text": [
      "\n",
      "23it [02:28,  6.34s/it]\u001b[A"
     ]
    },
    {
     "name": "stdout",
     "output_type": "stream",
     "text": [
      "(41,)\n",
      "NGC4833\n"
     ]
    },
    {
     "name": "stderr",
     "output_type": "stream",
     "text": [
      "\n",
      "24it [02:35,  6.35s/it]\u001b[A"
     ]
    },
    {
     "name": "stdout",
     "output_type": "stream",
     "text": [
      "(0,)\n",
      "NGC5024\n"
     ]
    },
    {
     "name": "stderr",
     "output_type": "stream",
     "text": [
      "\n",
      "25it [02:41,  6.35s/it]\u001b[A"
     ]
    },
    {
     "name": "stdout",
     "output_type": "stream",
     "text": [
      "(46,)\n",
      "NGC5053\n"
     ]
    },
    {
     "name": "stderr",
     "output_type": "stream",
     "text": [
      "\n",
      "26it [02:47,  6.33s/it]\u001b[A"
     ]
    },
    {
     "name": "stdout",
     "output_type": "stream",
     "text": [
      "(15,)\n",
      "NGC5139\n"
     ]
    },
    {
     "name": "stderr",
     "output_type": "stream",
     "text": [
      "\n",
      "27it [02:54,  6.36s/it]\u001b[A"
     ]
    },
    {
     "name": "stdout",
     "output_type": "stream",
     "text": [
      "(1159,)\n",
      "NGC5272\n"
     ]
    },
    {
     "name": "stderr",
     "output_type": "stream",
     "text": [
      "\n",
      "28it [03:00,  6.37s/it]\u001b[A"
     ]
    },
    {
     "name": "stdout",
     "output_type": "stream",
     "text": [
      "(300,)\n",
      "NGC5286\n"
     ]
    },
    {
     "name": "stderr",
     "output_type": "stream",
     "text": [
      "\n",
      "29it [03:07,  6.38s/it]\u001b[A"
     ]
    },
    {
     "name": "stdout",
     "output_type": "stream",
     "text": [
      "(3,)\n",
      "AM4\n"
     ]
    },
    {
     "name": "stderr",
     "output_type": "stream",
     "text": [
      "\n",
      "30it [03:13,  6.40s/it]\u001b[A"
     ]
    },
    {
     "name": "stdout",
     "output_type": "stream",
     "text": [
      "(0,)\n",
      "NGC5466\n"
     ]
    },
    {
     "name": "stderr",
     "output_type": "stream",
     "text": [
      "\n",
      "31it [03:19,  6.38s/it]\u001b[A"
     ]
    },
    {
     "name": "stdout",
     "output_type": "stream",
     "text": [
      "(16,)\n",
      "NGC5634\n"
     ]
    },
    {
     "name": "stderr",
     "output_type": "stream",
     "text": [
      "\n",
      "32it [03:26,  6.40s/it]\u001b[A"
     ]
    },
    {
     "name": "stdout",
     "output_type": "stream",
     "text": [
      "(21,)\n",
      "NGC5694\n"
     ]
    },
    {
     "name": "stderr",
     "output_type": "stream",
     "text": [
      "\n",
      "33it [03:32,  6.40s/it]\u001b[A"
     ]
    },
    {
     "name": "stdout",
     "output_type": "stream",
     "text": [
      "(0,)\n",
      "IC4499\n"
     ]
    },
    {
     "name": "stderr",
     "output_type": "stream",
     "text": [
      "\n",
      "34it [03:38,  6.39s/it]\u001b[A"
     ]
    },
    {
     "name": "stdout",
     "output_type": "stream",
     "text": [
      "(0,)\n",
      "NGC5824\n"
     ]
    },
    {
     "name": "stderr",
     "output_type": "stream",
     "text": [
      "\n",
      "35it [03:45,  6.54s/it]\u001b[A"
     ]
    },
    {
     "name": "stdout",
     "output_type": "stream",
     "text": [
      "(0,)\n",
      "Pal5\n"
     ]
    },
    {
     "name": "stderr",
     "output_type": "stream",
     "text": [
      "\n",
      "36it [03:52,  6.55s/it]\u001b[A"
     ]
    },
    {
     "name": "stdout",
     "output_type": "stream",
     "text": [
      "(4,)\n",
      "NGC5897\n"
     ]
    },
    {
     "name": "stderr",
     "output_type": "stream",
     "text": [
      "\n",
      "37it [03:58,  6.49s/it]\u001b[A"
     ]
    },
    {
     "name": "stdout",
     "output_type": "stream",
     "text": [
      "(0,)\n",
      "NGC5904\n"
     ]
    },
    {
     "name": "stderr",
     "output_type": "stream",
     "text": [
      "\n",
      "38it [04:05,  6.48s/it]\u001b[A"
     ]
    },
    {
     "name": "stdout",
     "output_type": "stream",
     "text": [
      "(287,)\n",
      "NGC5927\n"
     ]
    },
    {
     "name": "stderr",
     "output_type": "stream",
     "text": [
      "\n",
      "39it [04:11,  6.49s/it]\u001b[A"
     ]
    },
    {
     "name": "stdout",
     "output_type": "stream",
     "text": [
      "(2,)\n",
      "NGC5946\n"
     ]
    },
    {
     "name": "stderr",
     "output_type": "stream",
     "text": [
      "\n",
      "40it [04:18,  6.56s/it]\u001b[A"
     ]
    },
    {
     "name": "stdout",
     "output_type": "stream",
     "text": [
      "(0,)\n",
      "NGC5986\n"
     ]
    },
    {
     "name": "stderr",
     "output_type": "stream",
     "text": [
      "\n",
      "41it [04:24,  6.49s/it]\u001b[A"
     ]
    },
    {
     "name": "stdout",
     "output_type": "stream",
     "text": [
      "(0,)\n",
      "Pal14\n"
     ]
    },
    {
     "name": "stderr",
     "output_type": "stream",
     "text": [
      "\n",
      "42it [04:31,  6.46s/it]\u001b[A"
     ]
    },
    {
     "name": "stdout",
     "output_type": "stream",
     "text": [
      "(0,)\n",
      "Lynga7\n"
     ]
    },
    {
     "name": "stderr",
     "output_type": "stream",
     "text": [
      "\n",
      "43it [04:37,  6.44s/it]\u001b[A"
     ]
    },
    {
     "name": "stdout",
     "output_type": "stream",
     "text": [
      "(0,)\n",
      "NGC6093\n"
     ]
    },
    {
     "name": "stderr",
     "output_type": "stream",
     "text": [
      "\n",
      "44it [04:44,  6.43s/it]\u001b[A"
     ]
    },
    {
     "name": "stdout",
     "output_type": "stream",
     "text": [
      "(3,)\n",
      "NGC6121\n"
     ]
    },
    {
     "name": "stderr",
     "output_type": "stream",
     "text": [
      "\n",
      "45it [04:50,  6.43s/it]\u001b[A"
     ]
    },
    {
     "name": "stdout",
     "output_type": "stream",
     "text": [
      "(185,)\n",
      "NGC6101\n"
     ]
    },
    {
     "name": "stderr",
     "output_type": "stream",
     "text": [
      "\n",
      "46it [04:56,  6.40s/it]\u001b[A"
     ]
    },
    {
     "name": "stdout",
     "output_type": "stream",
     "text": [
      "(0,)\n",
      "NGC6144\n"
     ]
    },
    {
     "name": "stderr",
     "output_type": "stream",
     "text": [
      "\n",
      "47it [05:03,  6.41s/it]\u001b[A"
     ]
    },
    {
     "name": "stdout",
     "output_type": "stream",
     "text": [
      "(0,)\n",
      "NGC6139\n"
     ]
    },
    {
     "name": "stderr",
     "output_type": "stream",
     "text": [
      "\n",
      "48it [05:09,  6.46s/it]\u001b[A"
     ]
    },
    {
     "name": "stdout",
     "output_type": "stream",
     "text": [
      "(0,)\n",
      "Terzan3\n"
     ]
    },
    {
     "name": "stderr",
     "output_type": "stream",
     "text": [
      "\n",
      "49it [05:16,  6.46s/it]\u001b[A"
     ]
    },
    {
     "name": "stdout",
     "output_type": "stream",
     "text": [
      "(0,)\n",
      "NGC6171\n"
     ]
    },
    {
     "name": "stderr",
     "output_type": "stream",
     "text": [
      "\n",
      "50it [05:23,  6.66s/it]\u001b[A"
     ]
    },
    {
     "name": "stdout",
     "output_type": "stream",
     "text": [
      "(104,)\n",
      "NGC6205\n"
     ]
    },
    {
     "name": "stderr",
     "output_type": "stream",
     "text": [
      "\n",
      "51it [05:29,  6.57s/it]\u001b[A"
     ]
    },
    {
     "name": "stdout",
     "output_type": "stream",
     "text": [
      "(144,)\n",
      "NGC6229\n"
     ]
    },
    {
     "name": "stderr",
     "output_type": "stream",
     "text": [
      "\n",
      "52it [05:36,  6.54s/it]\u001b[A"
     ]
    },
    {
     "name": "stdout",
     "output_type": "stream",
     "text": [
      "(11,)\n",
      "NGC6218\n"
     ]
    },
    {
     "name": "stderr",
     "output_type": "stream",
     "text": [
      "\n",
      "53it [05:42,  6.54s/it]\u001b[A"
     ]
    },
    {
     "name": "stdout",
     "output_type": "stream",
     "text": [
      "(206,)\n",
      "NGC6235\n"
     ]
    },
    {
     "name": "stderr",
     "output_type": "stream",
     "text": [
      "\n",
      "54it [05:49,  6.56s/it]\u001b[A"
     ]
    },
    {
     "name": "stdout",
     "output_type": "stream",
     "text": [
      "(0,)\n",
      "NGC6254\n"
     ]
    },
    {
     "name": "stderr",
     "output_type": "stream",
     "text": [
      "\n",
      "55it [05:55,  6.54s/it]\u001b[A"
     ]
    },
    {
     "name": "stdout",
     "output_type": "stream",
     "text": [
      "(103,)\n",
      "NGC6256\n"
     ]
    },
    {
     "name": "stderr",
     "output_type": "stream",
     "text": [
      "\n",
      "56it [06:02,  6.53s/it]\u001b[A"
     ]
    },
    {
     "name": "stdout",
     "output_type": "stream",
     "text": [
      "(0,)\n",
      "Pal15\n"
     ]
    },
    {
     "name": "stderr",
     "output_type": "stream",
     "text": [
      "\n",
      "57it [06:08,  6.54s/it]\u001b[A"
     ]
    },
    {
     "name": "stdout",
     "output_type": "stream",
     "text": [
      "(0,)\n",
      "NGC6266\n"
     ]
    },
    {
     "name": "stderr",
     "output_type": "stream",
     "text": [
      "\n",
      "58it [06:15,  6.68s/it]\u001b[A"
     ]
    },
    {
     "name": "stdout",
     "output_type": "stream",
     "text": [
      "(0,)\n",
      "NGC6273\n"
     ]
    },
    {
     "name": "stderr",
     "output_type": "stream",
     "text": [
      "\n",
      "59it [06:22,  6.63s/it]\u001b[A"
     ]
    },
    {
     "name": "stdout",
     "output_type": "stream",
     "text": [
      "(0,)\n",
      "NGC6284\n"
     ]
    },
    {
     "name": "stderr",
     "output_type": "stream",
     "text": [
      "\n",
      "60it [06:28,  6.57s/it]\u001b[A"
     ]
    },
    {
     "name": "stdout",
     "output_type": "stream",
     "text": [
      "(0,)\n",
      "NGC6287\n"
     ]
    },
    {
     "name": "stderr",
     "output_type": "stream",
     "text": [
      "\n",
      "61it [06:35,  6.51s/it]\u001b[A"
     ]
    },
    {
     "name": "stdout",
     "output_type": "stream",
     "text": [
      "(0,)\n",
      "NGC6293\n"
     ]
    },
    {
     "name": "stderr",
     "output_type": "stream",
     "text": [
      "\n",
      "62it [06:41,  6.49s/it]\u001b[A"
     ]
    },
    {
     "name": "stdout",
     "output_type": "stream",
     "text": [
      "(0,)\n",
      "NGC6304\n"
     ]
    },
    {
     "name": "stderr",
     "output_type": "stream",
     "text": [
      "\n",
      "63it [06:48,  6.49s/it]\u001b[A"
     ]
    },
    {
     "name": "stdout",
     "output_type": "stream",
     "text": [
      "(2,)\n",
      "NGC6316\n"
     ]
    },
    {
     "name": "stderr",
     "output_type": "stream",
     "text": [
      "\n",
      "64it [06:54,  6.49s/it]\u001b[A"
     ]
    },
    {
     "name": "stdout",
     "output_type": "stream",
     "text": [
      "(10,)\n",
      "NGC6341\n"
     ]
    },
    {
     "name": "stderr",
     "output_type": "stream",
     "text": [
      "\n",
      "65it [07:01,  6.54s/it]\u001b[A"
     ]
    },
    {
     "name": "stdout",
     "output_type": "stream",
     "text": [
      "(97,)\n",
      "NGC6325\n"
     ]
    },
    {
     "name": "stderr",
     "output_type": "stream",
     "text": [
      "\n",
      "66it [07:07,  6.57s/it]\u001b[A"
     ]
    },
    {
     "name": "stdout",
     "output_type": "stream",
     "text": [
      "(1,)\n",
      "NGC6333\n"
     ]
    },
    {
     "name": "stderr",
     "output_type": "stream",
     "text": [
      "\n",
      "67it [07:14,  6.71s/it]\u001b[A"
     ]
    },
    {
     "name": "stdout",
     "output_type": "stream",
     "text": [
      "(0,)\n",
      "NGC6342\n"
     ]
    },
    {
     "name": "stderr",
     "output_type": "stream",
     "text": [
      "\n",
      "68it [07:21,  6.76s/it]\u001b[A"
     ]
    },
    {
     "name": "stdout",
     "output_type": "stream",
     "text": [
      "(0,)\n",
      "NGC6356\n"
     ]
    },
    {
     "name": "stderr",
     "output_type": "stream",
     "text": [
      "\n",
      "69it [07:28,  6.77s/it]\u001b[A"
     ]
    },
    {
     "name": "stdout",
     "output_type": "stream",
     "text": [
      "(0,)\n",
      "NGC6355\n"
     ]
    },
    {
     "name": "stderr",
     "output_type": "stream",
     "text": [
      "\n",
      "70it [07:35,  6.84s/it]\u001b[A"
     ]
    },
    {
     "name": "stdout",
     "output_type": "stream",
     "text": [
      "(0,)\n",
      "NGC6352\n"
     ]
    },
    {
     "name": "stderr",
     "output_type": "stream",
     "text": [
      "\n",
      "71it [07:42,  6.88s/it]\u001b[A"
     ]
    },
    {
     "name": "stdout",
     "output_type": "stream",
     "text": [
      "(0,)\n",
      "IC1257\n"
     ]
    },
    {
     "name": "stderr",
     "output_type": "stream",
     "text": [
      "\n",
      "72it [07:49,  7.00s/it]\u001b[A"
     ]
    },
    {
     "name": "stdout",
     "output_type": "stream",
     "text": [
      "(0,)\n",
      "Terzan2\n"
     ]
    },
    {
     "name": "stderr",
     "output_type": "stream",
     "text": [
      "\n",
      "73it [07:56,  7.02s/it]\u001b[A"
     ]
    },
    {
     "name": "stdout",
     "output_type": "stream",
     "text": [
      "(4,)\n",
      "NGC6366\n"
     ]
    },
    {
     "name": "stderr",
     "output_type": "stream",
     "text": [
      "\n",
      "74it [08:03,  6.85s/it]\u001b[A"
     ]
    },
    {
     "name": "stdout",
     "output_type": "stream",
     "text": [
      "(0,)\n",
      "Terzan4\n"
     ]
    },
    {
     "name": "stderr",
     "output_type": "stream",
     "text": [
      "\n",
      "75it [08:09,  6.73s/it]\u001b[A"
     ]
    },
    {
     "name": "stdout",
     "output_type": "stream",
     "text": [
      "(5,)\n",
      "HP1\n"
     ]
    },
    {
     "name": "stderr",
     "output_type": "stream",
     "text": [
      "\n",
      "76it [08:16,  6.65s/it]\u001b[A"
     ]
    },
    {
     "name": "stdout",
     "output_type": "stream",
     "text": [
      "(22,)\n",
      "NGC6362\n"
     ]
    },
    {
     "name": "stderr",
     "output_type": "stream",
     "text": [
      "\n",
      "77it [08:22,  6.60s/it]\u001b[A"
     ]
    },
    {
     "name": "stdout",
     "output_type": "stream",
     "text": [
      "(0,)\n",
      "Liller1\n"
     ]
    },
    {
     "name": "stderr",
     "output_type": "stream",
     "text": [
      "\n",
      "78it [08:29,  6.57s/it]\u001b[A"
     ]
    },
    {
     "name": "stdout",
     "output_type": "stream",
     "text": [
      "(15,)\n",
      "NGC6380\n"
     ]
    },
    {
     "name": "stderr",
     "output_type": "stream",
     "text": [
      "\n",
      "79it [08:35,  6.59s/it]\u001b[A"
     ]
    },
    {
     "name": "stdout",
     "output_type": "stream",
     "text": [
      "(55,)\n",
      "Terzan1\n"
     ]
    },
    {
     "name": "stderr",
     "output_type": "stream",
     "text": [
      "\n",
      "80it [08:42,  6.59s/it]\u001b[A"
     ]
    },
    {
     "name": "stdout",
     "output_type": "stream",
     "text": [
      "(1,)\n",
      "Ton2\n"
     ]
    },
    {
     "name": "stderr",
     "output_type": "stream",
     "text": [
      "\n",
      "81it [08:49,  6.57s/it]\u001b[A"
     ]
    },
    {
     "name": "stdout",
     "output_type": "stream",
     "text": [
      "(0,)\n",
      "NGC6388\n"
     ]
    },
    {
     "name": "stderr",
     "output_type": "stream",
     "text": [
      "\n",
      "82it [08:55,  6.57s/it]\u001b[A"
     ]
    },
    {
     "name": "stdout",
     "output_type": "stream",
     "text": [
      "(52,)\n",
      "NGC6402\n"
     ]
    },
    {
     "name": "stderr",
     "output_type": "stream",
     "text": [
      "\n",
      "83it [09:03,  6.96s/it]\u001b[A"
     ]
    },
    {
     "name": "stdout",
     "output_type": "stream",
     "text": [
      "(6,)\n",
      "NGC6401\n"
     ]
    },
    {
     "name": "stderr",
     "output_type": "stream",
     "text": [
      "\n",
      "84it [09:13,  7.76s/it]\u001b[A"
     ]
    },
    {
     "name": "stdout",
     "output_type": "stream",
     "text": [
      "(12,)\n",
      "NGC6397\n"
     ]
    },
    {
     "name": "stderr",
     "output_type": "stream",
     "text": [
      "\n",
      "85it [09:19,  7.35s/it]\u001b[A"
     ]
    },
    {
     "name": "stdout",
     "output_type": "stream",
     "text": [
      "(250,)\n",
      "Pal6\n"
     ]
    },
    {
     "name": "stderr",
     "output_type": "stream",
     "text": [
      "\n",
      "86it [09:26,  7.11s/it]\u001b[A"
     ]
    },
    {
     "name": "stdout",
     "output_type": "stream",
     "text": [
      "(17,)\n",
      "NGC6426\n"
     ]
    },
    {
     "name": "stderr",
     "output_type": "stream",
     "text": [
      "\n",
      "87it [09:32,  6.90s/it]\u001b[A"
     ]
    },
    {
     "name": "stdout",
     "output_type": "stream",
     "text": [
      "(0,)\n",
      "Djorg1\n"
     ]
    },
    {
     "name": "stderr",
     "output_type": "stream",
     "text": [
      "\n",
      "88it [09:38,  6.77s/it]\u001b[A"
     ]
    },
    {
     "name": "stdout",
     "output_type": "stream",
     "text": [
      "(1,)\n",
      "Terzan5\n"
     ]
    },
    {
     "name": "stderr",
     "output_type": "stream",
     "text": [
      "\n",
      "89it [09:45,  6.69s/it]\u001b[A"
     ]
    },
    {
     "name": "stdout",
     "output_type": "stream",
     "text": [
      "(49,)\n",
      "NGC6440\n"
     ]
    },
    {
     "name": "stderr",
     "output_type": "stream",
     "text": [
      "\n",
      "90it [09:51,  6.63s/it]\u001b[A"
     ]
    },
    {
     "name": "stdout",
     "output_type": "stream",
     "text": [
      "(0,)\n",
      "NGC6441\n"
     ]
    },
    {
     "name": "stderr",
     "output_type": "stream",
     "text": [
      "\n",
      "91it [09:58,  6.63s/it]\u001b[A"
     ]
    },
    {
     "name": "stdout",
     "output_type": "stream",
     "text": [
      "(94,)\n",
      "Terzan6\n"
     ]
    },
    {
     "name": "stderr",
     "output_type": "stream",
     "text": [
      "\n",
      "92it [10:05,  6.60s/it]\u001b[A"
     ]
    },
    {
     "name": "stdout",
     "output_type": "stream",
     "text": [
      "(1,)\n",
      "NGC6453\n"
     ]
    },
    {
     "name": "stderr",
     "output_type": "stream",
     "text": [
      "\n",
      "93it [10:11,  6.62s/it]\u001b[A"
     ]
    },
    {
     "name": "stdout",
     "output_type": "stream",
     "text": [
      "(4,)\n",
      "UKS1\n"
     ]
    },
    {
     "name": "stderr",
     "output_type": "stream",
     "text": [
      "\n",
      "94it [10:18,  6.57s/it]\u001b[A"
     ]
    },
    {
     "name": "stdout",
     "output_type": "stream",
     "text": [
      "(7,)\n",
      "NGC6496\n"
     ]
    },
    {
     "name": "stderr",
     "output_type": "stream",
     "text": [
      "\n",
      "95it [10:24,  6.55s/it]\u001b[A"
     ]
    },
    {
     "name": "stdout",
     "output_type": "stream",
     "text": [
      "(0,)\n",
      "Terzan9\n"
     ]
    },
    {
     "name": "stderr",
     "output_type": "stream",
     "text": [
      "\n",
      "96it [10:31,  6.53s/it]\u001b[A"
     ]
    },
    {
     "name": "stdout",
     "output_type": "stream",
     "text": [
      "(2,)\n",
      "NGC6517\n"
     ]
    },
    {
     "name": "stderr",
     "output_type": "stream",
     "text": [
      "\n",
      "97it [10:37,  6.53s/it]\u001b[A"
     ]
    },
    {
     "name": "stdout",
     "output_type": "stream",
     "text": [
      "(27,)\n",
      "NGC6522\n"
     ]
    },
    {
     "name": "stderr",
     "output_type": "stream",
     "text": [
      "\n",
      "98it [10:44,  6.58s/it]\u001b[A"
     ]
    },
    {
     "name": "stdout",
     "output_type": "stream",
     "text": [
      "(76,)\n",
      "NGC6535\n"
     ]
    },
    {
     "name": "stderr",
     "output_type": "stream",
     "text": [
      "\n",
      "99it [10:51,  6.61s/it]\u001b[A"
     ]
    },
    {
     "name": "stdout",
     "output_type": "stream",
     "text": [
      "(0,)\n",
      "NGC6528\n"
     ]
    },
    {
     "name": "stderr",
     "output_type": "stream",
     "text": [
      "\n",
      "100it [10:58,  6.97s/it]\u001b[A"
     ]
    },
    {
     "name": "stdout",
     "output_type": "stream",
     "text": [
      "(5,)\n",
      "NGC6539\n"
     ]
    },
    {
     "name": "stderr",
     "output_type": "stream",
     "text": [
      "\n",
      "101it [11:07,  7.41s/it]\u001b[A"
     ]
    },
    {
     "name": "stdout",
     "output_type": "stream",
     "text": [
      "(19,)\n",
      "NGC6540\n"
     ]
    },
    {
     "name": "stderr",
     "output_type": "stream",
     "text": [
      "\n",
      "102it [11:14,  7.19s/it]\u001b[A"
     ]
    },
    {
     "name": "stdout",
     "output_type": "stream",
     "text": [
      "(23,)\n",
      "NGC6544\n"
     ]
    },
    {
     "name": "stderr",
     "output_type": "stream",
     "text": [
      "\n",
      "103it [11:20,  6.98s/it]\u001b[A"
     ]
    },
    {
     "name": "stdout",
     "output_type": "stream",
     "text": [
      "(365,)\n",
      "NGC6541\n"
     ]
    },
    {
     "name": "stderr",
     "output_type": "stream",
     "text": [
      "\n",
      "104it [11:26,  6.80s/it]\u001b[A"
     ]
    },
    {
     "name": "stdout",
     "output_type": "stream",
     "text": [
      "(0,)\n",
      "NGC6553\n"
     ]
    },
    {
     "name": "stderr",
     "output_type": "stream",
     "text": [
      "\n",
      "105it [11:33,  6.71s/it]\u001b[A"
     ]
    },
    {
     "name": "stdout",
     "output_type": "stream",
     "text": [
      "(74,)\n",
      "NGC6558\n"
     ]
    },
    {
     "name": "stderr",
     "output_type": "stream",
     "text": [
      "\n",
      "106it [11:39,  6.59s/it]\u001b[A"
     ]
    },
    {
     "name": "stdout",
     "output_type": "stream",
     "text": [
      "(1,)\n",
      "IC1276\n"
     ]
    },
    {
     "name": "stderr",
     "output_type": "stream",
     "text": [
      "\n",
      "107it [11:46,  6.54s/it]\u001b[A"
     ]
    },
    {
     "name": "stdout",
     "output_type": "stream",
     "text": [
      "(0,)\n",
      "NGC6569\n"
     ]
    },
    {
     "name": "stderr",
     "output_type": "stream",
     "text": [
      "\n",
      "108it [11:52,  6.62s/it]\u001b[A"
     ]
    },
    {
     "name": "stdout",
     "output_type": "stream",
     "text": [
      "(0,)\n",
      "BH261\n"
     ]
    },
    {
     "name": "stderr",
     "output_type": "stream",
     "text": [
      "\n",
      "109it [11:59,  6.60s/it]\u001b[A"
     ]
    },
    {
     "name": "stdout",
     "output_type": "stream",
     "text": [
      "(9,)\n",
      "NGC6584\n"
     ]
    },
    {
     "name": "stderr",
     "output_type": "stream",
     "text": [
      "\n",
      "110it [12:05,  6.53s/it]\u001b[A"
     ]
    },
    {
     "name": "stdout",
     "output_type": "stream",
     "text": [
      "(0,)\n",
      "NGC6624\n"
     ]
    },
    {
     "name": "stderr",
     "output_type": "stream",
     "text": [
      "\n",
      "111it [12:12,  6.52s/it]\u001b[A"
     ]
    },
    {
     "name": "stdout",
     "output_type": "stream",
     "text": [
      "(0,)\n",
      "NGC6626\n"
     ]
    },
    {
     "name": "stderr",
     "output_type": "stream",
     "text": [
      "\n",
      "112it [12:18,  6.54s/it]\u001b[A"
     ]
    },
    {
     "name": "stdout",
     "output_type": "stream",
     "text": [
      "(0,)\n",
      "NGC6638\n"
     ]
    },
    {
     "name": "stderr",
     "output_type": "stream",
     "text": [
      "\n",
      "113it [12:25,  6.52s/it]\u001b[A"
     ]
    },
    {
     "name": "stdout",
     "output_type": "stream",
     "text": [
      "(0,)\n",
      "NGC6637\n"
     ]
    },
    {
     "name": "stderr",
     "output_type": "stream",
     "text": [
      "\n",
      "114it [12:31,  6.54s/it]\u001b[A"
     ]
    },
    {
     "name": "stdout",
     "output_type": "stream",
     "text": [
      "(0,)\n",
      "NGC6642\n"
     ]
    },
    {
     "name": "stderr",
     "output_type": "stream",
     "text": [
      "\n",
      "115it [12:38,  6.50s/it]\u001b[A"
     ]
    },
    {
     "name": "stdout",
     "output_type": "stream",
     "text": [
      "(3,)\n",
      "NGC6652\n"
     ]
    },
    {
     "name": "stderr",
     "output_type": "stream",
     "text": [
      "\n",
      "116it [12:44,  6.49s/it]\u001b[A"
     ]
    },
    {
     "name": "stdout",
     "output_type": "stream",
     "text": [
      "(0,)\n",
      "NGC6656\n"
     ]
    },
    {
     "name": "stderr",
     "output_type": "stream",
     "text": [
      "\n",
      "117it [12:52,  6.71s/it]\u001b[A"
     ]
    },
    {
     "name": "stdout",
     "output_type": "stream",
     "text": [
      "(89,)\n",
      "Pal8\n"
     ]
    },
    {
     "name": "stderr",
     "output_type": "stream",
     "text": [
      "\n",
      "118it [12:59,  7.02s/it]\u001b[A"
     ]
    },
    {
     "name": "stdout",
     "output_type": "stream",
     "text": [
      "(0,)\n",
      "NGC6681\n"
     ]
    },
    {
     "name": "stderr",
     "output_type": "stream",
     "text": [
      "\n",
      "119it [13:10,  8.05s/it]\u001b[A"
     ]
    },
    {
     "name": "stdout",
     "output_type": "stream",
     "text": [
      "(0,)\n",
      "NGC6712\n"
     ]
    },
    {
     "name": "stderr",
     "output_type": "stream",
     "text": [
      "\n",
      "120it [13:18,  8.02s/it]\u001b[A"
     ]
    },
    {
     "name": "stdout",
     "output_type": "stream",
     "text": [
      "(0,)\n",
      "NGC6715\n"
     ]
    },
    {
     "name": "stderr",
     "output_type": "stream",
     "text": [
      "\n",
      "121it [13:25,  7.81s/it]\u001b[A"
     ]
    },
    {
     "name": "stdout",
     "output_type": "stream",
     "text": [
      "(888,)\n",
      "NGC6717\n"
     ]
    },
    {
     "name": "stderr",
     "output_type": "stream",
     "text": [
      "\n",
      "122it [13:32,  7.55s/it]\u001b[A"
     ]
    },
    {
     "name": "stdout",
     "output_type": "stream",
     "text": [
      "(0,)\n",
      "NGC6723\n"
     ]
    },
    {
     "name": "stderr",
     "output_type": "stream",
     "text": [
      "\n",
      "123it [13:39,  7.24s/it]\u001b[A"
     ]
    },
    {
     "name": "stdout",
     "output_type": "stream",
     "text": [
      "(13,)\n",
      "NGC6749\n"
     ]
    },
    {
     "name": "stderr",
     "output_type": "stream",
     "text": [
      "\n",
      "124it [13:45,  7.09s/it]\u001b[A"
     ]
    },
    {
     "name": "stdout",
     "output_type": "stream",
     "text": [
      "(0,)\n",
      "NGC6752\n"
     ]
    },
    {
     "name": "stderr",
     "output_type": "stream",
     "text": [
      "\n",
      "125it [13:52,  7.05s/it]\u001b[A"
     ]
    },
    {
     "name": "stdout",
     "output_type": "stream",
     "text": [
      "(235,)\n",
      "NGC6760\n"
     ]
    },
    {
     "name": "stderr",
     "output_type": "stream",
     "text": [
      "\n",
      "126it [13:59,  6.97s/it]\u001b[A"
     ]
    },
    {
     "name": "stdout",
     "output_type": "stream",
     "text": [
      "(18,)\n",
      "NGC6779\n"
     ]
    },
    {
     "name": "stderr",
     "output_type": "stream",
     "text": [
      "\n",
      "127it [14:06,  7.02s/it]\u001b[A"
     ]
    },
    {
     "name": "stdout",
     "output_type": "stream",
     "text": [
      "(0,)\n",
      "Terzan7\n"
     ]
    },
    {
     "name": "stderr",
     "output_type": "stream",
     "text": [
      "\n",
      "128it [14:14,  7.27s/it]\u001b[A"
     ]
    },
    {
     "name": "stdout",
     "output_type": "stream",
     "text": [
      "(0,)\n",
      "Pal10\n"
     ]
    },
    {
     "name": "stderr",
     "output_type": "stream",
     "text": [
      "\n",
      "129it [14:22,  7.62s/it]\u001b[A"
     ]
    },
    {
     "name": "stdout",
     "output_type": "stream",
     "text": [
      "(9,)\n",
      "Arp2\n"
     ]
    },
    {
     "name": "stderr",
     "output_type": "stream",
     "text": [
      "\n",
      "130it [14:30,  7.70s/it]\u001b[A"
     ]
    },
    {
     "name": "stdout",
     "output_type": "stream",
     "text": [
      "(0,)\n",
      "NGC6809\n"
     ]
    },
    {
     "name": "stderr",
     "output_type": "stream",
     "text": [
      "\n",
      "131it [14:37,  7.42s/it]\u001b[A"
     ]
    },
    {
     "name": "stdout",
     "output_type": "stream",
     "text": [
      "(99,)\n",
      "Terzan8\n"
     ]
    },
    {
     "name": "stderr",
     "output_type": "stream",
     "text": [
      "\n",
      "132it [14:44,  7.17s/it]\u001b[A"
     ]
    },
    {
     "name": "stdout",
     "output_type": "stream",
     "text": [
      "(0,)\n",
      "Pal11\n"
     ]
    },
    {
     "name": "stderr",
     "output_type": "stream",
     "text": [
      "\n",
      "133it [14:50,  7.03s/it]\u001b[A"
     ]
    },
    {
     "name": "stdout",
     "output_type": "stream",
     "text": [
      "(0,)\n",
      "NGC6838\n"
     ]
    },
    {
     "name": "stderr",
     "output_type": "stream",
     "text": [
      "\n",
      "134it [14:58,  7.22s/it]\u001b[A"
     ]
    },
    {
     "name": "stdout",
     "output_type": "stream",
     "text": [
      "(136,)\n",
      "NGC6864\n"
     ]
    },
    {
     "name": "stderr",
     "output_type": "stream",
     "text": [
      "\n",
      "135it [15:05,  7.12s/it]\u001b[A"
     ]
    },
    {
     "name": "stdout",
     "output_type": "stream",
     "text": [
      "(0,)\n",
      "NGC6934\n"
     ]
    },
    {
     "name": "stderr",
     "output_type": "stream",
     "text": [
      "\n",
      "136it [15:12,  7.02s/it]\u001b[A"
     ]
    },
    {
     "name": "stdout",
     "output_type": "stream",
     "text": [
      "(0,)\n",
      "NGC6981\n"
     ]
    },
    {
     "name": "stderr",
     "output_type": "stream",
     "text": [
      "\n",
      "137it [15:20,  7.39s/it]\u001b[A"
     ]
    },
    {
     "name": "stdout",
     "output_type": "stream",
     "text": [
      "(0,)\n",
      "NGC7006\n"
     ]
    },
    {
     "name": "stderr",
     "output_type": "stream",
     "text": [
      "\n",
      "138it [15:27,  7.32s/it]\u001b[A"
     ]
    },
    {
     "name": "stdout",
     "output_type": "stream",
     "text": [
      "(0,)\n",
      "NGC7078\n"
     ]
    },
    {
     "name": "stderr",
     "output_type": "stream",
     "text": [
      "\n",
      "139it [15:34,  7.20s/it]\u001b[A"
     ]
    },
    {
     "name": "stdout",
     "output_type": "stream",
     "text": [
      "(224,)\n",
      "NGC7089\n"
     ]
    },
    {
     "name": "stderr",
     "output_type": "stream",
     "text": [
      "\n",
      "140it [15:41,  7.06s/it]\u001b[A"
     ]
    },
    {
     "name": "stdout",
     "output_type": "stream",
     "text": [
      "(140,)\n",
      "NGC7099\n"
     ]
    },
    {
     "name": "stderr",
     "output_type": "stream",
     "text": [
      "\n",
      "141it [15:48,  6.98s/it]\u001b[A"
     ]
    },
    {
     "name": "stdout",
     "output_type": "stream",
     "text": [
      "(0,)\n",
      "Pal12\n"
     ]
    },
    {
     "name": "stderr",
     "output_type": "stream",
     "text": [
      "\n",
      "142it [15:55,  6.97s/it]\u001b[A"
     ]
    },
    {
     "name": "stdout",
     "output_type": "stream",
     "text": [
      "(0,)\n",
      "Pal13\n"
     ]
    },
    {
     "name": "stderr",
     "output_type": "stream",
     "text": [
      "\n",
      "143it [16:01,  6.92s/it]\u001b[A"
     ]
    },
    {
     "name": "stdout",
     "output_type": "stream",
     "text": [
      "(0,)\n",
      "NGC7492\n"
     ]
    },
    {
     "name": "stderr",
     "output_type": "stream",
     "text": [
      "\n",
      "144it [16:08,  6.73s/it]\u001b[A"
     ]
    },
    {
     "name": "stdout",
     "output_type": "stream",
     "text": [
      "(0,)\n"
     ]
    },
    {
     "name": "stderr",
     "output_type": "stream",
     "text": [
      "\n"
     ]
    }
   ],
   "source": [
    "# loop through all the GCs and find stars in APOGEE given [Fe/H], radial velocities and projected distance\n",
    "from math import nan\n",
    "\n",
    "# for every index and value in glon_gc\n",
    "for indx2,j in tqdm.tqdm(enumerate(glon_gc)):\n",
    "    a=indx2 #get the index\n",
    "    b = names_gc[a] #find the name associated to that index\n",
    "    print(b)\n",
    "    gcs_indx = [] #create an array to which associate a gc name to a star\n",
    "    for indx,i in enumerate(range(glon.shape[0]-1)):\n",
    "#           calculate the projected distance of a star to the cluster\n",
    "        d = np.sqrt(((glon[i]-glon_gc[a])*(np.cos(glat_gc[a]*np.pi/180)))**2+((glat[i]-glat_gc[a])**2))\n",
    "        if (np.fabs(vlos[i]-vlos_gc[a])<=(2*vlos_disp_gc[a])):\n",
    "            if d<=((2*rt_d_gc[a])):\n",
    "                    gcs_indx.append(indx)\n",
    "    print(np.shape(gcs_indx)) # print how many stars are identified in each GC\n",
    "    gcs_id = apogee_id[gcs_indx].T\n",
    "    gc_name = np.array([b]*len(gcs_id)).T\n",
    "    total = ((gc_name,gcs_id))\n",
    "    rec = np.recarray(len(gcs_id), dtype=[('apogee_id',object),\n",
    "                                        ('name', object)])\n",
    "    rec['apogee_id'] = gcs_id\n",
    "    rec['name'] = gc_name\n",
    "    np.savetxt('/Users/qpasa/Desktop/orbital_modelling/sav/gc_ids/'+b+'.txt',rec,fmt='%s')\n"
   ]
  },
  {
   "cell_type": "code",
   "execution_count": 17,
   "metadata": {},
   "outputs": [
    {
     "name": "stderr",
     "output_type": "stream",
     "text": [
      "/Users/qpasa/opt/anaconda3/lib/python3.7/site-packages/ipykernel_launcher.py:9: UserWarning: loadtxt: Empty input file: \"/Users/qpasa/Desktop/orbital_modelling/sav/gc_ids/NGC6266.txt\"\n",
      "  if __name__ == '__main__':\n",
      "/Users/qpasa/opt/anaconda3/lib/python3.7/site-packages/ipykernel_launcher.py:9: UserWarning: loadtxt: Empty input file: \"/Users/qpasa/Desktop/orbital_modelling/sav/gc_ids/NGC6273.txt\"\n",
      "  if __name__ == '__main__':\n",
      "/Users/qpasa/opt/anaconda3/lib/python3.7/site-packages/ipykernel_launcher.py:9: UserWarning: loadtxt: Empty input file: \"/Users/qpasa/Desktop/orbital_modelling/sav/gc_ids/NGC6717.txt\"\n",
      "  if __name__ == '__main__':\n",
      "/Users/qpasa/opt/anaconda3/lib/python3.7/site-packages/ipykernel_launcher.py:9: UserWarning: loadtxt: Empty input file: \"/Users/qpasa/Desktop/orbital_modelling/sav/gc_ids/NGC6139.txt\"\n",
      "  if __name__ == '__main__':\n",
      "/Users/qpasa/opt/anaconda3/lib/python3.7/site-packages/ipykernel_launcher.py:9: UserWarning: loadtxt: Empty input file: \"/Users/qpasa/Desktop/orbital_modelling/sav/gc_ids/NGC6101.txt\"\n",
      "  if __name__ == '__main__':\n",
      "/Users/qpasa/opt/anaconda3/lib/python3.7/site-packages/ipykernel_launcher.py:9: UserWarning: loadtxt: Empty input file: \"/Users/qpasa/Desktop/orbital_modelling/sav/gc_ids/NGC6934.txt\"\n",
      "  if __name__ == '__main__':\n",
      "/Users/qpasa/opt/anaconda3/lib/python3.7/site-packages/ipykernel_launcher.py:9: UserWarning: loadtxt: Empty input file: \"/Users/qpasa/Desktop/orbital_modelling/sav/gc_ids/Pal8.txt\"\n",
      "  if __name__ == '__main__':\n",
      "/Users/qpasa/opt/anaconda3/lib/python3.7/site-packages/ipykernel_launcher.py:9: UserWarning: loadtxt: Empty input file: \"/Users/qpasa/Desktop/orbital_modelling/sav/gc_ids/NGC6712.txt\"\n",
      "  if __name__ == '__main__':\n",
      "/Users/qpasa/opt/anaconda3/lib/python3.7/site-packages/ipykernel_launcher.py:9: UserWarning: loadtxt: Empty input file: \"/Users/qpasa/Desktop/orbital_modelling/sav/gc_ids/NGC6366.txt\"\n",
      "  if __name__ == '__main__':\n",
      "/Users/qpasa/opt/anaconda3/lib/python3.7/site-packages/ipykernel_launcher.py:9: UserWarning: loadtxt: Empty input file: \"/Users/qpasa/Desktop/orbital_modelling/sav/gc_ids/IC1276.txt\"\n",
      "  if __name__ == '__main__':\n",
      "/Users/qpasa/opt/anaconda3/lib/python3.7/site-packages/ipykernel_launcher.py:9: UserWarning: loadtxt: Empty input file: \"/Users/qpasa/Desktop/orbital_modelling/sav/gc_ids/Terzan8.txt\"\n",
      "  if __name__ == '__main__':\n",
      "/Users/qpasa/opt/anaconda3/lib/python3.7/site-packages/ipykernel_launcher.py:9: UserWarning: loadtxt: Empty input file: \"/Users/qpasa/Desktop/orbital_modelling/sav/gc_ids/NGC6749.txt\"\n",
      "  if __name__ == '__main__':\n",
      "/Users/qpasa/opt/anaconda3/lib/python3.7/site-packages/ipykernel_launcher.py:9: UserWarning: loadtxt: Empty input file: \"/Users/qpasa/Desktop/orbital_modelling/sav/gc_ids/Lynga7.txt\"\n",
      "  if __name__ == '__main__':\n",
      "/Users/qpasa/opt/anaconda3/lib/python3.7/site-packages/ipykernel_launcher.py:9: UserWarning: loadtxt: Empty input file: \"/Users/qpasa/Desktop/orbital_modelling/sav/gc_ids/NGC6638.txt\"\n",
      "  if __name__ == '__main__':\n",
      "/Users/qpasa/opt/anaconda3/lib/python3.7/site-packages/ipykernel_launcher.py:9: UserWarning: loadtxt: Empty input file: \"/Users/qpasa/Desktop/orbital_modelling/sav/gc_ids/NGC4833.txt\"\n",
      "  if __name__ == '__main__':\n",
      "/Users/qpasa/opt/anaconda3/lib/python3.7/site-packages/ipykernel_launcher.py:9: UserWarning: loadtxt: Empty input file: \"/Users/qpasa/Desktop/orbital_modelling/sav/gc_ids/NGC6981.txt\"\n",
      "  if __name__ == '__main__':\n",
      "/Users/qpasa/opt/anaconda3/lib/python3.7/site-packages/ipykernel_launcher.py:9: UserWarning: loadtxt: Empty input file: \"/Users/qpasa/Desktop/orbital_modelling/sav/gc_ids/Arp2.txt\"\n",
      "  if __name__ == '__main__':\n",
      "/Users/qpasa/opt/anaconda3/lib/python3.7/site-packages/ipykernel_launcher.py:9: UserWarning: loadtxt: Empty input file: \"/Users/qpasa/Desktop/orbital_modelling/sav/gc_ids/NGC2298.txt\"\n",
      "  if __name__ == '__main__':\n",
      "/Users/qpasa/opt/anaconda3/lib/python3.7/site-packages/ipykernel_launcher.py:9: UserWarning: loadtxt: Empty input file: \"/Users/qpasa/Desktop/orbital_modelling/sav/gc_ids/NGC7492.txt\"\n",
      "  if __name__ == '__main__':\n",
      "/Users/qpasa/opt/anaconda3/lib/python3.7/site-packages/ipykernel_launcher.py:9: UserWarning: loadtxt: Empty input file: \"/Users/qpasa/Desktop/orbital_modelling/sav/gc_ids/NGC4372.txt\"\n",
      "  if __name__ == '__main__':\n",
      "/Users/qpasa/opt/anaconda3/lib/python3.7/site-packages/ipykernel_launcher.py:9: UserWarning: loadtxt: Empty input file: \"/Users/qpasa/Desktop/orbital_modelling/sav/gc_ids/NGC5694.txt\"\n",
      "  if __name__ == '__main__':\n",
      "/Users/qpasa/opt/anaconda3/lib/python3.7/site-packages/ipykernel_launcher.py:9: UserWarning: loadtxt: Empty input file: \"/Users/qpasa/Desktop/orbital_modelling/sav/gc_ids/Whiting1.txt\"\n",
      "  if __name__ == '__main__':\n",
      "/Users/qpasa/opt/anaconda3/lib/python3.7/site-packages/ipykernel_launcher.py:9: UserWarning: loadtxt: Empty input file: \"/Users/qpasa/Desktop/orbital_modelling/sav/gc_ids/NGC6362.txt\"\n",
      "  if __name__ == '__main__':\n",
      "/Users/qpasa/opt/anaconda3/lib/python3.7/site-packages/ipykernel_launcher.py:9: UserWarning: loadtxt: Empty input file: \"/Users/qpasa/Desktop/orbital_modelling/sav/gc_ids/NGC6637.txt\"\n",
      "  if __name__ == '__main__':\n",
      "/Users/qpasa/opt/anaconda3/lib/python3.7/site-packages/ipykernel_launcher.py:9: UserWarning: loadtxt: Empty input file: \"/Users/qpasa/Desktop/orbital_modelling/sav/gc_ids/NGC6569.txt\"\n",
      "  if __name__ == '__main__':\n",
      "/Users/qpasa/opt/anaconda3/lib/python3.7/site-packages/ipykernel_launcher.py:9: UserWarning: loadtxt: Empty input file: \"/Users/qpasa/Desktop/orbital_modelling/sav/gc_ids/NGC6541.txt\"\n",
      "  if __name__ == '__main__':\n",
      "/Users/qpasa/opt/anaconda3/lib/python3.7/site-packages/ipykernel_launcher.py:9: UserWarning: loadtxt: Empty input file: \"/Users/qpasa/Desktop/orbital_modelling/sav/gc_ids/Terzan3.txt\"\n",
      "  if __name__ == '__main__':\n",
      "/Users/qpasa/opt/anaconda3/lib/python3.7/site-packages/ipykernel_launcher.py:9: UserWarning: loadtxt: Empty input file: \"/Users/qpasa/Desktop/orbital_modelling/sav/gc_ids/NGC6144.txt\"\n",
      "  if __name__ == '__main__':\n",
      "/Users/qpasa/opt/anaconda3/lib/python3.7/site-packages/ipykernel_launcher.py:9: UserWarning: loadtxt: Empty input file: \"/Users/qpasa/Desktop/orbital_modelling/sav/gc_ids/NGC5897.txt\"\n",
      "  if __name__ == '__main__':\n",
      "/Users/qpasa/opt/anaconda3/lib/python3.7/site-packages/ipykernel_launcher.py:9: UserWarning: loadtxt: Empty input file: \"/Users/qpasa/Desktop/orbital_modelling/sav/gc_ids/NGC6352.txt\"\n",
      "  if __name__ == '__main__':\n",
      "/Users/qpasa/opt/anaconda3/lib/python3.7/site-packages/ipykernel_launcher.py:9: UserWarning: loadtxt: Empty input file: \"/Users/qpasa/Desktop/orbital_modelling/sav/gc_ids/IC1257.txt\"\n",
      "  if __name__ == '__main__':\n",
      "/Users/qpasa/opt/anaconda3/lib/python3.7/site-packages/ipykernel_launcher.py:9: UserWarning: loadtxt: Empty input file: \"/Users/qpasa/Desktop/orbital_modelling/sav/gc_ids/NGC7099.txt\"\n",
      "  if __name__ == '__main__':\n",
      "/Users/qpasa/opt/anaconda3/lib/python3.7/site-packages/ipykernel_launcher.py:9: UserWarning: loadtxt: Empty input file: \"/Users/qpasa/Desktop/orbital_modelling/sav/gc_ids/Pyxis.txt\"\n",
      "  if __name__ == '__main__':\n",
      "/Users/qpasa/opt/anaconda3/lib/python3.7/site-packages/ipykernel_launcher.py:9: UserWarning: loadtxt: Empty input file: \"/Users/qpasa/Desktop/orbital_modelling/sav/gc_ids/NGC6355.txt\"\n",
      "  if __name__ == '__main__':\n",
      "/Users/qpasa/opt/anaconda3/lib/python3.7/site-packages/ipykernel_launcher.py:9: UserWarning: loadtxt: Empty input file: \"/Users/qpasa/Desktop/orbital_modelling/sav/gc_ids/IC4499.txt\"\n",
      "  if __name__ == '__main__':\n",
      "/Users/qpasa/opt/anaconda3/lib/python3.7/site-packages/ipykernel_launcher.py:9: UserWarning: loadtxt: Empty input file: \"/Users/qpasa/Desktop/orbital_modelling/sav/gc_ids/NGC6779.txt\"\n",
      "  if __name__ == '__main__':\n",
      "/Users/qpasa/opt/anaconda3/lib/python3.7/site-packages/ipykernel_launcher.py:9: UserWarning: loadtxt: Empty input file: \"/Users/qpasa/Desktop/orbital_modelling/sav/gc_ids/NGC6235.txt\"\n",
      "  if __name__ == '__main__':\n",
      "/Users/qpasa/opt/anaconda3/lib/python3.7/site-packages/ipykernel_launcher.py:9: UserWarning: loadtxt: Empty input file: \"/Users/qpasa/Desktop/orbital_modelling/sav/gc_ids/NGC6584.txt\"\n",
      "  if __name__ == '__main__':\n",
      "/Users/qpasa/opt/anaconda3/lib/python3.7/site-packages/ipykernel_launcher.py:9: UserWarning: loadtxt: Empty input file: \"/Users/qpasa/Desktop/orbital_modelling/sav/gc_ids/NGC6624.txt\"\n",
      "  if __name__ == '__main__':\n",
      "/Users/qpasa/opt/anaconda3/lib/python3.7/site-packages/ipykernel_launcher.py:9: UserWarning: loadtxt: Empty input file: \"/Users/qpasa/Desktop/orbital_modelling/sav/gc_ids/NGC6426.txt\"\n",
      "  if __name__ == '__main__':\n",
      "/Users/qpasa/opt/anaconda3/lib/python3.7/site-packages/ipykernel_launcher.py:9: UserWarning: loadtxt: Empty input file: \"/Users/qpasa/Desktop/orbital_modelling/sav/gc_ids/NGC6356.txt\"\n",
      "  if __name__ == '__main__':\n",
      "/Users/qpasa/opt/anaconda3/lib/python3.7/site-packages/ipykernel_launcher.py:9: UserWarning: loadtxt: Empty input file: \"/Users/qpasa/Desktop/orbital_modelling/sav/gc_ids/NGC6342.txt\"\n",
      "  if __name__ == '__main__':\n",
      "/Users/qpasa/opt/anaconda3/lib/python3.7/site-packages/ipykernel_launcher.py:9: UserWarning: loadtxt: Empty input file: \"/Users/qpasa/Desktop/orbital_modelling/sav/gc_ids/NGC6626.txt\"\n",
      "  if __name__ == '__main__':\n",
      "/Users/qpasa/opt/anaconda3/lib/python3.7/site-packages/ipykernel_launcher.py:9: UserWarning: loadtxt: Empty input file: \"/Users/qpasa/Desktop/orbital_modelling/sav/gc_ids/Terzan7.txt\"\n",
      "  if __name__ == '__main__':\n",
      "/Users/qpasa/opt/anaconda3/lib/python3.7/site-packages/ipykernel_launcher.py:9: UserWarning: loadtxt: Empty input file: \"/Users/qpasa/Desktop/orbital_modelling/sav/gc_ids/Ton2.txt\"\n",
      "  if __name__ == '__main__':\n",
      "/Users/qpasa/opt/anaconda3/lib/python3.7/site-packages/ipykernel_launcher.py:9: UserWarning: loadtxt: Empty input file: \"/Users/qpasa/Desktop/orbital_modelling/sav/gc_ids/Eridanus.txt\"\n",
      "  if __name__ == '__main__':\n",
      "/Users/qpasa/opt/anaconda3/lib/python3.7/site-packages/ipykernel_launcher.py:9: UserWarning: loadtxt: Empty input file: \"/Users/qpasa/Desktop/orbital_modelling/sav/gc_ids/NGC7006.txt\"\n",
      "  if __name__ == '__main__':\n",
      "/Users/qpasa/opt/anaconda3/lib/python3.7/site-packages/ipykernel_launcher.py:9: UserWarning: loadtxt: Empty input file: \"/Users/qpasa/Desktop/orbital_modelling/sav/gc_ids/E3.txt\"\n",
      "  if __name__ == '__main__':\n",
      "/Users/qpasa/opt/anaconda3/lib/python3.7/site-packages/ipykernel_launcher.py:9: UserWarning: loadtxt: Empty input file: \"/Users/qpasa/Desktop/orbital_modelling/sav/gc_ids/NGC6287.txt\"\n",
      "  if __name__ == '__main__':\n",
      "/Users/qpasa/opt/anaconda3/lib/python3.7/site-packages/ipykernel_launcher.py:9: UserWarning: loadtxt: Empty input file: \"/Users/qpasa/Desktop/orbital_modelling/sav/gc_ids/NGC6293.txt\"\n",
      "  if __name__ == '__main__':\n",
      "/Users/qpasa/opt/anaconda3/lib/python3.7/site-packages/ipykernel_launcher.py:9: UserWarning: loadtxt: Empty input file: \"/Users/qpasa/Desktop/orbital_modelling/sav/gc_ids/Pal11.txt\"\n",
      "  if __name__ == '__main__':\n",
      "/Users/qpasa/opt/anaconda3/lib/python3.7/site-packages/ipykernel_launcher.py:9: UserWarning: loadtxt: Empty input file: \"/Users/qpasa/Desktop/orbital_modelling/sav/gc_ids/NGC6333.txt\"\n",
      "  if __name__ == '__main__':\n",
      "/Users/qpasa/opt/anaconda3/lib/python3.7/site-packages/ipykernel_launcher.py:9: UserWarning: loadtxt: Empty input file: \"/Users/qpasa/Desktop/orbital_modelling/sav/gc_ids/NGC6496.txt\"\n",
      "  if __name__ == '__main__':\n",
      "/Users/qpasa/opt/anaconda3/lib/python3.7/site-packages/ipykernel_launcher.py:9: UserWarning: loadtxt: Empty input file: \"/Users/qpasa/Desktop/orbital_modelling/sav/gc_ids/NGC6864.txt\"\n",
      "  if __name__ == '__main__':\n",
      "/Users/qpasa/opt/anaconda3/lib/python3.7/site-packages/ipykernel_launcher.py:9: UserWarning: loadtxt: Empty input file: \"/Users/qpasa/Desktop/orbital_modelling/sav/gc_ids/Pal13.txt\"\n",
      "  if __name__ == '__main__':\n",
      "/Users/qpasa/opt/anaconda3/lib/python3.7/site-packages/ipykernel_launcher.py:9: UserWarning: loadtxt: Empty input file: \"/Users/qpasa/Desktop/orbital_modelling/sav/gc_ids/Pal4.txt\"\n",
      "  if __name__ == '__main__':\n",
      "/Users/qpasa/opt/anaconda3/lib/python3.7/site-packages/ipykernel_launcher.py:9: UserWarning: loadtxt: Empty input file: \"/Users/qpasa/Desktop/orbital_modelling/sav/gc_ids/NGC6535.txt\"\n",
      "  if __name__ == '__main__':\n",
      "/Users/qpasa/opt/anaconda3/lib/python3.7/site-packages/ipykernel_launcher.py:9: UserWarning: loadtxt: Empty input file: \"/Users/qpasa/Desktop/orbital_modelling/sav/gc_ids/NGC6284.txt\"\n",
      "  if __name__ == '__main__':\n",
      "/Users/qpasa/opt/anaconda3/lib/python3.7/site-packages/ipykernel_launcher.py:9: UserWarning: loadtxt: Empty input file: \"/Users/qpasa/Desktop/orbital_modelling/sav/gc_ids/AM4.txt\"\n",
      "  if __name__ == '__main__':\n",
      "/Users/qpasa/opt/anaconda3/lib/python3.7/site-packages/ipykernel_launcher.py:9: UserWarning: loadtxt: Empty input file: \"/Users/qpasa/Desktop/orbital_modelling/sav/gc_ids/Pal12.txt\"\n",
      "  if __name__ == '__main__':\n",
      "/Users/qpasa/opt/anaconda3/lib/python3.7/site-packages/ipykernel_launcher.py:9: UserWarning: loadtxt: Empty input file: \"/Users/qpasa/Desktop/orbital_modelling/sav/gc_ids/NGC6681.txt\"\n",
      "  if __name__ == '__main__':\n",
      "/Users/qpasa/opt/anaconda3/lib/python3.7/site-packages/ipykernel_launcher.py:9: UserWarning: loadtxt: Empty input file: \"/Users/qpasa/Desktop/orbital_modelling/sav/gc_ids/NGC6440.txt\"\n",
      "  if __name__ == '__main__':\n",
      "/Users/qpasa/opt/anaconda3/lib/python3.7/site-packages/ipykernel_launcher.py:9: UserWarning: loadtxt: Empty input file: \"/Users/qpasa/Desktop/orbital_modelling/sav/gc_ids/NGC5824.txt\"\n",
      "  if __name__ == '__main__':\n",
      "/Users/qpasa/opt/anaconda3/lib/python3.7/site-packages/ipykernel_launcher.py:9: UserWarning: loadtxt: Empty input file: \"/Users/qpasa/Desktop/orbital_modelling/sav/gc_ids/NGC6652.txt\"\n",
      "  if __name__ == '__main__':\n",
      "/Users/qpasa/opt/anaconda3/lib/python3.7/site-packages/ipykernel_launcher.py:9: UserWarning: loadtxt: Empty input file: \"/Users/qpasa/Desktop/orbital_modelling/sav/gc_ids/NGC6256.txt\"\n",
      "  if __name__ == '__main__':\n",
      "/Users/qpasa/opt/anaconda3/lib/python3.7/site-packages/ipykernel_launcher.py:9: UserWarning: loadtxt: Empty input file: \"/Users/qpasa/Desktop/orbital_modelling/sav/gc_ids/Pal1.txt\"\n",
      "  if __name__ == '__main__':\n",
      "/Users/qpasa/opt/anaconda3/lib/python3.7/site-packages/ipykernel_launcher.py:9: UserWarning: loadtxt: Empty input file: \"/Users/qpasa/Desktop/orbital_modelling/sav/gc_ids/NGC5986.txt\"\n",
      "  if __name__ == '__main__':\n",
      "/Users/qpasa/opt/anaconda3/lib/python3.7/site-packages/ipykernel_launcher.py:9: UserWarning: loadtxt: Empty input file: \"/Users/qpasa/Desktop/orbital_modelling/sav/gc_ids/AM1.txt\"\n",
      "  if __name__ == '__main__':\n",
      "/Users/qpasa/opt/anaconda3/lib/python3.7/site-packages/ipykernel_launcher.py:9: UserWarning: loadtxt: Empty input file: \"/Users/qpasa/Desktop/orbital_modelling/sav/gc_ids/Pal15.txt\"\n",
      "  if __name__ == '__main__':\n",
      "/Users/qpasa/opt/anaconda3/lib/python3.7/site-packages/ipykernel_launcher.py:9: UserWarning: loadtxt: Empty input file: \"/Users/qpasa/Desktop/orbital_modelling/sav/gc_ids/Pal2.txt\"\n",
      "  if __name__ == '__main__':\n",
      "/Users/qpasa/opt/anaconda3/lib/python3.7/site-packages/ipykernel_launcher.py:9: UserWarning: loadtxt: Empty input file: \"/Users/qpasa/Desktop/orbital_modelling/sav/gc_ids/NGC5946.txt\"\n",
      "  if __name__ == '__main__':\n",
      "/Users/qpasa/opt/anaconda3/lib/python3.7/site-packages/ipykernel_launcher.py:9: UserWarning: loadtxt: Empty input file: \"/Users/qpasa/Desktop/orbital_modelling/sav/gc_ids/NGC1261.txt\"\n",
      "  if __name__ == '__main__':\n",
      "/Users/qpasa/opt/anaconda3/lib/python3.7/site-packages/ipykernel_launcher.py:9: UserWarning: loadtxt: Empty input file: \"/Users/qpasa/Desktop/orbital_modelling/sav/gc_ids/Pal3.txt\"\n",
      "  if __name__ == '__main__':\n",
      "/Users/qpasa/opt/anaconda3/lib/python3.7/site-packages/ipykernel_launcher.py:9: UserWarning: loadtxt: Empty input file: \"/Users/qpasa/Desktop/orbital_modelling/sav/gc_ids/Pal14.txt\"\n",
      "  if __name__ == '__main__':\n"
     ]
    }
   ],
   "source": [
    "# save the files for each GC out\n",
    "import glob\n",
    "import sys\n",
    "files = glob.glob(\"/Users/qpasa/Desktop/orbital_modelling/sav/gc_ids/*.txt\")\n",
    "\n",
    "complete=[]\n",
    "for i in files:\n",
    "    file = np.array(np.loadtxt(i,dtype='str'))\n",
    "    complete.extend(file)"
   ]
  },
  {
   "cell_type": "code",
   "execution_count": 18,
   "metadata": {},
   "outputs": [
    {
     "name": "stdout",
     "output_type": "stream",
     "text": [
      "(6665,)\n",
      "['2M09122113-6447138' 'NGC2808']\n"
     ]
    }
   ],
   "source": [
    "# save the full sample together\n",
    "np.savetxt('/Users/qpasa/Desktop/orbital_modelling/sav/gc_ids/complete.txt',complete,fmt='%s')"
   ]
  },
  {
   "cell_type": "code",
   "execution_count": 615,
   "metadata": {},
   "outputs": [
    {
     "name": "stdout",
     "output_type": "stream",
     "text": [
      "dict_keys(['Rup106', 'NGC6715', 'NGC6517', 'NGC1904', 'NGC6528', 'NGC2808', 'NGC5024', 'NGC6539', 'NGC6316', 'Liller1', 'NGC5634', 'NGC7078', 'NGC6171', 'NGC6205', 'NGC6760', 'NGC5053', 'NGC6229', 'NGC6388', 'NGC5904', 'NGC6809', 'Terzan2', 'NGC6838', 'UKS1', 'NGC6540', 'NGC4590', 'Terzan1', 'NGC6218', 'NGC5466', 'BH261', 'NGC3201', 'NGC6341', 'Terzan4', 'NGC6553', 'NGC5927', 'NGC362', 'NGC4147', 'Terzan5', 'NGC7089', 'NGC6397', 'NGC5139', 'NGC6752', 'NGC6544', 'NGC5272', 'NGC6380', 'Pal10', 'NGC6522', 'NGC104', 'Pal6', 'NGC6441', 'NGC1851', 'NGC6723', 'Pal5', 'NGC6656', 'NGC6121', 'NGC288', 'HP1', 'NGC6254'])\n"
     ]
    }
   ],
   "source": [
    "# check how many GCs are there initially\n",
    "from collections import Counter\n",
    "\n",
    "print((Counter(name).keys()))\n",
    "\n",
    "# there's initially 93 GCs"
   ]
  },
  {
   "cell_type": "code",
   "execution_count": 10,
   "metadata": {},
   "outputs": [
    {
     "name": "stdout",
     "output_type": "stream",
     "text": [
      "(4067,)\n",
      "(3658,)\n"
     ]
    }
   ],
   "source": [
    "apogee2 = fits.open('/Users/qpasa/Desktop/GC_chemistry/Baumgardt+Harris_selection/Remake_nopms_2sigma/merged.fits')\n",
    "data2 = apogee2[1].data\n",
    "print(np.shape(data2))\n",
    "fehs = data2.field('FE_H')\n",
    "name = data2.field('gc_name')\n",
    "\n",
    "data2 = data2[fehs>-10]"
   ]
  },
  {
   "cell_type": "code",
   "execution_count": 11,
   "metadata": {},
   "outputs": [
    {
     "name": "stdout",
     "output_type": "stream",
     "text": [
      "(57,)\n"
     ]
    }
   ],
   "source": [
    "# set up a list with the GC names\n",
    "names = ['Rup106', 'NGC6715', 'NGC6517', 'NGC1904', 'NGC6528', 'NGC2808', 'NGC5024', 'NGC6539', 'NGC6316', 'Liller1',\n",
    "         'NGC5634', 'NGC7078', 'NGC6171', 'NGC6205', 'NGC6760', 'NGC5053', 'NGC6229', 'NGC6388', 'NGC5904', 'NGC6809',\n",
    "         'Terzan2', 'NGC6838', 'UKS1', 'NGC6540', 'NGC4590', 'Terzan1', 'NGC6218', 'NGC5466', 'BH261', 'NGC3201',\n",
    "         'NGC6341', 'Terzan4', 'NGC6553', 'NGC5927', 'NGC362', 'NGC4147', 'Terzan5', 'NGC7089', 'NGC6397', 'NGC5139',\n",
    "         'NGC6752', 'NGC6544', 'NGC5272', 'NGC6380', 'Pal10', 'NGC6522', 'NGC104', 'Pal6', 'NGC6441', 'NGC1851',\n",
    "         'NGC6723', 'Pal5', 'NGC6656', 'NGC6121', 'NGC288', 'HP1', 'NGC6254']"
   ]
  },
  {
   "cell_type": "code",
   "execution_count": 28,
   "metadata": {
    "scrolled": false
   },
   "outputs": [
    {
     "name": "stdout",
     "output_type": "stream",
     "text": [
      "(3,)\n",
      "(3657,)\n"
     ]
    },
    {
     "name": "stderr",
     "output_type": "stream",
     "text": [
      "/Users/qpasa/opt/anaconda3/lib/python3.7/site-packages/ipykernel_launcher.py:221: UserWarning: Calling figure.constrained_layout, but figure not setup to do constrained layout.  You either called GridSpec without the fig keyword, you are using plt.subplot, or you need to call figure or subplots with the constrained_layout=True kwarg.\n",
      "/Users/qpasa/opt/anaconda3/lib/python3.7/site-packages/ipykernel_launcher.py:221: UserWarning: Calling figure.constrained_layout, but figure not setup to do constrained layout.  You either called GridSpec without the fig keyword, you are using plt.subplot, or you need to call figure or subplots with the constrained_layout=True kwarg.\n",
      "/Users/qpasa/opt/anaconda3/lib/python3.7/site-packages/ipykernel_launcher.py:221: UserWarning: Calling figure.constrained_layout, but figure not setup to do constrained layout.  You either called GridSpec without the fig keyword, you are using plt.subplot, or you need to call figure or subplots with the constrained_layout=True kwarg.\n",
      "/Users/qpasa/opt/anaconda3/lib/python3.7/site-packages/IPython/core/pylabtools.py:128: UserWarning: Calling figure.constrained_layout, but figure not setup to do constrained layout.  You either called GridSpec without the fig keyword, you are using plt.subplot, or you need to call figure or subplots with the constrained_layout=True kwarg.\n",
      "  fig.canvas.print_figure(bytes_io, **kw)\n"
     ]
    },
    {
     "data": {
      "image/png": "[encoded data removed]",
      "text/plain": [
       "<Figure size 1080x1296 with 3 Axes>"
      ]
     },
     "metadata": {
      "needs_background": "light"
     },
     "output_type": "display_data"
    }
   ],
   "source": [
    "# This cell contains the script to compute the histograms in the appendix section of the paper. You need to comment\n",
    "# out and change labels accordingly to replicate the plots.\n",
    "\n",
    "import matplotlib.gridspec as grid\n",
    "apogee2 = fits.open('/Users/qpasa/Desktop/GC_chemistry/Baumgardt+Harris_selection/Remake_nopms_2sigma/merged.fits')\n",
    "data2 = apogee2[1].data\n",
    "\n",
    "fehs = data2.field('FE_H')\n",
    "sifes = data2.field('SI_FE')\n",
    "\n",
    "mask = (sifes>-10.)&(fehs>-10.)\n",
    "\n",
    "data2 = data2[mask]\n",
    "\n",
    "# # load in the Harris catalog metallicities\n",
    "# apogee3 = fits.open('/Users/qpasa/Desktop/GC_ids/data/harris+baumgardt.fits')\n",
    "# data3 = apogee3[1].data\n",
    "\n",
    "# fehs_H = data3.field('[Fe/H]')\n",
    "# names_H = data3.field('Name')\n",
    "\n",
    "# names= ['NGC104','NGC288','NGC362','Whiting1','NGC1261','Pal1','AM1'\n",
    "# ,'Eridanus','Pal2','NGC1851','NGC1904','NGC2298','NGC2419','Ko2'\n",
    "# ,'Pyxis','NGC2808','E3','Pal3','NGC3201','Pal4','Ko1','NGC4147'\n",
    "# ,'NGC4372','Rup106','NGC4590','NGC4833','NGC5024','NGC5053'\n",
    "# ,'NGC5139','NGC5272','NGC5286','AM4','NGC5466','NGC5634','NGC5694'\n",
    "# ,'IC4499','NGC5824','Pal5','NGC5897','NGC5904','NGC5927','NGC5946'\n",
    "# ,'BH176','NGC5986','Lynga7','Pal14','NGC6093','NGC6121','NGC6101'\n",
    "# ,'NGC6144','NGC6139','Terzan3','NGC6171','1636-283','NGC6205'\n",
    "# ,'NGC6229','NGC6218','FSR1735','NGC6235','NGC6254','NGC6256'\n",
    "# ,'Pal15','NGC6266','NGC6273','NGC6284','NGC6287','NGC6293'\n",
    "# ,'NGC6304','NGC6316','NGC6341','NGC6325','NGC6333','NGC6342'\n",
    "# ,'NGC6356','NGC6355','','NGC6352','IC1257','Terzan2','NGC6366'\n",
    "# ,'Terzan4','HP1','NGC6362','Liller1','NGC6380','Terzan1','Ton2'\n",
    "# ,'NGC6388','NGC6402','NGC6401','NGC6397','Pal6','NGC6426','Djorg1'\n",
    "# ,'Terzan5','NGC6440','NGC6441','Terzan6','NGC6453','UKS1','NGC6496'\n",
    "# ,'Terzan9','Djorg2','NGC6517','Terzan10','NGC6522','NGC6535'\n",
    "# ,'NGC6528','NGC6539','NGC6540','NGC6544','NGC6541','2MS-GC01'\n",
    "# ,'ESO-SC06','NGC6553','2MS-GC02','NGC6558','IC1276','Terzan12'\n",
    "# ,'NGC6569','BH261','GLIMPSE02','NGC6584','NGC6624','NGC6626'\n",
    "# ,'NGC6638','NGC6637','NGC6642','NGC6652','NGC6656','Pal8','NGC6681'\n",
    "# ,'GLIMPSE01','NGC6712','NGC6715','NGC6717','NGC6723','NGC6749'\n",
    "# ,'NGC6752','NGC6760','NGC6779','Terzan7','Pal10','Arp2','NGC6809'\n",
    "# ,'Terzan8','Pal11','NGC6838','NGC6864','NGC6934','NGC6981'\n",
    "# ,'NGC7006','NGC7078','NGC7089','NGC7099','Pal12','Pal13','NGC7492','Terzan9']\n",
    "# print(np.shape(names))\n",
    "\n",
    "# 57 GCs before removing low number members (below 3 members)\n",
    "# names = ['Rup106', 'NGC6715', 'NGC6517', 'NGC1904', 'NGC6528', 'NGC2808', 'NGC5024', 'NGC6539', 'NGC6316', 'Liller1',\n",
    "#          'NGC5634', 'NGC7078', 'NGC6171', 'NGC6205', 'NGC6760', 'NGC5053', 'NGC6229', 'NGC6388', 'NGC5904', 'NGC6809',\n",
    "#          'Terzan2', 'NGC6838', 'UKS1', 'NGC6540', 'NGC4590', 'Terzan1', 'NGC6218', 'NGC5466', 'BH261', 'NGC3201',\n",
    "#          'NGC6341', 'Terzan4', 'NGC6553', 'NGC5927', 'NGC362', 'NGC4147', 'Terzan5', 'NGC7089', 'NGC6397', 'NGC5139',\n",
    "#          'NGC6752', 'NGC6544', 'NGC5272', 'NGC6380', 'Pal10', 'NGC6522', 'NGC104', 'Pal6', 'NGC6441', 'NGC1851',\n",
    "#          'NGC6723', 'Pal5', 'NGC6656', 'NGC6121', 'NGC288', 'HP1', 'NGC6254']\n",
    "\n",
    "# names = [ 'NGC104','NGC288','NGC362','NGC1851','NGC1904','NGC2808','NGC3201','NGC4590','NGC5024','NGC5053',\\\n",
    "#         'NGC5272','NGC5466','NGC5904','NGC6121','NGC6171','NGC6205','NGC6218','NGC6229','NGC6254','NGC6341']\n",
    "\n",
    "# names = [ 'NGC6380','NGC6388','NGC6397','NGC6441','NGC6522','NGC6539','NGC6540','NGC6544','NGC6553',\\\n",
    "#         'NGC6656','NGC6723','NGC6752','NGC6760','NGC6809','NGC6838','NGC7078','NGC7089','Terzan2','Pal5','Pal6',]\n",
    "         \n",
    "names = [ 'Pal10','Liller1','HP1']\n",
    "# names = ['NGC6121']\n",
    "# check sizes of arrays\n",
    "print(np.shape(names))\n",
    "print(np.shape(data2))\n",
    "\n",
    "# loop through the data and refine our GC sample in APOGEE using the MDF clipping method\n",
    "fig = plt.figure(constrained_layout=True,figsize=(15,18))\n",
    "gs = grid.GridSpec(5,4)\n",
    "# gs = grid.GridSpec(2,4)\n",
    "p = 0\n",
    "for i in names:\n",
    "    if i in data2['gc_name']:\n",
    "        fehs = data2['FE_H']\n",
    "        vlos = data2['VHELIO_AVG']\n",
    "        sifes = data2['SI_FE']\n",
    "        gc_name = data2['gc_name']\n",
    "        fehs = fehs[np.where(data2['gc_name']==i)]\n",
    "        vlos = vlos[np.where(data2['gc_name']==i)]\n",
    "        sifes = sifes[np.where(data2['gc_name']==i)]\n",
    "        gc_name = gc_name[np.where(data2['gc_name']==i)]\n",
    "#         print(np.shape(fehs))\n",
    "        mean = np.mean(fehs)\n",
    "        sigma = np.std(fehs)\n",
    "#         print('old sigma and mean')\n",
    "#         print(mean,sigma)\n",
    "        fehs2 = fehs[np.fabs(mean-fehs)<(1.*sigma)]\n",
    "        vlos2 = vlos[np.fabs(mean-fehs)<(1.*sigma)]\n",
    "        sifes2 = sifes[np.fabs(mean-fehs)<(1.*sigma)]\n",
    "        names2 = gc_name[np.fabs(mean-fehs)<(1.*sigma)]\n",
    "#         print(np.shape(fehs2))\n",
    "        mean2 = np.mean(fehs2)\n",
    "        sigma2 = np.std(fehs2)\n",
    "#         print('new sigma and mean')\n",
    "#         print(mean2,sigma2)\n",
    "\n",
    "        fehs3 = fehs2[np.fabs(mean2-fehs2)<=(2.*sigma2)]\n",
    "        vlos3 = vlos2[np.fabs(mean2-fehs2)<(1.*sigma2)]\n",
    "        sifes3 = sifes2[np.fabs(mean2-fehs2)<(1.*sigma2)]\n",
    "        names3 = names2[np.fabs(mean2-fehs2)<(1.*sigma2)]\n",
    "#         print(gc_name[0])\n",
    "#         print(np.shape(fehs3))\n",
    "        mean3 = np.mean(fehs3)\n",
    "        sigma3 = np.std(fehs3)\n",
    "        sigma_rvs3 = np.std(vlos3)\n",
    "#         print(sigma3)\n",
    "#         print(sigma_rvs3)\n",
    "#         print('new sigma and mean')\n",
    "#         print(mean3,sigma3)\n",
    "#         if len(names3)>0.:\n",
    "#             print(names3[0])\n",
    "#             print(np.mean(fehs3))\n",
    "#             print(np.mean(vlos3))\n",
    "#             print(np.mean(sifes3))\n",
    "#         else:\n",
    "#             pass\n",
    "#         plt.title(gc_name [0],fontsize=16)\n",
    "#         plt.hist(fehs,20,range=(-2.5,0.5),histtype='step',color='b',label='Initial Sample')\n",
    "#         plt.hist(fehs2,20,range=(-2.5,0.5),histtype='step',color='orange',label='1stclip')\n",
    "#         plt.hist(fehs3,20,range=(-2.5,0.5),histtype='step',color='red',label='2ndclip')\n",
    "#         plt.title(gc_name[0])\n",
    "#         plt.hist(vlos,8,histtype='step',color='b',label='Initial Sample')\n",
    "#         plt.hist(vlos2,8,histtype='step',color='orange',label='1stclip')\n",
    "#         plt.hist(vlos3,8,histtype='step',color='red',label='2ndclip')\n",
    "#         plt.legend(loc='upper left')\n",
    "#         plt.xlim(-1.6,-0.6)\n",
    "#         plt.xlabel('[Fe/H]]',fontsize=14)\n",
    "#         plt.legend(loc='upper left')\n",
    "#         plt.ylabel('N',fontsize=14)\n",
    "#         plt.show()\n",
    "        ax = fig.add_subplot(gs[p])\n",
    "        ax.hist(fehs,50,range=(-2.5,0.5),histtype='step',color='b',label='Initial Sample')\n",
    "        ax.hist(fehs2,50,range=(-2.5,0.5),histtype='step',color='orange',label='1stclip')\n",
    "        ax.hist(fehs3,50,range=(-2.5,0.5),histtype='step',color='red',label='2ndclip')        \n",
    "#         ax.set_xlabel('[Fe/H]]')\n",
    "#         ax.set_ylabel('N')\n",
    "        ax.set_title(gc_name[0])\n",
    "        ax.set_xlim(np.min(fehs)-0.2,np.max(fehs)+0.2)\n",
    "        p+=1\n",
    "#         ax = fig.add_subplot(gs[p])\n",
    "#         ax.hist(vlos,6,histtype='step',color='b',label='Initial Sample')\n",
    "#         ax.hist(vlos2,6,histtype='step',color='orange',label='1stclip')\n",
    "#         ax.hist(vlos3,6,histtype='step',color='red',label='2ndclip')        \n",
    "# # #         ax.set_xlabel('[Fe/H]]')\n",
    "# # #         ax.set_ylabel('signal')\n",
    "#         plt.title(gc_name[0])\n",
    "#         plt.xlim(np.min(vlos)-5,np.max(vlos)+5)\n",
    "#         p+=1\n",
    "#         gs.update(wspace=0.2,hspace=0.5)\n",
    "axis = fig.axes\n",
    "# # print(axis)\n",
    "# axis[0].set(ylabel='N')\n",
    "# axis[4].set(ylabel='N')\n",
    "# axis[8].set(ylabel='N')\n",
    "# axis[12].set(ylabel='N')\n",
    "\n",
    "# axis[16].set(xlabel='[Fe/H]',ylabel='N')\n",
    "# axis[17].set(xlabel='[Fe/H]')\n",
    "# axis[18].set(xlabel='[Fe/H]')\n",
    "# axis[19].set(xlabel='[Fe/H]')\n",
    "\n",
    "# gs.update(wspace=0.2,hspace=0.5)\n",
    "# # axis = fig.axes\n",
    "# # # print(axis)\n",
    "# axis[0].set(ylabel='N')\n",
    "# axis[5].set(ylabel='N')\n",
    "# # axis[8].set(ylabel='N')\n",
    "# # axis[12].set(ylabel='N')\n",
    "\n",
    "# # axis[16].set(xlabel='rv',ylabel='N')\n",
    "# axis[1].set(xlabel='[Fe/H]')\n",
    "# axis[2].set(xlabel='[Fe/H]')\n",
    "# axis[3].set(xlabel='[Fe/H]')\n",
    "# axis[4].set(xlabel='[Fe/H]')\n",
    "# axis[5].set(xlabel='[Fe/H]')\n",
    "\n",
    "\n",
    "\n",
    "axis[0].set(ylabel='N')\n",
    "# axis[4].set(ylabel='N')\n",
    "# axis[8].set(ylabel='N')\n",
    "# axis[12].set(ylabel='N')\n",
    "# axis[16].set(ylabel='N')\n",
    "axis[0].tick_params(labelsize=10)\n",
    "# axis[4].tick_params(labelsize=10)\n",
    "# axis[5].tick_params(labelsize=10)\n",
    "# axis[1].tick_params(labelsize=10)\n",
    "# axis[2].tick_params(labelsize=10)\n",
    "# axis[3].tick_params(labelsize=10)\n",
    "# axis[5].tick_params(labelsize=10)\n",
    "# axis[6].tick_params(labelsize=10)\n",
    "# axis[7].tick_params(labelsize=10)\n",
    "# axis[9].tick_params(labelsize=10)\n",
    "# axis[10].tick_params(labelsize=10)\n",
    "# axis[11].tick_params(labelsize=10)\n",
    "\n",
    "\n",
    "axis[0].set(xlabel='[Fe/H]')\n",
    "axis[1].set(xlabel='[Fe/H]')\n",
    "axis[2].set(xlabel='[Fe/H]')\n",
    "# axis[19].set(xlabel='[Fe/H]')\n",
    "axis[0].tick_params(labelsize=10)\n",
    "axis[1].tick_params(labelsize=10)\n",
    "axis[2].tick_params(labelsize=10)\n",
    "# axis[12].tick_params(labelsize=10)\n",
    "# axis[16].tick_params(labelsize=10)\n",
    "# axis[17].tick_params(labelsize=10)\n",
    "# axis[18].tick_params(labelsize=10)\n",
    "# axis[19].tick_params(labelsize=10)\n",
    "\n",
    "# # axis[0].set(ylabel='N')\n",
    "# # axis[4].set(ylabel='N')\n",
    "# # axis[8].set(ylabel='N')\n",
    "# # axis[12].set(ylabel='N')\n",
    "\n",
    "# # axis[13].set(xlabel='[Fe/H]',ylabel='N')\n",
    "# # axis[14].set(xlabel='[Fe/H]')\n",
    "# # axis[15].set(xlabel='[Fe/H]')\n",
    "# # axis[12].set(xlabel='[Fe/H]')\n",
    "\n",
    "gs.update(wspace=0.3,hspace=0.3)\n",
    "plt.savefig('fehs_batch3_latest', format='pdf', dpi=400, bbox_inches='tight')\n",
    "\n",
    "\n",
    "\n",
    "\n",
    "\n",
    "\n"
   ]
  },
  {
   "cell_type": "code",
   "execution_count": 26,
   "metadata": {},
   "outputs": [],
   "source": [
    "apogee2 = fits.open('/Users/qpasa/Desktop/GC_ids/data/GC_final_Baumgardt_selection_nopms')\n",
    "data2 = apogee2[1].data\n",
    "\n"
   ]
  },
  {
   "cell_type": "code",
   "execution_count": 31,
   "metadata": {},
   "outputs": [
    {
     "name": "stdout",
     "output_type": "stream",
     "text": [
      "NGC6715\n",
      "-0.10244373 0.12204653\n",
      "Terzan5\n",
      "0.07763625 0.112892136\n",
      "NGC5139\n",
      "0.27067345 0.08753364\n",
      "NGC5053\n",
      "0.38360196 0.096024245\n",
      "Terzan2\n",
      "0.2608395 0.015363813\n",
      "NGC7089\n",
      "0.18932126 0.06684162\n",
      "Pal5\n",
      "0.109905325 0.038576193\n",
      "NGC6723\n",
      "0.24791911 0.032349326\n"
     ]
    }
   ],
   "source": [
    "# store the ones not needing a clip\n",
    "names2 = ['NGC6715','Terzan5','NGC5139','NGC5053','Terzan2','NGC7089','Pal5','NGC6723']\n",
    "        \n",
    "for i in names2:\n",
    "    if i in data2['gc_name']:\n",
    "        fehs = data2['FE_H']\n",
    "        sifes = data2['SI_FE']\n",
    "        gc_name = data2['gc_name']\n",
    "        vlos = data2['VHELIO_AVG']\n",
    "        apo_ids = data2['APOGEE_ID']\n",
    "        fehs = fehs[np.where(data2['gc_name']==i)]\n",
    "        vlos = vlos[np.where(data2['gc_name']==i)]\n",
    "        sifes = sifes[np.where(data2['gc_name']==i)]\n",
    "        gc_name = gc_name[np.where(data2['gc_name']==i)]\n",
    "        apo_ids = apo_ids[np.where(data2['gc_name']==i)]\n",
    "        print(gc_name[0])\n",
    "#         print(np.mean(fehs),np.std(fehs))\n",
    "#         print(np.mean(vlos),np.std(vlos))\n",
    "        print(np.mean(sifes),np.std(sifes))\n",
    "#         rec = np.recarray(len(apo_ids), dtype=[('apogee_id',object),\n",
    "#                                             ('name', object)])\n",
    "#         rec['apogee_id'] = apo_ids\n",
    "#         rec['name'] = gc_name\n",
    "#         np.savetxt('/Users/qpasa/Desktop/GC_ids/Baumgardt+Harris_selection/Remake_nopms_2sigma_final/'+i+'.txt',rec,fmt='%s')\n"
   ]
  },
  {
   "cell_type": "code",
   "execution_count": 692,
   "metadata": {
    "scrolled": true
   },
   "outputs": [
    {
     "name": "stdout",
     "output_type": "stream",
     "text": [
      "NGC2808\n",
      "0.15124919 0.055898998\n",
      "NGC7078\n",
      "0.31229672 0.07052934\n",
      "NGC6171\n",
      "0.3185428 0.07711292\n",
      "NGC6760\n",
      "0.18952344 0.04873649\n",
      "NGC6809\n",
      "0.22495605 0.050702453\n",
      "NGC4590\n",
      "0.33110046 0.04538027\n",
      "NGC3201\n",
      "0.15754892 0.04089314\n",
      "NGC6341\n",
      "0.31392902 0.067816176\n",
      "NGC362\n",
      "0.1267355 0.043072235\n",
      "NGC6397\n",
      "0.30331156 0.05639547\n",
      "NGC6752\n",
      "0.23549604 0.04928271\n",
      "NGC288\n",
      "0.2976249 0.03431226\n",
      "NGC6254\n",
      "0.26791912 0.047183733\n",
      "NGC6121\n",
      "0.33981487 0.04055069\n",
      "NGC6656\n",
      "0.2882283 0.11043721\n"
     ]
    }
   ],
   "source": [
    "# get all the GCs we clip once\n",
    "names3 = ['NGC2808','NGC7078','NGC6171','NGC6760','NGC6809','NGC4590','NGC3201','NGC6341','NGC362',\\\n",
    "          'NGC6397','NGC6752','NGC288','NGC6254','NGC6121','NGC6656']\n",
    "\n",
    "for i in names3:\n",
    "    if i in data2['gc_name']:\n",
    "        fehs = data2['FE_H']\n",
    "        sifes = data2['SI_FE']\n",
    "        gc_name = data2['gc_name']\n",
    "        vlos = data2['VHELIO_AVG']\n",
    "        apo_ids = data2['APOGEE_ID']\n",
    "        fehs = fehs[np.where(data2['gc_name']==i)]\n",
    "        vlos = vlos[np.where(data2['gc_name']==i)]\n",
    "        sifes = sifes[np.where(data2['gc_name']==i)]\n",
    "        gc_name = gc_name[np.where(data2['gc_name']==i)]\n",
    "        apo_ids = apo_ids[np.where(data2['gc_name']==i)]\n",
    "#         print(np.shape(fehs))\n",
    "        mean = np.mean(fehs)\n",
    "        sigma = np.std(fehs)\n",
    "#         print('old sigma and mean')\n",
    "#         print(mean,sigma)\n",
    "        fehs2 = fehs[np.fabs(mean-fehs)<(1.*sigma)]\n",
    "        gc_name2 = gc_name[np.fabs(mean-fehs)<(1.*sigma)]\n",
    "        apo_ids2 = apo_ids[np.fabs(mean-fehs)<(1.*sigma)]\n",
    "        vlos2 = vlos[np.fabs(mean-fehs)<(1.*sigma)]\n",
    "        sifes2 = sifes[np.fabs(mean-fehs)<(1.*sigma)]\n",
    "#         print(np.shape(fehs2))\n",
    "        mean2 = np.mean(fehs2)\n",
    "        sigma2 = np.std(fehs2)\n",
    "#         print('new sigma and mean')\n",
    "#         print(mean2,sigma2)\n",
    "        print(gc_name2[0])\n",
    "#         print(np.mean(fehs2),np.std(fehs2))\n",
    "#         print(np.mean(vlos2),np.std(vlos2))\n",
    "        print(np.mean(sifes2),np.std(sifes2))\n",
    "\n",
    "#         rec = np.recarray(len(apo_ids2), dtype=[('apogee_id',object),\n",
    "#                                             ('name', object)])\n",
    "#         rec['apogee_id'] = apo_ids2\n",
    "#         rec['name'] = gc_name2\n",
    "#         np.savetxt('/Users/qpasa/Desktop/GC_ids/Baumgardt+Harris_selection/Remake_nopms_2sigma_final/'+i+'.txt',rec,fmt='%s')\n",
    "\n"
   ]
  },
  {
   "cell_type": "code",
   "execution_count": 693,
   "metadata": {},
   "outputs": [
    {
     "name": "stdout",
     "output_type": "stream",
     "text": [
      "NGC1904\n",
      "0.14947347 0.042943053\n",
      "NGC5024\n",
      "0.24579869 0.078967236\n",
      "NGC6539\n",
      "0.20449032 0.07167215\n",
      "Liller1\n",
      "0.013930501 0.04957019\n",
      "NGC6205\n",
      "0.20605776 0.06906504\n",
      "NGC6229\n",
      "0.19291033 0.06119332\n",
      "NGC5904\n",
      "0.18383262 0.04903543\n",
      "NGC6838\n",
      "0.21550794 0.03032711\n",
      "NGC6388\n",
      "-0.034527283 0.100034505\n",
      "NGC6540\n",
      "0.21175203 0.035701722\n",
      "NGC6218\n",
      "0.25535008 0.0486344\n",
      "NGC5466\n",
      "0.18742181 0.12082274\n",
      "NGC6553\n",
      "0.09009069 0.069752045\n",
      "NGC6544\n",
      "0.21968442 0.04425401\n",
      "NGC104\n",
      "0.23388414 0.04042804\n",
      "NGC6522\n",
      "0.21539032 0.10256777\n",
      "Pal10\n",
      "-0.0037310019 0.012507817\n",
      "NGC6380\n",
      "0.20551798 0.021878285\n",
      "NGC5272\n",
      "0.16689894 0.071403004\n",
      "Pal6\n",
      "0.277548 0.07498644\n",
      "NGC6441\n",
      "0.13213976 0.13272859\n",
      "NGC1851\n",
      "0.1426886 0.05008682\n",
      "HP1\n",
      "0.21502952 0.06099403\n"
     ]
    }
   ],
   "source": [
    "# get all the GCs we clip twice\n",
    "# names4 = ['NGC104','NGC1851','NGC1904','NGC4147','NGC5024','NGC5053','NGC5272','NGC6121','NGC6205','NGC6229',\\\n",
    "#          'NGC6218','NGC6341','Terzan4','Liller1','Terzan4','Liller1','NGC6388','Pal6',\\\n",
    "#          'NGC6441','UKS1','Terzan9','NGC6522','NGC6539','NGC6540','NGC6553','NGC6656',\\\n",
    "#          'NGC6715','NGC6723','NGC6760','NGC6838','NGC7089']\n",
    "\n",
    "names4 = ['NGC1904','NGC5024','NGC6539','Liller1','NGC6205','NGC6229','NGC5904','NGC6838','NGC6388',\\\n",
    "         'NGC6540','NGC6218','NGC5466','NGC6553','NGC6544','NGC104','NGC6522','Pal10','NGC6380',\\\n",
    "        'NGC5272','Pal6','NGC6441','NGC1851','HP1']\n",
    "\n",
    "for i in names4:\n",
    "    if i in data2['gc_name']:\n",
    "        fehs = data2['FE_H']\n",
    "        sifes = data2['SI_FE']\n",
    "        gc_name = data2['gc_name']\n",
    "        vlos = data2['VHELIO_AVG']\n",
    "        apo_ids = data2['APOGEE_ID']\n",
    "        fehs = fehs[np.where(data2['gc_name']==i)]\n",
    "        vlos = vlos[np.where(data2['gc_name']==i)]\n",
    "        sifes = sifes[np.where(data2['gc_name']==i)]\n",
    "        gc_name = gc_name[np.where(data2['gc_name']==i)]\n",
    "        apo_ids = apo_ids[np.where(data2['gc_name']==i)]\n",
    "#         print(np.shape(fehs))\n",
    "        mean = np.mean(fehs)\n",
    "        sigma = np.std(fehs)\n",
    "#         print('old sigma and mean')\n",
    "#         print(mean,sigma)\n",
    "        fehs2 = fehs[np.fabs(mean-fehs)<(1.*sigma)]\n",
    "        gc_name2 = gc_name[np.fabs(mean-fehs)<(1.*sigma)]\n",
    "        apo_ids2 = apo_ids[np.fabs(mean-fehs)<(1.*sigma)]\n",
    "        vlos2 = vlos[np.fabs(mean-fehs)<(1.*sigma)]\n",
    "        sifes2 = sifes[np.fabs(mean-fehs)<(1.*sigma)]\n",
    "#         print(np.shape(fehs2))\n",
    "        mean2 = np.mean(fehs2)\n",
    "        sigma2 = np.std(fehs2)\n",
    "#         print('new sigma and mean')\n",
    "#         print(mean2,sigma2)\n",
    "        fehs3 = fehs2[np.fabs(mean2-fehs2)<=(2.*sigma2)]\n",
    "        gc_name3 = gc_name2[np.fabs(mean2-fehs2)<(2.*sigma2)]\n",
    "        apo_ids3 = apo_ids2[np.fabs(mean2-fehs2)<(2.*sigma2)]\n",
    "        vlos3 = vlos2[np.fabs(mean2-fehs2)<(2.*sigma2)]\n",
    "        sifes3 = sifes2[np.fabs(mean2-fehs2)<(2.*sigma2)]\n",
    "#         print(np.shape(fehs3))\n",
    "        mean3 = np.mean(fehs3)\n",
    "        sigma3 = np.std(fehs3)\n",
    "#         print('new sigma and mean')\n",
    "#         print(mean3,sigma3)\n",
    "        print(gc_name3[0])\n",
    "#         print(np.mean(fehs3),np.std(fehs3))\n",
    "#         print(np.mean(vlos3),np.std(vlos3))\n",
    "        print(np.mean(sifes3),np.std(sifes3))\n",
    "        \n",
    "#         rec = np.recarray(len(apo_ids3), dtype=[('apogee_id',object),\n",
    "#                                         ('name', object)])\n",
    "#         rec['apogee_id'] = apo_ids3\n",
    "#         rec['name'] = gc_name3\n",
    "#         np.savetxt('/Users/qpasa/Desktop/GC_ids/Baumgardt+Harris_selection/Remake_nopms_2sigma_final/'+i+'.txt',rec,fmt='%s')\n",
    "\n",
    "\n",
    "\n"
   ]
  },
  {
   "cell_type": "code",
   "execution_count": 650,
   "metadata": {},
   "outputs": [],
   "source": [
    "# saved the clipped sample\n",
    "import glob\n",
    "import sys\n",
    "files = glob.glob(\"/Users/qpasa/Desktop/GC_ids/Baumgardt+Harris_selection/Remake_nopms_2sigma_final/*.txt\")\n",
    "# print(np.shape(files))\n",
    "\n",
    "complete2=[]\n",
    "for i in files:\n",
    "    file = np.array(np.loadtxt(i,dtype='str'))\n",
    "    complete2.extend(file)\n",
    "    "
   ]
  },
  {
   "cell_type": "code",
   "execution_count": 651,
   "metadata": {},
   "outputs": [
    {
     "name": "stdout",
     "output_type": "stream",
     "text": [
      "(3090, 2)\n"
     ]
    }
   ],
   "source": [
    "# save the full clipped sample together in one file\n",
    "print(np.shape(complete2))\n",
    "np.savetxt('/Users/qpasa/Desktop/GC_ids/Baumgardt+Harris_selection/Remake_nopms_2sigma_final/complete2.txt',complete2,fmt='%s')\n",
    "\n"
   ]
  }
 ],
 "metadata": {
  "kernelspec": {
   "display_name": "Python 3",
   "language": "python",
   "name": "python3"
  },
  "language_info": {
   "codemirror_mode": {
    "name": "ipython",
    "version": 3
   },
   "file_extension": ".py",
   "mimetype": "text/x-python",
   "name": "python",
   "nbconvert_exporter": "python",
   "pygments_lexer": "ipython3",
   "version": "3.7.6"
  }
 },
 "nbformat": 4,
 "nbformat_minor": 2
}
